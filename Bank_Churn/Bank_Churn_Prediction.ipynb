{
 "cells": [
  {
   "cell_type": "code",
   "execution_count": 828,
   "id": "df9d09fd",
   "metadata": {},
   "outputs": [],
   "source": [
    "import numpy as np\n",
    "import pandas as pd\n",
    "import matplotlib.pyplot as plt\n",
    "import seaborn as sns\n",
    "from scipy.stats import ttest_ind, chi2_contingency, chi2\n",
    "from sklearn.model_selection import train_test_split, cross_val_score\n",
    "from sklearn.preprocessing import OrdinalEncoder, MinMaxScaler, LabelEncoder\n",
    "import time\n",
    "from imblearn.over_sampling import SMOTE, RandomOverSampler\n",
    "from imblearn.under_sampling import RandomUnderSampler, TomekLinks, OneSidedSelection\n",
    "from sklearn.naive_bayes import GaussianNB\n",
    "from sklearn.linear_model import LogisticRegression\n",
    "from sklearn.neighbors import KNeighborsClassifier\n",
    "from sklearn.ensemble import RandomForestClassifier, AdaBoostClassifier\n",
    "from sklearn.tree import DecisionTreeClassifier\n",
    "from xgboost import XGBClassifier\n",
    "from sklearn.svm import SVC\n",
    "from sklearn.metrics import accuracy_score, classification_report"
   ]
  },
  {
   "cell_type": "code",
   "execution_count": 829,
   "id": "599d9ba3",
   "metadata": {},
   "outputs": [
    {
     "data": {
      "text/html": [
       "<div>\n",
       "<style scoped>\n",
       "    .dataframe tbody tr th:only-of-type {\n",
       "        vertical-align: middle;\n",
       "    }\n",
       "\n",
       "    .dataframe tbody tr th {\n",
       "        vertical-align: top;\n",
       "    }\n",
       "\n",
       "    .dataframe thead th {\n",
       "        text-align: right;\n",
       "    }\n",
       "</style>\n",
       "<table border=\"1\" class=\"dataframe\">\n",
       "  <thead>\n",
       "    <tr style=\"text-align: right;\">\n",
       "      <th></th>\n",
       "      <th>customer_id</th>\n",
       "      <th>credit_score</th>\n",
       "      <th>country</th>\n",
       "      <th>gender</th>\n",
       "      <th>age</th>\n",
       "      <th>tenure</th>\n",
       "      <th>balance</th>\n",
       "      <th>products_number</th>\n",
       "      <th>credit_card</th>\n",
       "      <th>active_member</th>\n",
       "      <th>estimated_salary</th>\n",
       "      <th>churn</th>\n",
       "    </tr>\n",
       "  </thead>\n",
       "  <tbody>\n",
       "    <tr>\n",
       "      <th>0</th>\n",
       "      <td>15634602</td>\n",
       "      <td>619</td>\n",
       "      <td>France</td>\n",
       "      <td>Female</td>\n",
       "      <td>42</td>\n",
       "      <td>2</td>\n",
       "      <td>0.00</td>\n",
       "      <td>1</td>\n",
       "      <td>1</td>\n",
       "      <td>1</td>\n",
       "      <td>101348.88</td>\n",
       "      <td>1</td>\n",
       "    </tr>\n",
       "    <tr>\n",
       "      <th>1</th>\n",
       "      <td>15647311</td>\n",
       "      <td>608</td>\n",
       "      <td>Spain</td>\n",
       "      <td>Female</td>\n",
       "      <td>41</td>\n",
       "      <td>1</td>\n",
       "      <td>83807.86</td>\n",
       "      <td>1</td>\n",
       "      <td>0</td>\n",
       "      <td>1</td>\n",
       "      <td>112542.58</td>\n",
       "      <td>0</td>\n",
       "    </tr>\n",
       "    <tr>\n",
       "      <th>2</th>\n",
       "      <td>15619304</td>\n",
       "      <td>502</td>\n",
       "      <td>France</td>\n",
       "      <td>Female</td>\n",
       "      <td>42</td>\n",
       "      <td>8</td>\n",
       "      <td>159660.80</td>\n",
       "      <td>3</td>\n",
       "      <td>1</td>\n",
       "      <td>0</td>\n",
       "      <td>113931.57</td>\n",
       "      <td>1</td>\n",
       "    </tr>\n",
       "    <tr>\n",
       "      <th>3</th>\n",
       "      <td>15701354</td>\n",
       "      <td>699</td>\n",
       "      <td>France</td>\n",
       "      <td>Female</td>\n",
       "      <td>39</td>\n",
       "      <td>1</td>\n",
       "      <td>0.00</td>\n",
       "      <td>2</td>\n",
       "      <td>0</td>\n",
       "      <td>0</td>\n",
       "      <td>93826.63</td>\n",
       "      <td>0</td>\n",
       "    </tr>\n",
       "    <tr>\n",
       "      <th>4</th>\n",
       "      <td>15737888</td>\n",
       "      <td>850</td>\n",
       "      <td>Spain</td>\n",
       "      <td>Female</td>\n",
       "      <td>43</td>\n",
       "      <td>2</td>\n",
       "      <td>125510.82</td>\n",
       "      <td>1</td>\n",
       "      <td>1</td>\n",
       "      <td>1</td>\n",
       "      <td>79084.10</td>\n",
       "      <td>0</td>\n",
       "    </tr>\n",
       "  </tbody>\n",
       "</table>\n",
       "</div>"
      ],
      "text/plain": [
       "   customer_id  credit_score country  gender  age  tenure    balance  \\\n",
       "0     15634602           619  France  Female   42       2       0.00   \n",
       "1     15647311           608   Spain  Female   41       1   83807.86   \n",
       "2     15619304           502  France  Female   42       8  159660.80   \n",
       "3     15701354           699  France  Female   39       1       0.00   \n",
       "4     15737888           850   Spain  Female   43       2  125510.82   \n",
       "\n",
       "   products_number  credit_card  active_member  estimated_salary  churn  \n",
       "0                1            1              1         101348.88      1  \n",
       "1                1            0              1         112542.58      0  \n",
       "2                3            1              0         113931.57      1  \n",
       "3                2            0              0          93826.63      0  \n",
       "4                1            1              1          79084.10      0  "
      ]
     },
     "execution_count": 829,
     "metadata": {},
     "output_type": "execute_result"
    }
   ],
   "source": [
    "data = pd.read_csv('data/Bank Customer Churn Prediction.csv')\n",
    "data.head()"
   ]
  },
  {
   "cell_type": "code",
   "execution_count": 830,
   "id": "592d950f",
   "metadata": {},
   "outputs": [
    {
     "data": {
      "text/plain": [
       "(10000, 12)"
      ]
     },
     "execution_count": 830,
     "metadata": {},
     "output_type": "execute_result"
    }
   ],
   "source": [
    "data.shape"
   ]
  },
  {
   "cell_type": "code",
   "execution_count": 831,
   "id": "e4c150e6",
   "metadata": {},
   "outputs": [
    {
     "name": "stdout",
     "output_type": "stream",
     "text": [
      "<class 'pandas.core.frame.DataFrame'>\n",
      "RangeIndex: 10000 entries, 0 to 9999\n",
      "Data columns (total 12 columns):\n",
      " #   Column            Non-Null Count  Dtype  \n",
      "---  ------            --------------  -----  \n",
      " 0   customer_id       10000 non-null  int64  \n",
      " 1   credit_score      10000 non-null  int64  \n",
      " 2   country           10000 non-null  object \n",
      " 3   gender            10000 non-null  object \n",
      " 4   age               10000 non-null  int64  \n",
      " 5   tenure            10000 non-null  int64  \n",
      " 6   balance           10000 non-null  float64\n",
      " 7   products_number   10000 non-null  int64  \n",
      " 8   credit_card       10000 non-null  int64  \n",
      " 9   active_member     10000 non-null  int64  \n",
      " 10  estimated_salary  10000 non-null  float64\n",
      " 11  churn             10000 non-null  int64  \n",
      "dtypes: float64(2), int64(8), object(2)\n",
      "memory usage: 937.6+ KB\n"
     ]
    }
   ],
   "source": [
    "data.info()"
   ]
  },
  {
   "cell_type": "code",
   "execution_count": 832,
   "id": "754683d9",
   "metadata": {},
   "outputs": [
    {
     "data": {
      "text/plain": [
       "customer_id         0\n",
       "credit_score        0\n",
       "country             0\n",
       "gender              0\n",
       "age                 0\n",
       "tenure              0\n",
       "balance             0\n",
       "products_number     0\n",
       "credit_card         0\n",
       "active_member       0\n",
       "estimated_salary    0\n",
       "churn               0\n",
       "dtype: int64"
      ]
     },
     "execution_count": 832,
     "metadata": {},
     "output_type": "execute_result"
    }
   ],
   "source": [
    "data.isnull().sum()"
   ]
  },
  {
   "cell_type": "markdown",
   "id": "5d716377",
   "metadata": {},
   "source": [
    "<font size=\"4\">There are no null values</font>"
   ]
  },
  {
   "cell_type": "code",
   "execution_count": 833,
   "id": "960e2bf4",
   "metadata": {},
   "outputs": [
    {
     "data": {
      "text/plain": [
       "(10000, 12)"
      ]
     },
     "execution_count": 833,
     "metadata": {},
     "output_type": "execute_result"
    }
   ],
   "source": [
    "data.shape"
   ]
  },
  {
   "cell_type": "code",
   "execution_count": 834,
   "id": "af9cc4cb",
   "metadata": {},
   "outputs": [
    {
     "data": {
      "text/plain": [
       "(10000, 12)"
      ]
     },
     "execution_count": 834,
     "metadata": {},
     "output_type": "execute_result"
    }
   ],
   "source": [
    "data = data.drop_duplicates()\n",
    "data.shape"
   ]
  },
  {
   "cell_type": "markdown",
   "id": "27530385",
   "metadata": {},
   "source": [
    "<font size=\"4\">There are no duplicated values</font>"
   ]
  },
  {
   "cell_type": "markdown",
   "id": "2a44fc8c",
   "metadata": {},
   "source": [
    "<font size=\"4\">Delete the unnecessary column: customer_id</font>"
   ]
  },
  {
   "cell_type": "code",
   "execution_count": 835,
   "id": "f4980418",
   "metadata": {},
   "outputs": [],
   "source": [
    "data = data.drop(columns=['customer_id'])"
   ]
  },
  {
   "cell_type": "markdown",
   "id": "4c41c6a6",
   "metadata": {},
   "source": [
    "# EDA"
   ]
  },
  {
   "cell_type": "code",
   "execution_count": 836,
   "id": "6732dd76",
   "metadata": {},
   "outputs": [
    {
     "data": {
      "image/png": "[encoded data removed]",
      "text/plain": [
       "<Figure size 864x576 with 2 Axes>"
      ]
     },
     "metadata": {
      "needs_background": "light"
     },
     "output_type": "display_data"
    }
   ],
   "source": [
    "plt.figure(figsize=(12,8))\n",
    "sns.heatmap(data=data.corr(), annot=True)\n",
    "plt.show()"
   ]
  },
  {
   "cell_type": "markdown",
   "id": "dca31ab5",
   "metadata": {},
   "source": [
    "<font size=\"4\">Consider the strong correlation (threshold:0.8)</font>\n",
    "\n",
    "<font size=\"4\">Features show no strong correlations as the chart showed</font>"
   ]
  },
  {
   "cell_type": "markdown",
   "id": "310a92b1",
   "metadata": {},
   "source": [
    "<font size=\"4\">I will explore the numerical features first: credit_score, age, tenure, products_number, balance, estimated_salary</font>\n",
    "\n",
    "<font size=\"4\">Notice that, even some type of features are numerical types but the values indicated are binary (0 or 1). So I consider these features as categorical data</font>"
   ]
  },
  {
   "cell_type": "code",
   "execution_count": 837,
   "id": "8cf9349a",
   "metadata": {},
   "outputs": [
    {
     "data": {
      "image/png": "[encoded data removed]",
      "text/plain": [
       "<Figure size 576x576 with 1 Axes>"
      ]
     },
     "metadata": {},
     "output_type": "display_data"
    }
   ],
   "source": [
    "plt.figure(figsize=(8,8))\n",
    "data.groupby('churn')['churn'].count().plot(kind='pie')\n",
    "plt.show()"
   ]
  },
  {
   "cell_type": "markdown",
   "id": "e40b7429",
   "metadata": {},
   "source": [
    "<font size=\"4\">The dataset is imbalanced</font>"
   ]
  },
  {
   "cell_type": "code",
   "execution_count": 838,
   "id": "b35ffe4e",
   "metadata": {},
   "outputs": [],
   "source": [
    "lst_num = ['credit_score', 'age', 'tenure', 'products_number', 'balance', 'estimated_salary']"
   ]
  },
  {
   "cell_type": "code",
   "execution_count": 839,
   "id": "cd57e3ea",
   "metadata": {},
   "outputs": [
    {
     "data": {
      "image/png": "[encoded data removed]",
      "text/plain": [
       "<Figure size 1152x1152 with 6 Axes>"
      ]
     },
     "metadata": {
      "needs_background": "light"
     },
     "output_type": "display_data"
    }
   ],
   "source": [
    "rows = 2\n",
    "cols = 3\n",
    "idx = 0\n",
    "fig, axs = plt.subplots(rows, cols, figsize=(16,16))\n",
    "for i in range(rows):\n",
    "    for j in range(cols):\n",
    "        sns.histplot(ax=axs[i, j], data=data, x=lst_num[idx], hue='churn', kde=True)\n",
    "        idx += 1"
   ]
  },
  {
   "cell_type": "markdown",
   "id": "1b734cf9",
   "metadata": {},
   "source": [
    "<font size=\"4\">Due to the unbalanced dataset. It is hard to come to a conclusion.</font>\n",
    "<font size=\"4\">But the charts indicate that</font>\n",
    "\n",
    "<font size=\"4\">credit_score, balance, tenure and estimated_salary show no differences with the number of customers who churn or not as the distribution of both kind of these features overlapping</font>\n",
    "\n",
    "<font size=\"4\">With products_number and age, there is a point,</font>\n",
    "\n",
    "<font size=\"4\">most of customers who churn have bought more than 2 products from the banks while most age of customers around 20 to 50.</font>\n",
    "<font size=\"4\">However, the dataset is imbalanced. So I gonna perform inferential analytics on all these features to have a better view</font>"
   ]
  },
  {
   "cell_type": "markdown",
   "id": "f43af166",
   "metadata": {},
   "source": [
    "* #------------------------------------------Welch's t-test-------------------------------------------------------#\n",
    "\n",
    "- H0: There are differences between lst_0 and lst_1 aka mean(lst_0) == mean(lst_1)\n",
    "- Ha: There are NO differences between lst0 and lst_1 aka mean(lst_0) != mean(lst_1)\n",
    "\n",
    "* #-------------------------------------------------------------------------------------------------------------------#"
   ]
  },
  {
   "cell_type": "code",
   "execution_count": 840,
   "id": "45a00a55",
   "metadata": {},
   "outputs": [
    {
     "name": "stdout",
     "output_type": "stream",
     "text": [
      "p-value = 0.01, alpha = 0.05\n",
      "p < alpha => reject H0 => there are differences between credit_score and churn\n",
      "\n",
      "\n",
      "p-value = 0.00, alpha = 0.05\n",
      "p < alpha => reject H0 => there are differences between age and churn\n",
      "\n",
      "\n",
      "p-value = 0.17, alpha = 0.05\n",
      "p > alpha => failed to reject H0 => there are NO differences between tenure and churn\n",
      "\n",
      "\n",
      "p-value = 0.00, alpha = 0.05\n",
      "p < alpha => reject H0 => there are differences between products_number and churn\n",
      "\n",
      "\n",
      "p-value = 0.00, alpha = 0.05\n",
      "p < alpha => reject H0 => there are differences between balance and churn\n",
      "\n",
      "\n",
      "p-value = 0.23, alpha = 0.05\n",
      "p > alpha => failed to reject H0 => there are NO differences between estimated_salary and churn\n",
      "\n",
      "\n"
     ]
    }
   ],
   "source": [
    "alpha = .05\n",
    "for i in lst_num:\n",
    "    lst_0 = data[i].loc[data['churn'] == 0]\n",
    "    lst_1 = data[i].loc[data['churn'] == 1]\n",
    "    t, p = ttest_ind(lst_0, lst_1, equal_var = False)\n",
    "#--------------------------------------------------------------------------------\n",
    "    print(f'p-value = {p:.2f}, alpha = {alpha:.2f}')\n",
    "    if (p < alpha):\n",
    "        print('p < alpha => reject H0 => there are differences between', i, 'and churn')\n",
    "    else:\n",
    "        print('p > alpha => failed to reject H0 => there are NO differences between', i, 'and churn')\n",
    "    print('\\n')"
   ]
  },
  {
   "cell_type": "markdown",
   "id": "bc1437ec",
   "metadata": {},
   "source": [
    "<font size=\"4\">As the test indicates, tenure and estimated_salary failed to reject H0 -> So they do not affect to the churning while others show effect</font>\n",
    "\n",
    "<font size=\"4\">From here, I will remove these features from the dataset</font>"
   ]
  },
  {
   "cell_type": "code",
   "execution_count": 841,
   "id": "d57b01bc",
   "metadata": {},
   "outputs": [
    {
     "data": {
      "text/html": [
       "<div>\n",
       "<style scoped>\n",
       "    .dataframe tbody tr th:only-of-type {\n",
       "        vertical-align: middle;\n",
       "    }\n",
       "\n",
       "    .dataframe tbody tr th {\n",
       "        vertical-align: top;\n",
       "    }\n",
       "\n",
       "    .dataframe thead th {\n",
       "        text-align: right;\n",
       "    }\n",
       "</style>\n",
       "<table border=\"1\" class=\"dataframe\">\n",
       "  <thead>\n",
       "    <tr style=\"text-align: right;\">\n",
       "      <th></th>\n",
       "      <th>credit_score</th>\n",
       "      <th>country</th>\n",
       "      <th>gender</th>\n",
       "      <th>age</th>\n",
       "      <th>balance</th>\n",
       "      <th>products_number</th>\n",
       "      <th>credit_card</th>\n",
       "      <th>active_member</th>\n",
       "      <th>churn</th>\n",
       "    </tr>\n",
       "  </thead>\n",
       "  <tbody>\n",
       "    <tr>\n",
       "      <th>0</th>\n",
       "      <td>619</td>\n",
       "      <td>France</td>\n",
       "      <td>Female</td>\n",
       "      <td>42</td>\n",
       "      <td>0.00</td>\n",
       "      <td>1</td>\n",
       "      <td>1</td>\n",
       "      <td>1</td>\n",
       "      <td>1</td>\n",
       "    </tr>\n",
       "    <tr>\n",
       "      <th>1</th>\n",
       "      <td>608</td>\n",
       "      <td>Spain</td>\n",
       "      <td>Female</td>\n",
       "      <td>41</td>\n",
       "      <td>83807.86</td>\n",
       "      <td>1</td>\n",
       "      <td>0</td>\n",
       "      <td>1</td>\n",
       "      <td>0</td>\n",
       "    </tr>\n",
       "    <tr>\n",
       "      <th>2</th>\n",
       "      <td>502</td>\n",
       "      <td>France</td>\n",
       "      <td>Female</td>\n",
       "      <td>42</td>\n",
       "      <td>159660.80</td>\n",
       "      <td>3</td>\n",
       "      <td>1</td>\n",
       "      <td>0</td>\n",
       "      <td>1</td>\n",
       "    </tr>\n",
       "    <tr>\n",
       "      <th>3</th>\n",
       "      <td>699</td>\n",
       "      <td>France</td>\n",
       "      <td>Female</td>\n",
       "      <td>39</td>\n",
       "      <td>0.00</td>\n",
       "      <td>2</td>\n",
       "      <td>0</td>\n",
       "      <td>0</td>\n",
       "      <td>0</td>\n",
       "    </tr>\n",
       "    <tr>\n",
       "      <th>4</th>\n",
       "      <td>850</td>\n",
       "      <td>Spain</td>\n",
       "      <td>Female</td>\n",
       "      <td>43</td>\n",
       "      <td>125510.82</td>\n",
       "      <td>1</td>\n",
       "      <td>1</td>\n",
       "      <td>1</td>\n",
       "      <td>0</td>\n",
       "    </tr>\n",
       "  </tbody>\n",
       "</table>\n",
       "</div>"
      ],
      "text/plain": [
       "   credit_score country  gender  age    balance  products_number  credit_card  \\\n",
       "0           619  France  Female   42       0.00                1            1   \n",
       "1           608   Spain  Female   41   83807.86                1            0   \n",
       "2           502  France  Female   42  159660.80                3            1   \n",
       "3           699  France  Female   39       0.00                2            0   \n",
       "4           850   Spain  Female   43  125510.82                1            1   \n",
       "\n",
       "   active_member  churn  \n",
       "0              1      1  \n",
       "1              1      0  \n",
       "2              0      1  \n",
       "3              0      0  \n",
       "4              1      0  "
      ]
     },
     "execution_count": 841,
     "metadata": {},
     "output_type": "execute_result"
    }
   ],
   "source": [
    "data_new = data.drop(columns=['tenure', 'estimated_salary'])\n",
    "data_new.head()"
   ]
  },
  {
   "cell_type": "code",
   "execution_count": 842,
   "id": "bee8b94e",
   "metadata": {},
   "outputs": [],
   "source": [
    "lst_cate = ['country', 'gender', 'credit_card', 'active_member']"
   ]
  },
  {
   "cell_type": "code",
   "execution_count": 843,
   "id": "74677618",
   "metadata": {},
   "outputs": [
    {
     "data": {
      "image/png": "[encoded data removed]",
      "text/plain": [
       "<Figure size 864x864 with 4 Axes>"
      ]
     },
     "metadata": {
      "needs_background": "light"
     },
     "output_type": "display_data"
    }
   ],
   "source": [
    "rows = 2\n",
    "cols = 2\n",
    "idx = 0\n",
    "fig, axs = plt.subplots(rows, cols, figsize=(12,12))\n",
    "for i in range(rows):\n",
    "    for j in range(cols):\n",
    "        sns.countplot(ax=axs[i,j], data=data_new, x='churn', hue=lst_cate[idx], palette='Set2')\n",
    "        idx += 1"
   ]
  },
  {
   "cell_type": "markdown",
   "id": "53142f98",
   "metadata": {},
   "source": [
    "<font size=\"4\">All features are affect to the churn decision of customers except for credit_card</font>\n",
    "\n",
    "<font size=\"4\">The trend of people who have credit card and decided to churn or people who don't have credit card but decided to churn are no diffent and vice versa</font>\n",
    "\n",
    "<font size=\"4\">I will perform the inferential analytics on these features so I can come to the conclusion</font>"
   ]
  },
  {
   "cell_type": "markdown",
   "id": "98e331bd",
   "metadata": {},
   "source": [
    "* #------------------------------------------Chi Square Test-------------------------------------------------------#\n",
    "\n",
    "- H0: lst_0 and lst_1 are DEPENDENT\n",
    "- Ha: lst0 and lst_1 are INDEPENDENT\n",
    "\n",
    "* #-------------------------------------------------------------------------------------------------------------------#"
   ]
  },
  {
   "cell_type": "code",
   "execution_count": 844,
   "id": "4a5f1308",
   "metadata": {},
   "outputs": [
    {
     "name": "stdout",
     "output_type": "stream",
     "text": [
      "p-value = 0.00, alpha = 0.05\n",
      "p < alpha => reject H0 =>  country and churn are DEPENDENT\n",
      "\n",
      "\n",
      "p-value = 0.00, alpha = 0.05\n",
      "p < alpha => reject H0 =>  gender and churn are DEPENDENT\n",
      "\n",
      "\n",
      "p-value = 0.49, alpha = 0.05\n",
      "p > alpha => failed to reject H0 => credit_card and churn are INDEPENDENT\n",
      "\n",
      "\n",
      "p-value = 0.00, alpha = 0.05\n",
      "p < alpha => reject H0 =>  active_member and churn are DEPENDENT\n",
      "\n",
      "\n"
     ]
    }
   ],
   "source": [
    "alpha = .05\n",
    "for i in lst_cate:\n",
    "    table = pd.crosstab(data_new[i], data_new['churn'])\n",
    "    stat, p, dof, expected = chi2_contingency(table)\n",
    "#--------------------------------------------------------------------------------\n",
    "    print(f'p-value = {p:.2f}, alpha = {alpha:.2f}')\n",
    "    if (p < alpha):\n",
    "        print('p < alpha => reject H0 => ', i, 'and churn are DEPENDENT')\n",
    "    else:\n",
    "        print('p > alpha => failed to reject H0 =>', i, 'and churn are INDEPENDENT')\n",
    "    print('\\n')"
   ]
  },
  {
   "cell_type": "markdown",
   "id": "8bc3436b",
   "metadata": {},
   "source": [
    "<font size=\"4\">As I doubted. credit_card and churn are independent. So they are no differences about the churn condition among people who have credit card or not. While other features show a correlation with churn condition</font>\n",
    "\n",
    "<font size=\"4\">I delete credit_card column from the data to remove the unncessary column for model</font>"
   ]
  },
  {
   "cell_type": "code",
   "execution_count": 845,
   "id": "db88608a",
   "metadata": {},
   "outputs": [
    {
     "data": {
      "text/html": [
       "<div>\n",
       "<style scoped>\n",
       "    .dataframe tbody tr th:only-of-type {\n",
       "        vertical-align: middle;\n",
       "    }\n",
       "\n",
       "    .dataframe tbody tr th {\n",
       "        vertical-align: top;\n",
       "    }\n",
       "\n",
       "    .dataframe thead th {\n",
       "        text-align: right;\n",
       "    }\n",
       "</style>\n",
       "<table border=\"1\" class=\"dataframe\">\n",
       "  <thead>\n",
       "    <tr style=\"text-align: right;\">\n",
       "      <th></th>\n",
       "      <th>credit_score</th>\n",
       "      <th>country</th>\n",
       "      <th>gender</th>\n",
       "      <th>age</th>\n",
       "      <th>balance</th>\n",
       "      <th>products_number</th>\n",
       "      <th>active_member</th>\n",
       "      <th>churn</th>\n",
       "    </tr>\n",
       "  </thead>\n",
       "  <tbody>\n",
       "    <tr>\n",
       "      <th>0</th>\n",
       "      <td>619</td>\n",
       "      <td>France</td>\n",
       "      <td>Female</td>\n",
       "      <td>42</td>\n",
       "      <td>0.00</td>\n",
       "      <td>1</td>\n",
       "      <td>1</td>\n",
       "      <td>1</td>\n",
       "    </tr>\n",
       "    <tr>\n",
       "      <th>1</th>\n",
       "      <td>608</td>\n",
       "      <td>Spain</td>\n",
       "      <td>Female</td>\n",
       "      <td>41</td>\n",
       "      <td>83807.86</td>\n",
       "      <td>1</td>\n",
       "      <td>1</td>\n",
       "      <td>0</td>\n",
       "    </tr>\n",
       "    <tr>\n",
       "      <th>2</th>\n",
       "      <td>502</td>\n",
       "      <td>France</td>\n",
       "      <td>Female</td>\n",
       "      <td>42</td>\n",
       "      <td>159660.80</td>\n",
       "      <td>3</td>\n",
       "      <td>0</td>\n",
       "      <td>1</td>\n",
       "    </tr>\n",
       "    <tr>\n",
       "      <th>3</th>\n",
       "      <td>699</td>\n",
       "      <td>France</td>\n",
       "      <td>Female</td>\n",
       "      <td>39</td>\n",
       "      <td>0.00</td>\n",
       "      <td>2</td>\n",
       "      <td>0</td>\n",
       "      <td>0</td>\n",
       "    </tr>\n",
       "    <tr>\n",
       "      <th>4</th>\n",
       "      <td>850</td>\n",
       "      <td>Spain</td>\n",
       "      <td>Female</td>\n",
       "      <td>43</td>\n",
       "      <td>125510.82</td>\n",
       "      <td>1</td>\n",
       "      <td>1</td>\n",
       "      <td>0</td>\n",
       "    </tr>\n",
       "  </tbody>\n",
       "</table>\n",
       "</div>"
      ],
      "text/plain": [
       "   credit_score country  gender  age    balance  products_number  \\\n",
       "0           619  France  Female   42       0.00                1   \n",
       "1           608   Spain  Female   41   83807.86                1   \n",
       "2           502  France  Female   42  159660.80                3   \n",
       "3           699  France  Female   39       0.00                2   \n",
       "4           850   Spain  Female   43  125510.82                1   \n",
       "\n",
       "   active_member  churn  \n",
       "0              1      1  \n",
       "1              1      0  \n",
       "2              0      1  \n",
       "3              0      0  \n",
       "4              1      0  "
      ]
     },
     "execution_count": 845,
     "metadata": {},
     "output_type": "execute_result"
    }
   ],
   "source": [
    "final_data = data_new.drop(columns=['credit_card'])\n",
    "final_data.head()"
   ]
  },
  {
   "cell_type": "markdown",
   "id": "541a94ff",
   "metadata": {},
   "source": [
    "# Modelling - Classification"
   ]
  },
  {
   "cell_type": "code",
   "execution_count": 846,
   "id": "b514005f",
   "metadata": {},
   "outputs": [],
   "source": [
    "X = final_data.drop(columns=['churn'])\n",
    "y = final_data['churn']"
   ]
  },
  {
   "cell_type": "code",
   "execution_count": 847,
   "id": "95056e41",
   "metadata": {},
   "outputs": [
    {
     "name": "stdout",
     "output_type": "stream",
     "text": [
      "type of gender column int64\n"
     ]
    },
    {
     "data": {
      "text/html": [
       "<div>\n",
       "<style scoped>\n",
       "    .dataframe tbody tr th:only-of-type {\n",
       "        vertical-align: middle;\n",
       "    }\n",
       "\n",
       "    .dataframe tbody tr th {\n",
       "        vertical-align: top;\n",
       "    }\n",
       "\n",
       "    .dataframe thead th {\n",
       "        text-align: right;\n",
       "    }\n",
       "</style>\n",
       "<table border=\"1\" class=\"dataframe\">\n",
       "  <thead>\n",
       "    <tr style=\"text-align: right;\">\n",
       "      <th></th>\n",
       "      <th>credit_score</th>\n",
       "      <th>country</th>\n",
       "      <th>gender</th>\n",
       "      <th>age</th>\n",
       "      <th>balance</th>\n",
       "      <th>products_number</th>\n",
       "      <th>active_member</th>\n",
       "    </tr>\n",
       "  </thead>\n",
       "  <tbody>\n",
       "    <tr>\n",
       "      <th>0</th>\n",
       "      <td>619</td>\n",
       "      <td>France</td>\n",
       "      <td>0</td>\n",
       "      <td>42</td>\n",
       "      <td>0.00</td>\n",
       "      <td>1</td>\n",
       "      <td>1</td>\n",
       "    </tr>\n",
       "    <tr>\n",
       "      <th>1</th>\n",
       "      <td>608</td>\n",
       "      <td>Spain</td>\n",
       "      <td>0</td>\n",
       "      <td>41</td>\n",
       "      <td>83807.86</td>\n",
       "      <td>1</td>\n",
       "      <td>1</td>\n",
       "    </tr>\n",
       "    <tr>\n",
       "      <th>2</th>\n",
       "      <td>502</td>\n",
       "      <td>France</td>\n",
       "      <td>0</td>\n",
       "      <td>42</td>\n",
       "      <td>159660.80</td>\n",
       "      <td>3</td>\n",
       "      <td>0</td>\n",
       "    </tr>\n",
       "    <tr>\n",
       "      <th>3</th>\n",
       "      <td>699</td>\n",
       "      <td>France</td>\n",
       "      <td>0</td>\n",
       "      <td>39</td>\n",
       "      <td>0.00</td>\n",
       "      <td>2</td>\n",
       "      <td>0</td>\n",
       "    </tr>\n",
       "    <tr>\n",
       "      <th>4</th>\n",
       "      <td>850</td>\n",
       "      <td>Spain</td>\n",
       "      <td>0</td>\n",
       "      <td>43</td>\n",
       "      <td>125510.82</td>\n",
       "      <td>1</td>\n",
       "      <td>1</td>\n",
       "    </tr>\n",
       "  </tbody>\n",
       "</table>\n",
       "</div>"
      ],
      "text/plain": [
       "   credit_score country  gender  age    balance  products_number  \\\n",
       "0           619  France       0   42       0.00                1   \n",
       "1           608   Spain       0   41   83807.86                1   \n",
       "2           502  France       0   42  159660.80                3   \n",
       "3           699  France       0   39       0.00                2   \n",
       "4           850   Spain       0   43  125510.82                1   \n",
       "\n",
       "   active_member  \n",
       "0              1  \n",
       "1              1  \n",
       "2              0  \n",
       "3              0  \n",
       "4              1  "
      ]
     },
     "execution_count": 847,
     "metadata": {},
     "output_type": "execute_result"
    }
   ],
   "source": [
    "X = X.replace('Male', 1)\n",
    "X = X.replace('Female', 0)\n",
    "print('type of gender column', X['gender'].dtype)\n",
    "X.head()"
   ]
  },
  {
   "cell_type": "code",
   "execution_count": 848,
   "id": "98651b84",
   "metadata": {},
   "outputs": [],
   "source": [
    "ord_encoder = LabelEncoder()\n",
    "X['country'] = ord_encoder.fit_transform(X['country'])"
   ]
  },
  {
   "cell_type": "code",
   "execution_count": 849,
   "id": "1c97edbf",
   "metadata": {},
   "outputs": [],
   "source": [
    "X_train, X_test, y_train, y_test = train_test_split(X, y, test_size=0.2)"
   ]
  },
  {
   "cell_type": "code",
   "execution_count": 850,
   "id": "f00a27b6",
   "metadata": {},
   "outputs": [],
   "source": [
    "mm_scaler = MinMaxScaler()\n",
    "X_train = mm_scaler.fit_transform(X_train)\n",
    "X_test = mm_scaler.transform(X_test)"
   ]
  },
  {
   "cell_type": "code",
   "execution_count": 851,
   "id": "d6dc9ab0",
   "metadata": {},
   "outputs": [
    {
     "name": "stdout",
     "output_type": "stream",
     "text": [
      "label yes before: 1606\n",
      "label no before: 6394\n"
     ]
    }
   ],
   "source": [
    "label_yes_before = y_train.where(y_train == 1).count()\n",
    "label_no_before = y_train.where(y_train == 0).count()\n",
    "print('label yes before:', label_yes_before)\n",
    "print('label no before:', label_no_before)"
   ]
  },
  {
   "cell_type": "code",
   "execution_count": 852,
   "id": "eb0cbc60",
   "metadata": {},
   "outputs": [],
   "source": [
    "ros = RandomOverSampler()\n",
    "X_train, y_train = ros.fit_resample(X_train, y_train)"
   ]
  },
  {
   "cell_type": "code",
   "execution_count": 853,
   "id": "75e12bb5",
   "metadata": {},
   "outputs": [
    {
     "name": "stdout",
     "output_type": "stream",
     "text": [
      "label yes after: 6394\n",
      "label no after: 6394\n"
     ]
    }
   ],
   "source": [
    "label_yes_after = y_train.where(y_train == 1).count()\n",
    "label_no_after = y_train.where(y_train == 0).count()\n",
    "print('label yes after:', label_yes_after)\n",
    "print('label no after:', label_no_after)"
   ]
  },
  {
   "cell_type": "code",
   "execution_count": 854,
   "id": "faead5aa",
   "metadata": {},
   "outputs": [],
   "source": [
    "models= [LogisticRegression(), GaussianNB(), KNeighborsClassifier(n_neighbors=11), \n",
    "         RandomForestClassifier(), DecisionTreeClassifier(), \n",
    "         AdaBoostClassifier(), XGBClassifier(), SVC()]\n",
    "scores= []\n",
    "test_score = []\n",
    "train_times = []\n",
    "names= []"
   ]
  },
  {
   "cell_type": "code",
   "execution_count": 855,
   "id": "a540fe67",
   "metadata": {},
   "outputs": [
    {
     "data": {
      "text/html": [
       "<div>\n",
       "<style scoped>\n",
       "    .dataframe tbody tr th:only-of-type {\n",
       "        vertical-align: middle;\n",
       "    }\n",
       "\n",
       "    .dataframe tbody tr th {\n",
       "        vertical-align: top;\n",
       "    }\n",
       "\n",
       "    .dataframe thead th {\n",
       "        text-align: right;\n",
       "    }\n",
       "</style>\n",
       "<table border=\"1\" class=\"dataframe\">\n",
       "  <thead>\n",
       "    <tr style=\"text-align: right;\">\n",
       "      <th></th>\n",
       "      <th>Model</th>\n",
       "      <th>Score</th>\n",
       "      <th>Time</th>\n",
       "    </tr>\n",
       "  </thead>\n",
       "  <tbody>\n",
       "    <tr>\n",
       "      <th>0</th>\n",
       "      <td>LogisticRegression</td>\n",
       "      <td>0.689397</td>\n",
       "      <td>0.170583</td>\n",
       "    </tr>\n",
       "    <tr>\n",
       "      <th>1</th>\n",
       "      <td>GaussianNB</td>\n",
       "      <td>0.727009</td>\n",
       "      <td>0.030917</td>\n",
       "    </tr>\n",
       "    <tr>\n",
       "      <th>2</th>\n",
       "      <td>KNeighborsClassifier</td>\n",
       "      <td>0.801222</td>\n",
       "      <td>0.486734</td>\n",
       "    </tr>\n",
       "    <tr>\n",
       "      <th>3</th>\n",
       "      <td>RandomForestClassifier</td>\n",
       "      <td>0.951440</td>\n",
       "      <td>24.253880</td>\n",
       "    </tr>\n",
       "    <tr>\n",
       "      <th>4</th>\n",
       "      <td>DecisionTreeClassifier</td>\n",
       "      <td>0.927198</td>\n",
       "      <td>1.611674</td>\n",
       "    </tr>\n",
       "    <tr>\n",
       "      <th>5</th>\n",
       "      <td>AdaBoostClassifier</td>\n",
       "      <td>0.773383</td>\n",
       "      <td>30.641557</td>\n",
       "    </tr>\n",
       "    <tr>\n",
       "      <th>6</th>\n",
       "      <td>XGBClassifier</td>\n",
       "      <td>0.888803</td>\n",
       "      <td>2.244944</td>\n",
       "    </tr>\n",
       "    <tr>\n",
       "      <th>7</th>\n",
       "      <td>SVC</td>\n",
       "      <td>0.773696</td>\n",
       "      <td>30.029523</td>\n",
       "    </tr>\n",
       "  </tbody>\n",
       "</table>\n",
       "</div>"
      ],
      "text/plain": [
       "                    Model     Score       Time\n",
       "0      LogisticRegression  0.689397   0.170583\n",
       "1              GaussianNB  0.727009   0.030917\n",
       "2    KNeighborsClassifier  0.801222   0.486734\n",
       "3  RandomForestClassifier  0.951440  24.253880\n",
       "4  DecisionTreeClassifier  0.927198   1.611674\n",
       "5      AdaBoostClassifier  0.773383  30.641557\n",
       "6           XGBClassifier  0.888803   2.244944\n",
       "7                     SVC  0.773696  30.029523"
      ]
     },
     "execution_count": 855,
     "metadata": {},
     "output_type": "execute_result"
    }
   ],
   "source": [
    "for model in models:\n",
    "    start= time.time()\n",
    "    scores.append(cross_val_score(model, X_train, y_train, scoring= 'accuracy', cv= 10).mean())\n",
    "    end = time.time()\n",
    "    train_times.append(end-start)\n",
    "    names.append(model.__class__.__name__)\n",
    "\n",
    "df= pd.DataFrame(scores, columns=['Score'], index= range(len(models)))\n",
    "df.insert(1, 'Time', pd.Series(train_times))\n",
    "df.insert(0, 'Model', pd.Series(names))\n",
    "df"
   ]
  },
  {
   "cell_type": "code",
   "execution_count": 856,
   "id": "15bab4a4",
   "metadata": {},
   "outputs": [
    {
     "name": "stdout",
     "output_type": "stream",
     "text": [
      "LogisticRegression\n",
      "              precision    recall  f1-score   support\n",
      "\n",
      "           0       0.90      0.69      0.78      1569\n",
      "           1       0.39      0.71      0.50       431\n",
      "\n",
      "    accuracy                           0.69      2000\n",
      "   macro avg       0.64      0.70      0.64      2000\n",
      "weighted avg       0.79      0.69      0.72      2000\n",
      " \n",
      "\n",
      "GaussianNB\n",
      "              precision    recall  f1-score   support\n",
      "\n",
      "           0       0.91      0.77      0.83      1569\n",
      "           1       0.46      0.73      0.57       431\n",
      "\n",
      "    accuracy                           0.76      2000\n",
      "   macro avg       0.69      0.75      0.70      2000\n",
      "weighted avg       0.82      0.76      0.78      2000\n",
      " \n",
      "\n",
      "KNeighborsClassifier\n",
      "              precision    recall  f1-score   support\n",
      "\n",
      "           0       0.92      0.77      0.84      1569\n",
      "           1       0.48      0.76      0.59       431\n",
      "\n",
      "    accuracy                           0.77      2000\n",
      "   macro avg       0.70      0.77      0.71      2000\n",
      "weighted avg       0.83      0.77      0.79      2000\n",
      " \n",
      "\n",
      "RandomForestClassifier\n",
      "              precision    recall  f1-score   support\n",
      "\n",
      "           0       0.89      0.91      0.90      1569\n",
      "           1       0.64      0.57      0.60       431\n",
      "\n",
      "    accuracy                           0.84      2000\n",
      "   macro avg       0.76      0.74      0.75      2000\n",
      "weighted avg       0.83      0.84      0.83      2000\n",
      " \n",
      "\n",
      "DecisionTreeClassifier\n",
      "              precision    recall  f1-score   support\n",
      "\n",
      "           0       0.87      0.88      0.87      1569\n",
      "           1       0.54      0.52      0.53       431\n",
      "\n",
      "    accuracy                           0.80      2000\n",
      "   macro avg       0.70      0.70      0.70      2000\n",
      "weighted avg       0.80      0.80      0.80      2000\n",
      " \n",
      "\n",
      "AdaBoostClassifier\n",
      "              precision    recall  f1-score   support\n",
      "\n",
      "           0       0.92      0.80      0.86      1569\n",
      "           1       0.51      0.76      0.61       431\n",
      "\n",
      "    accuracy                           0.79      2000\n",
      "   macro avg       0.72      0.78      0.73      2000\n",
      "weighted avg       0.83      0.79      0.80      2000\n",
      " \n",
      "\n",
      "XGBClassifier\n",
      "              precision    recall  f1-score   support\n",
      "\n",
      "           0       0.90      0.87      0.88      1569\n",
      "           1       0.57      0.64      0.60       431\n",
      "\n",
      "    accuracy                           0.82      2000\n",
      "   macro avg       0.74      0.75      0.74      2000\n",
      "weighted avg       0.83      0.82      0.82      2000\n",
      " \n",
      "\n",
      "SVC\n",
      "              precision    recall  f1-score   support\n",
      "\n",
      "           0       0.92      0.82      0.87      1569\n",
      "           1       0.53      0.75      0.62       431\n",
      "\n",
      "    accuracy                           0.80      2000\n",
      "   macro avg       0.73      0.79      0.74      2000\n",
      "weighted avg       0.84      0.80      0.81      2000\n",
      " \n",
      "\n"
     ]
    },
    {
     "data": {
      "text/html": [
       "<div>\n",
       "<style scoped>\n",
       "    .dataframe tbody tr th:only-of-type {\n",
       "        vertical-align: middle;\n",
       "    }\n",
       "\n",
       "    .dataframe tbody tr th {\n",
       "        vertical-align: top;\n",
       "    }\n",
       "\n",
       "    .dataframe thead th {\n",
       "        text-align: right;\n",
       "    }\n",
       "</style>\n",
       "<table border=\"1\" class=\"dataframe\">\n",
       "  <thead>\n",
       "    <tr style=\"text-align: right;\">\n",
       "      <th></th>\n",
       "      <th>Model</th>\n",
       "      <th>Score</th>\n",
       "      <th>Time</th>\n",
       "      <th>Test_Score</th>\n",
       "    </tr>\n",
       "  </thead>\n",
       "  <tbody>\n",
       "    <tr>\n",
       "      <th>0</th>\n",
       "      <td>LogisticRegression</td>\n",
       "      <td>0.689397</td>\n",
       "      <td>0.170583</td>\n",
       "      <td>0.6925</td>\n",
       "    </tr>\n",
       "    <tr>\n",
       "      <th>1</th>\n",
       "      <td>GaussianNB</td>\n",
       "      <td>0.727009</td>\n",
       "      <td>0.030917</td>\n",
       "      <td>0.7595</td>\n",
       "    </tr>\n",
       "    <tr>\n",
       "      <th>2</th>\n",
       "      <td>KNeighborsClassifier</td>\n",
       "      <td>0.801222</td>\n",
       "      <td>0.486734</td>\n",
       "      <td>0.7690</td>\n",
       "    </tr>\n",
       "    <tr>\n",
       "      <th>3</th>\n",
       "      <td>RandomForestClassifier</td>\n",
       "      <td>0.951440</td>\n",
       "      <td>24.253880</td>\n",
       "      <td>0.8375</td>\n",
       "    </tr>\n",
       "    <tr>\n",
       "      <th>4</th>\n",
       "      <td>DecisionTreeClassifier</td>\n",
       "      <td>0.927198</td>\n",
       "      <td>1.611674</td>\n",
       "      <td>0.7995</td>\n",
       "    </tr>\n",
       "    <tr>\n",
       "      <th>5</th>\n",
       "      <td>AdaBoostClassifier</td>\n",
       "      <td>0.773383</td>\n",
       "      <td>30.641557</td>\n",
       "      <td>0.7905</td>\n",
       "    </tr>\n",
       "    <tr>\n",
       "      <th>6</th>\n",
       "      <td>XGBClassifier</td>\n",
       "      <td>0.888803</td>\n",
       "      <td>2.244944</td>\n",
       "      <td>0.8195</td>\n",
       "    </tr>\n",
       "    <tr>\n",
       "      <th>7</th>\n",
       "      <td>SVC</td>\n",
       "      <td>0.773696</td>\n",
       "      <td>30.029523</td>\n",
       "      <td>0.8030</td>\n",
       "    </tr>\n",
       "  </tbody>\n",
       "</table>\n",
       "</div>"
      ],
      "text/plain": [
       "                    Model     Score       Time  Test_Score\n",
       "0      LogisticRegression  0.689397   0.170583      0.6925\n",
       "1              GaussianNB  0.727009   0.030917      0.7595\n",
       "2    KNeighborsClassifier  0.801222   0.486734      0.7690\n",
       "3  RandomForestClassifier  0.951440  24.253880      0.8375\n",
       "4  DecisionTreeClassifier  0.927198   1.611674      0.7995\n",
       "5      AdaBoostClassifier  0.773383  30.641557      0.7905\n",
       "6           XGBClassifier  0.888803   2.244944      0.8195\n",
       "7                     SVC  0.773696  30.029523      0.8030"
      ]
     },
     "execution_count": 856,
     "metadata": {},
     "output_type": "execute_result"
    }
   ],
   "source": [
    "for model in models:\n",
    "    model.fit(X_train, y_train)\n",
    "    y_pred = model.predict(X_test)\n",
    "    score = accuracy_score(y_test, y_pred)\n",
    "    test_score.append(score)    \n",
    "    cm = classification_report(y_test, y_pred)\n",
    "    print(model.__class__.__name__)\n",
    "    print(cm, '\\n')\n",
    "df['Test_Score'] = test_score\n",
    "df"
   ]
  },
  {
   "cell_type": "markdown",
   "id": "35d97b8a",
   "metadata": {},
   "source": [
    "## Stacking model"
   ]
  },
  {
   "cell_type": "markdown",
   "id": "5566adbf",
   "metadata": {},
   "source": [
    "<font size=\"4\">Now, I will perform the stacking model to see if it can improve the performance</font>\n",
    "\n",
    "<font size=\"4\">Base on the performance report abow, I chose the three model: Logistic Regression, GaussianNB and KneighborsClassifer as the input model and meta model is DecisionTreeClassifier</font>"
   ]
  },
  {
   "cell_type": "code",
   "execution_count": 857,
   "id": "ea89165e",
   "metadata": {},
   "outputs": [],
   "source": [
    "lr_model = LogisticRegression()\n",
    "lr_model.fit(X_train, y_train)\n",
    "y_pred_lr = lr_model.predict_proba(X_test)"
   ]
  },
  {
   "cell_type": "code",
   "execution_count": 858,
   "id": "363e92dd",
   "metadata": {},
   "outputs": [],
   "source": [
    "gnb_model = GaussianNB()\n",
    "gnb_model.fit(X_train, y_train)\n",
    "y_pred_gnb = gnb_model.predict_proba(X_test)"
   ]
  },
  {
   "cell_type": "code",
   "execution_count": 859,
   "id": "8688e61c",
   "metadata": {},
   "outputs": [],
   "source": [
    "knn_model = KNeighborsClassifier(n_neighbors=11)\n",
    "knn_model.fit(X_train, y_train)\n",
    "y_pred_knn = knn_model.predict_proba(X_test)"
   ]
  },
  {
   "cell_type": "code",
   "execution_count": 860,
   "id": "2c9dc53b",
   "metadata": {},
   "outputs": [
    {
     "data": {
      "text/html": [
       "<div>\n",
       "<style scoped>\n",
       "    .dataframe tbody tr th:only-of-type {\n",
       "        vertical-align: middle;\n",
       "    }\n",
       "\n",
       "    .dataframe tbody tr th {\n",
       "        vertical-align: top;\n",
       "    }\n",
       "\n",
       "    .dataframe thead th {\n",
       "        text-align: right;\n",
       "    }\n",
       "</style>\n",
       "<table border=\"1\" class=\"dataframe\">\n",
       "  <thead>\n",
       "    <tr style=\"text-align: right;\">\n",
       "      <th></th>\n",
       "      <th>data_lr_0</th>\n",
       "      <th>data_lr_1</th>\n",
       "      <th>data_gnb_0</th>\n",
       "      <th>data_gnb_1</th>\n",
       "      <th>data_knn_0</th>\n",
       "      <th>data_knn_1</th>\n",
       "      <th>data_test</th>\n",
       "    </tr>\n",
       "  </thead>\n",
       "  <tbody>\n",
       "    <tr>\n",
       "      <th>0</th>\n",
       "      <td>0.572894</td>\n",
       "      <td>0.427106</td>\n",
       "      <td>0.557070</td>\n",
       "      <td>0.442930</td>\n",
       "      <td>0.545455</td>\n",
       "      <td>0.454545</td>\n",
       "      <td>0</td>\n",
       "    </tr>\n",
       "    <tr>\n",
       "      <th>1</th>\n",
       "      <td>0.730954</td>\n",
       "      <td>0.269046</td>\n",
       "      <td>0.729287</td>\n",
       "      <td>0.270713</td>\n",
       "      <td>0.909091</td>\n",
       "      <td>0.090909</td>\n",
       "      <td>0</td>\n",
       "    </tr>\n",
       "    <tr>\n",
       "      <th>2</th>\n",
       "      <td>0.473577</td>\n",
       "      <td>0.526423</td>\n",
       "      <td>0.543746</td>\n",
       "      <td>0.456254</td>\n",
       "      <td>0.181818</td>\n",
       "      <td>0.818182</td>\n",
       "      <td>0</td>\n",
       "    </tr>\n",
       "    <tr>\n",
       "      <th>3</th>\n",
       "      <td>0.668900</td>\n",
       "      <td>0.331100</td>\n",
       "      <td>0.752280</td>\n",
       "      <td>0.247720</td>\n",
       "      <td>0.636364</td>\n",
       "      <td>0.363636</td>\n",
       "      <td>0</td>\n",
       "    </tr>\n",
       "    <tr>\n",
       "      <th>4</th>\n",
       "      <td>0.820451</td>\n",
       "      <td>0.179549</td>\n",
       "      <td>0.850279</td>\n",
       "      <td>0.149721</td>\n",
       "      <td>0.636364</td>\n",
       "      <td>0.363636</td>\n",
       "      <td>0</td>\n",
       "    </tr>\n",
       "  </tbody>\n",
       "</table>\n",
       "</div>"
      ],
      "text/plain": [
       "   data_lr_0  data_lr_1  data_gnb_0  data_gnb_1  data_knn_0  data_knn_1  \\\n",
       "0   0.572894   0.427106    0.557070    0.442930    0.545455    0.454545   \n",
       "1   0.730954   0.269046    0.729287    0.270713    0.909091    0.090909   \n",
       "2   0.473577   0.526423    0.543746    0.456254    0.181818    0.818182   \n",
       "3   0.668900   0.331100    0.752280    0.247720    0.636364    0.363636   \n",
       "4   0.820451   0.179549    0.850279    0.149721    0.636364    0.363636   \n",
       "\n",
       "   data_test  \n",
       "0          0  \n",
       "1          0  \n",
       "2          0  \n",
       "3          0  \n",
       "4          0  "
      ]
     },
     "execution_count": 860,
     "metadata": {},
     "output_type": "execute_result"
    }
   ],
   "source": [
    "df_meta = pd.DataFrame()\n",
    "y_pred_lr = pd.DataFrame(y_pred_lr)\n",
    "df_meta['data_lr_0'] = y_pred_lr[0]\n",
    "df_meta['data_lr_1'] = y_pred_lr[1]\n",
    "#---------------------------------------\n",
    "y_pred_gnb = pd.DataFrame(y_pred_gnb)\n",
    "df_meta['data_gnb_0'] = y_pred_gnb[0]\n",
    "df_meta['data_gnb_1'] = y_pred_gnb[1]\n",
    "#---------------------------------------\n",
    "y_pred_knn = pd.DataFrame(y_pred_knn)\n",
    "df_meta['data_knn_0'] = y_pred_knn[0]\n",
    "df_meta['data_knn_1'] = y_pred_knn[1]\n",
    "#---------------------------------------\n",
    "df_meta['data_test'] = y_test.reset_index().drop(columns=['index'])\n",
    "df_meta.head()"
   ]
  },
  {
   "cell_type": "code",
   "execution_count": 861,
   "id": "1f8ed367",
   "metadata": {},
   "outputs": [],
   "source": [
    "X_ = df_meta.drop(columns=['data_test'])\n",
    "y_ = df_meta['data_test']"
   ]
  },
  {
   "cell_type": "code",
   "execution_count": 862,
   "id": "ddd66eb9",
   "metadata": {},
   "outputs": [],
   "source": [
    "X_train_, X_test_, y_train_, y_test_ = train_test_split(X_, y_, test_size=0.2)"
   ]
  },
  {
   "cell_type": "code",
   "execution_count": 863,
   "id": "e9594818",
   "metadata": {},
   "outputs": [
    {
     "name": "stdout",
     "output_type": "stream",
     "text": [
      "accuracy: 0.8075\n"
     ]
    }
   ],
   "source": [
    "meta_model = DecisionTreeClassifier()\n",
    "meta_model.fit(X_train_, y_train_)\n",
    "y_pred_meta_ = meta_model.predict(X_test_)\n",
    "print('accuracy:', accuracy_score(y_test_, y_pred_meta_))"
   ]
  },
  {
   "cell_type": "code",
   "execution_count": 864,
   "id": "f4dba2e9",
   "metadata": {},
   "outputs": [
    {
     "name": "stdout",
     "output_type": "stream",
     "text": [
      "              precision    recall  f1-score   support\n",
      "\n",
      "           0       0.88      0.87      0.88       315\n",
      "           1       0.54      0.58      0.56        85\n",
      "\n",
      "    accuracy                           0.81       400\n",
      "   macro avg       0.71      0.72      0.72       400\n",
      "weighted avg       0.81      0.81      0.81       400\n",
      " \n",
      "\n"
     ]
    }
   ],
   "source": [
    "cm = classification_report(y_test_, y_pred_meta_)\n",
    "print(cm, '\\n')"
   ]
  }
 ],
 "metadata": {
  "kernelspec": {
   "display_name": "Python 3 (ipykernel)",
   "language": "python",
   "name": "python3"
  },
  "language_info": {
   "codemirror_mode": {
    "name": "ipython",
    "version": 3
   },
   "file_extension": ".py",
   "mimetype": "text/x-python",
   "name": "python",
   "nbconvert_exporter": "python",
   "pygments_lexer": "ipython3",
   "version": "3.9.2rc1"
  }
 },
 "nbformat": 4,
 "nbformat_minor": 5
}
