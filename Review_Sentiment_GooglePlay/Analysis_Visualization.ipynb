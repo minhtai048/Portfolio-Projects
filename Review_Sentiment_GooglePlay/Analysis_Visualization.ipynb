{
 "cells": [
  {
   "cell_type": "code",
   "execution_count": 1,
   "id": "93859273",
   "metadata": {},
   "outputs": [],
   "source": [
    "import numpy as np\n",
    "import pandas as pd\n",
    "import matplotlib.pyplot as plt\n",
    "import seaborn as sns\n",
    "import re\n",
    "import time\n",
    "from nltk.corpus import stopwords, wordnet\n",
    "from nltk.stem import WordNetLemmatizer\n",
    "from nltk import pos_tag, word_tokenize\n",
    "from imblearn.under_sampling import *\n",
    "from sklearn.feature_extraction.text import CountVectorizer, TfidfVectorizer\n",
    "from sklearn.model_selection import train_test_split, cross_val_score"
   ]
  },
  {
   "cell_type": "markdown",
   "id": "f42f50a8",
   "metadata": {},
   "source": [
    "### The aim of this analysis is try to understand what factor that customers complain most toward a product and what other that customer think it is the benefits of the product."
   ]
  },
  {
   "cell_type": "code",
   "execution_count": 2,
   "id": "76d7f8a2",
   "metadata": {},
   "outputs": [
    {
     "data": {
      "text/html": [
       "<div>\n",
       "<style scoped>\n",
       "    .dataframe tbody tr th:only-of-type {\n",
       "        vertical-align: middle;\n",
       "    }\n",
       "\n",
       "    .dataframe tbody tr th {\n",
       "        vertical-align: top;\n",
       "    }\n",
       "\n",
       "    .dataframe thead th {\n",
       "        text-align: right;\n",
       "    }\n",
       "</style>\n",
       "<table border=\"1\" class=\"dataframe\">\n",
       "  <thead>\n",
       "    <tr style=\"text-align: right;\">\n",
       "      <th></th>\n",
       "      <th>Comment</th>\n",
       "      <th>Vote_useful</th>\n",
       "      <th>Date</th>\n",
       "      <th>Rating</th>\n",
       "    </tr>\n",
       "  </thead>\n",
       "  <tbody>\n",
       "    <tr>\n",
       "      <th>0</th>\n",
       "      <td>The game in general is the best I've ever play...</td>\n",
       "      <td>32</td>\n",
       "      <td>August 23, 2022</td>\n",
       "      <td>5</td>\n",
       "    </tr>\n",
       "    <tr>\n",
       "      <th>1</th>\n",
       "      <td>I absolutely love and adore this game. By far ...</td>\n",
       "      <td>643</td>\n",
       "      <td>August 16, 2022</td>\n",
       "      <td>5</td>\n",
       "    </tr>\n",
       "    <tr>\n",
       "      <th>2</th>\n",
       "      <td>It is amazing, I have only been playing it for...</td>\n",
       "      <td>396</td>\n",
       "      <td>August 21, 2022</td>\n",
       "      <td>4</td>\n",
       "    </tr>\n",
       "    <tr>\n",
       "      <th>3</th>\n",
       "      <td>This game is truly amazing and getting better ...</td>\n",
       "      <td>188</td>\n",
       "      <td>August 19, 2022</td>\n",
       "      <td>4</td>\n",
       "    </tr>\n",
       "    <tr>\n",
       "      <th>4</th>\n",
       "      <td>The release of Sumeru gave so much to do! I've...</td>\n",
       "      <td>91</td>\n",
       "      <td>September 5, 2022</td>\n",
       "      <td>4</td>\n",
       "    </tr>\n",
       "  </tbody>\n",
       "</table>\n",
       "</div>"
      ],
      "text/plain": [
       "                                             Comment Vote_useful  \\\n",
       "0  The game in general is the best I've ever play...          32   \n",
       "1  I absolutely love and adore this game. By far ...         643   \n",
       "2  It is amazing, I have only been playing it for...         396   \n",
       "3  This game is truly amazing and getting better ...         188   \n",
       "4  The release of Sumeru gave so much to do! I've...          91   \n",
       "\n",
       "                Date  Rating  \n",
       "0    August 23, 2022       5  \n",
       "1    August 16, 2022       5  \n",
       "2    August 21, 2022       4  \n",
       "3    August 19, 2022       4  \n",
       "4  September 5, 2022       4  "
      ]
     },
     "execution_count": 2,
     "metadata": {},
     "output_type": "execute_result"
    }
   ],
   "source": [
    "data = pd.read_csv('data/GI_comment.csv')\n",
    "data.head()"
   ]
  },
  {
   "cell_type": "code",
   "execution_count": 3,
   "id": "7a26b3e9",
   "metadata": {},
   "outputs": [
    {
     "data": {
      "text/plain": [
       "(2040, 4)"
      ]
     },
     "execution_count": 3,
     "metadata": {},
     "output_type": "execute_result"
    }
   ],
   "source": [
    "data.shape"
   ]
  },
  {
   "cell_type": "code",
   "execution_count": 4,
   "id": "4e94b99c",
   "metadata": {},
   "outputs": [
    {
     "name": "stdout",
     "output_type": "stream",
     "text": [
      "<class 'pandas.core.frame.DataFrame'>\n",
      "RangeIndex: 2040 entries, 0 to 2039\n",
      "Data columns (total 4 columns):\n",
      " #   Column       Non-Null Count  Dtype \n",
      "---  ------       --------------  ----- \n",
      " 0   Comment      2040 non-null   object\n",
      " 1   Vote_useful  2040 non-null   object\n",
      " 2   Date         2040 non-null   object\n",
      " 3   Rating       2040 non-null   int64 \n",
      "dtypes: int64(1), object(3)\n",
      "memory usage: 63.9+ KB\n"
     ]
    }
   ],
   "source": [
    "data.info()"
   ]
  },
  {
   "cell_type": "markdown",
   "id": "9f4d77d5",
   "metadata": {},
   "source": [
    "# Preprocessing And Cleaning"
   ]
  },
  {
   "cell_type": "code",
   "execution_count": 5,
   "id": "6726282d",
   "metadata": {},
   "outputs": [
    {
     "data": {
      "text/plain": [
       "Comment        0\n",
       "Vote_useful    0\n",
       "Date           0\n",
       "Rating         0\n",
       "dtype: int64"
      ]
     },
     "execution_count": 5,
     "metadata": {},
     "output_type": "execute_result"
    }
   ],
   "source": [
    "data.isnull().sum()"
   ]
  },
  {
   "cell_type": "markdown",
   "id": "be32348a",
   "metadata": {},
   "source": [
    "<font size=\"4\">There are no null values</font>"
   ]
  },
  {
   "cell_type": "code",
   "execution_count": 6,
   "id": "10d67ee8",
   "metadata": {},
   "outputs": [
    {
     "data": {
      "text/html": [
       "<div>\n",
       "<style scoped>\n",
       "    .dataframe tbody tr th:only-of-type {\n",
       "        vertical-align: middle;\n",
       "    }\n",
       "\n",
       "    .dataframe tbody tr th {\n",
       "        vertical-align: top;\n",
       "    }\n",
       "\n",
       "    .dataframe thead th {\n",
       "        text-align: right;\n",
       "    }\n",
       "</style>\n",
       "<table border=\"1\" class=\"dataframe\">\n",
       "  <thead>\n",
       "    <tr style=\"text-align: right;\">\n",
       "      <th></th>\n",
       "      <th>Comment</th>\n",
       "      <th>Vote_useful</th>\n",
       "      <th>Date</th>\n",
       "      <th>Rating</th>\n",
       "    </tr>\n",
       "  </thead>\n",
       "  <tbody>\n",
       "    <tr>\n",
       "      <th>896</th>\n",
       "      <td>This game is really fun to play with, but I'm ...</td>\n",
       "      <td>0</td>\n",
       "      <td>August 14, 2022</td>\n",
       "      <td>4</td>\n",
       "    </tr>\n",
       "  </tbody>\n",
       "</table>\n",
       "</div>"
      ],
      "text/plain": [
       "                                               Comment Vote_useful  \\\n",
       "896  This game is really fun to play with, but I'm ...           0   \n",
       "\n",
       "                Date  Rating  \n",
       "896  August 14, 2022       4  "
      ]
     },
     "execution_count": 6,
     "metadata": {},
     "output_type": "execute_result"
    }
   ],
   "source": [
    "index_dup = data.duplicated()\n",
    "data[index_dup]"
   ]
  },
  {
   "cell_type": "markdown",
   "id": "b39c3553",
   "metadata": {},
   "source": [
    "<font size=\"4\">There are 1 duplicated row</font>"
   ]
  },
  {
   "cell_type": "code",
   "execution_count": 7,
   "id": "990b9882",
   "metadata": {},
   "outputs": [],
   "source": [
    "data = data.drop_duplicates()"
   ]
  },
  {
   "cell_type": "markdown",
   "id": "2584c564",
   "metadata": {},
   "source": [
    "## Process With Date Column"
   ]
  },
  {
   "cell_type": "code",
   "execution_count": 8,
   "id": "123061b4",
   "metadata": {},
   "outputs": [
    {
     "data": {
      "text/html": [
       "<div>\n",
       "<style scoped>\n",
       "    .dataframe tbody tr th:only-of-type {\n",
       "        vertical-align: middle;\n",
       "    }\n",
       "\n",
       "    .dataframe tbody tr th {\n",
       "        vertical-align: top;\n",
       "    }\n",
       "\n",
       "    .dataframe thead th {\n",
       "        text-align: right;\n",
       "    }\n",
       "</style>\n",
       "<table border=\"1\" class=\"dataframe\">\n",
       "  <thead>\n",
       "    <tr style=\"text-align: right;\">\n",
       "      <th></th>\n",
       "      <th>Comment</th>\n",
       "      <th>Vote_useful</th>\n",
       "      <th>Date</th>\n",
       "      <th>Rating</th>\n",
       "      <th>fixed_Date</th>\n",
       "    </tr>\n",
       "  </thead>\n",
       "  <tbody>\n",
       "    <tr>\n",
       "      <th>0</th>\n",
       "      <td>The game in general is the best I've ever play...</td>\n",
       "      <td>32</td>\n",
       "      <td>August 23, 2022</td>\n",
       "      <td>5</td>\n",
       "      <td>2022-08-23</td>\n",
       "    </tr>\n",
       "    <tr>\n",
       "      <th>1</th>\n",
       "      <td>I absolutely love and adore this game. By far ...</td>\n",
       "      <td>643</td>\n",
       "      <td>August 16, 2022</td>\n",
       "      <td>5</td>\n",
       "      <td>2022-08-16</td>\n",
       "    </tr>\n",
       "    <tr>\n",
       "      <th>2</th>\n",
       "      <td>It is amazing, I have only been playing it for...</td>\n",
       "      <td>396</td>\n",
       "      <td>August 21, 2022</td>\n",
       "      <td>4</td>\n",
       "      <td>2022-08-21</td>\n",
       "    </tr>\n",
       "    <tr>\n",
       "      <th>3</th>\n",
       "      <td>This game is truly amazing and getting better ...</td>\n",
       "      <td>188</td>\n",
       "      <td>August 19, 2022</td>\n",
       "      <td>4</td>\n",
       "      <td>2022-08-19</td>\n",
       "    </tr>\n",
       "    <tr>\n",
       "      <th>4</th>\n",
       "      <td>The release of Sumeru gave so much to do! I've...</td>\n",
       "      <td>91</td>\n",
       "      <td>September 5, 2022</td>\n",
       "      <td>4</td>\n",
       "      <td>2022-09-05</td>\n",
       "    </tr>\n",
       "  </tbody>\n",
       "</table>\n",
       "</div>"
      ],
      "text/plain": [
       "                                             Comment Vote_useful  \\\n",
       "0  The game in general is the best I've ever play...          32   \n",
       "1  I absolutely love and adore this game. By far ...         643   \n",
       "2  It is amazing, I have only been playing it for...         396   \n",
       "3  This game is truly amazing and getting better ...         188   \n",
       "4  The release of Sumeru gave so much to do! I've...          91   \n",
       "\n",
       "                Date  Rating fixed_Date  \n",
       "0    August 23, 2022       5 2022-08-23  \n",
       "1    August 16, 2022       5 2022-08-16  \n",
       "2    August 21, 2022       4 2022-08-21  \n",
       "3    August 19, 2022       4 2022-08-19  \n",
       "4  September 5, 2022       4 2022-09-05  "
      ]
     },
     "execution_count": 8,
     "metadata": {},
     "output_type": "execute_result"
    }
   ],
   "source": [
    "data['fixed_Date'] = pd.to_datetime(data['Date'])\n",
    "data.head()"
   ]
  },
  {
   "cell_type": "code",
   "execution_count": 9,
   "id": "b9bd7ed7",
   "metadata": {},
   "outputs": [
    {
     "data": {
      "text/html": [
       "<div>\n",
       "<style scoped>\n",
       "    .dataframe tbody tr th:only-of-type {\n",
       "        vertical-align: middle;\n",
       "    }\n",
       "\n",
       "    .dataframe tbody tr th {\n",
       "        vertical-align: top;\n",
       "    }\n",
       "\n",
       "    .dataframe thead th {\n",
       "        text-align: right;\n",
       "    }\n",
       "</style>\n",
       "<table border=\"1\" class=\"dataframe\">\n",
       "  <thead>\n",
       "    <tr style=\"text-align: right;\">\n",
       "      <th></th>\n",
       "      <th>Comment</th>\n",
       "      <th>Vote_useful</th>\n",
       "      <th>Rating</th>\n",
       "      <th>fixed_Date</th>\n",
       "    </tr>\n",
       "  </thead>\n",
       "  <tbody>\n",
       "    <tr>\n",
       "      <th>0</th>\n",
       "      <td>The game in general is the best I've ever play...</td>\n",
       "      <td>32</td>\n",
       "      <td>5</td>\n",
       "      <td>2022-08-23</td>\n",
       "    </tr>\n",
       "    <tr>\n",
       "      <th>1</th>\n",
       "      <td>I absolutely love and adore this game. By far ...</td>\n",
       "      <td>643</td>\n",
       "      <td>5</td>\n",
       "      <td>2022-08-16</td>\n",
       "    </tr>\n",
       "    <tr>\n",
       "      <th>2</th>\n",
       "      <td>It is amazing, I have only been playing it for...</td>\n",
       "      <td>396</td>\n",
       "      <td>4</td>\n",
       "      <td>2022-08-21</td>\n",
       "    </tr>\n",
       "    <tr>\n",
       "      <th>3</th>\n",
       "      <td>This game is truly amazing and getting better ...</td>\n",
       "      <td>188</td>\n",
       "      <td>4</td>\n",
       "      <td>2022-08-19</td>\n",
       "    </tr>\n",
       "    <tr>\n",
       "      <th>4</th>\n",
       "      <td>The release of Sumeru gave so much to do! I've...</td>\n",
       "      <td>91</td>\n",
       "      <td>4</td>\n",
       "      <td>2022-09-05</td>\n",
       "    </tr>\n",
       "  </tbody>\n",
       "</table>\n",
       "</div>"
      ],
      "text/plain": [
       "                                             Comment Vote_useful  Rating  \\\n",
       "0  The game in general is the best I've ever play...          32       5   \n",
       "1  I absolutely love and adore this game. By far ...         643       5   \n",
       "2  It is amazing, I have only been playing it for...         396       4   \n",
       "3  This game is truly amazing and getting better ...         188       4   \n",
       "4  The release of Sumeru gave so much to do! I've...          91       4   \n",
       "\n",
       "  fixed_Date  \n",
       "0 2022-08-23  \n",
       "1 2022-08-16  \n",
       "2 2022-08-21  \n",
       "3 2022-08-19  \n",
       "4 2022-09-05  "
      ]
     },
     "execution_count": 9,
     "metadata": {},
     "output_type": "execute_result"
    }
   ],
   "source": [
    "data = data.drop(columns=['Date'])\n",
    "data.head()"
   ]
  },
  {
   "cell_type": "code",
   "execution_count": 10,
   "id": "e6a147cc",
   "metadata": {},
   "outputs": [
    {
     "name": "stdout",
     "output_type": "stream",
     "text": [
      "<class 'pandas.core.frame.DataFrame'>\n",
      "Int64Index: 2039 entries, 0 to 2039\n",
      "Data columns (total 4 columns):\n",
      " #   Column       Non-Null Count  Dtype         \n",
      "---  ------       --------------  -----         \n",
      " 0   Comment      2039 non-null   object        \n",
      " 1   Vote_useful  2039 non-null   object        \n",
      " 2   Rating       2039 non-null   int64         \n",
      " 3   fixed_Date   2039 non-null   datetime64[ns]\n",
      "dtypes: datetime64[ns](1), int64(1), object(2)\n",
      "memory usage: 79.6+ KB\n"
     ]
    }
   ],
   "source": [
    "data.info()"
   ]
  },
  {
   "cell_type": "markdown",
   "id": "60fdfddb",
   "metadata": {},
   "source": [
    "## Process With Vote_useful Column"
   ]
  },
  {
   "cell_type": "code",
   "execution_count": 11,
   "id": "479a75cc",
   "metadata": {},
   "outputs": [
    {
     "name": "stderr",
     "output_type": "stream",
     "text": [
      "c:\\users\\administrator\\appdata\\local\\programs\\python\\python39\\lib\\site-packages\\pandas\\core\\indexing.py:1732: SettingWithCopyWarning: \n",
      "A value is trying to be set on a copy of a slice from a DataFrame\n",
      "\n",
      "See the caveats in the documentation: https://pandas.pydata.org/pandas-docs/stable/user_guide/indexing.html#returning-a-view-versus-a-copy\n",
      "  self._setitem_single_block(indexer, value, name)\n"
     ]
    }
   ],
   "source": [
    "for i in range(len(data.Vote_useful)):\n",
    "    data.Vote_useful.iloc[i] = data.Vote_useful.iloc[i].replace(',', '')"
   ]
  },
  {
   "cell_type": "code",
   "execution_count": 12,
   "id": "55e5f204",
   "metadata": {},
   "outputs": [
    {
     "name": "stdout",
     "output_type": "stream",
     "text": [
      "<class 'pandas.core.frame.DataFrame'>\n",
      "Int64Index: 2039 entries, 0 to 2039\n",
      "Data columns (total 4 columns):\n",
      " #   Column       Non-Null Count  Dtype         \n",
      "---  ------       --------------  -----         \n",
      " 0   Comment      2039 non-null   object        \n",
      " 1   Vote_useful  2039 non-null   int32         \n",
      " 2   Rating       2039 non-null   int64         \n",
      " 3   fixed_Date   2039 non-null   datetime64[ns]\n",
      "dtypes: datetime64[ns](1), int32(1), int64(1), object(1)\n",
      "memory usage: 71.7+ KB\n"
     ]
    }
   ],
   "source": [
    "data.Vote_useful = data.Vote_useful.astype('int')\n",
    "data.info()"
   ]
  },
  {
   "cell_type": "markdown",
   "id": "91b671af",
   "metadata": {},
   "source": [
    "## Process With Comment Column"
   ]
  },
  {
   "cell_type": "markdown",
   "id": "10e8bce4",
   "metadata": {},
   "source": [
    "### Remove  \" ' \" From String"
   ]
  },
  {
   "cell_type": "code",
   "execution_count": 13,
   "id": "91a9ddec",
   "metadata": {},
   "outputs": [],
   "source": [
    "for i in range(len(data.Comment)):\n",
    "    data.Comment.iloc[i] = data.Comment.iloc[i].replace(\"'\", \"\")\n",
    "    data.Comment.iloc[i] = data.Comment.iloc[i].lower()"
   ]
  },
  {
   "cell_type": "code",
   "execution_count": 14,
   "id": "fd4ecc86",
   "metadata": {},
   "outputs": [
    {
     "data": {
      "text/plain": [
       "'i absolutely love and adore this game. by far my favorite story roleplaying game out there. the quests, lore, plots, mysteries, grind, pulls, all of it. im a newer player, but i havent been bored yet of this game. i dont think i ever will. id say its biggest issues is lagging, and setting its quality different on its own. as well as occasional bugs on my laptop. if the frame per second(fps) could be a bit quicker that would be great. but other than that, the game is beautiful. will update.'"
      ]
     },
     "execution_count": 14,
     "metadata": {},
     "output_type": "execute_result"
    }
   ],
   "source": [
    "data.Comment.iloc[1]"
   ]
  },
  {
   "cell_type": "markdown",
   "id": "a225d6dd",
   "metadata": {},
   "source": [
    "### Remove non character except for dots"
   ]
  },
  {
   "cell_type": "code",
   "execution_count": 15,
   "id": "ec3562c0",
   "metadata": {},
   "outputs": [],
   "source": [
    "lst_ = []\n",
    "for i in data.Comment:\n",
    "    clean_sample = re.sub(r\"[^a-zA-Z0-9.]+\", ' ', i)\n",
    "    lst_.append(clean_sample)\n",
    "data['fixed_Comment'] = lst_"
   ]
  },
  {
   "cell_type": "markdown",
   "id": "85598f79",
   "metadata": {},
   "source": [
    "### Remove Stopwords"
   ]
  },
  {
   "cell_type": "code",
   "execution_count": 16,
   "id": "93a52c52",
   "metadata": {},
   "outputs": [],
   "source": [
    "def remove_stopwords(text):\n",
    "    stop = set(stopwords.words('english'))\n",
    "    text_split = text.split()\n",
    "    text = [word for word in text_split if word not in stop]\n",
    "    return ' '.join(text)\n",
    "\n",
    "data['fixed_Comment'] = data['fixed_Comment'].apply(remove_stopwords)"
   ]
  },
  {
   "cell_type": "markdown",
   "id": "7d8184ba",
   "metadata": {},
   "source": [
    "### Lematization"
   ]
  },
  {
   "cell_type": "code",
   "execution_count": 17,
   "id": "67a9a900",
   "metadata": {},
   "outputs": [],
   "source": [
    "lemmatizer = WordNetLemmatizer()\n",
    "def get_wordnet_pos(treebank_tag):\n",
    "        \"\"\"\n",
    "        return WORDNET POS compliance to WORDENT lemmatization (a,n,r,v)\n",
    "        \"\"\"\n",
    "        if treebank_tag.startswith('J'):\n",
    "            return wordnet.ADJ\n",
    "        elif treebank_tag.startswith('V'):\n",
    "            return wordnet.VERB\n",
    "        elif treebank_tag.startswith('N'):\n",
    "            return wordnet.NOUN\n",
    "        elif treebank_tag.startswith('R'):\n",
    "            return wordnet.ADV\n",
    "        else:\n",
    "            # As default pos in lemmatization is Noun\n",
    "            return wordnet.NOUN\n",
    "\n",
    "\n",
    "def lemmatize_text(text):\n",
    "    lemmatized = []\n",
    "    post_tag_list = pos_tag(word_tokenize(text))\n",
    "    for word, post_tag_val in post_tag_list:\n",
    "        lemmatized.append(lemmatizer.lemmatize(word, get_wordnet_pos(post_tag_val)))\n",
    "    text = ' '.join(x for x in lemmatized)\n",
    "    return text\n",
    "data['fixed_Comment'] = data['fixed_Comment'].apply(lemmatize_text)"
   ]
  },
  {
   "cell_type": "markdown",
   "id": "4d2d29f7",
   "metadata": {},
   "source": [
    "> Each of review are seperated into 5 groups alias:\n",
    "\n",
    "* Gameplay\n",
    "* Graphics\n",
    "* Music\n",
    "* Storyline\n",
    "* Gacha Mechanic\n",
    "* Technical Issue\n",
    "\n",
    "The Evaluation is seperated into three groups : Bad, Neutral, Good\n",
    "\n",
    "Each of statements is divided with dots\n",
    "\n",
    "I used a threhold to determine if that statement have good attitude or not"
   ]
  },
  {
   "cell_type": "code",
   "execution_count": 18,
   "id": "775586a5",
   "metadata": {},
   "outputs": [],
   "source": [
    "lst_technical = ['lag', 'bug', 'servers', 'connect', 'control', 'sync', 'glitch', \n",
    "                 'crash', 'hack', 'mobile', 'phone', 'pc', 'storage', 'space', 'fps', \n",
    "                'computer', 'laptop', 'log', 'frame' , 'linux', 'window', 'mac', 'android' 'batter', \n",
    "                 'heating', 'aim', 'ram', 'ping', 'performance', 'lan', 'loading', 'screen', 'button', \n",
    "                'dialogue', 'click', 'chrome', 'keyboard', 'mouse', 'touch', 'general']\n",
    "lst_gameplay = ['adventure', 'fighting', 'experience', 'content', 'event', 'f2p', 'community', 'coop',\n",
    "                'anniversary', 'screen', 'menu', 'rpg', 'rng', 'enemy', 'journey', 'open world', 'artifacts',\n",
    "               'gameplay', 'dialogue', 'exploration', 'progression', 'puzzle', 'puzzles', 'artifacts', \n",
    "                'material', 'cliff', 'boss', 'mob', 'general']\n",
    "lst_graphics = ['graphic', 'graphics', 'art', 'artwork', 'artworks', 'arts', 'scenery', \n",
    "                'sceneries' 'general']\n",
    "lst_music = ['music', 'sound','sounds', 'soundtracks', 'soundtrack', 'general']\n",
    "lst_storyline = ['story', 'stories', 'storyline', 'quests', 'quest', 'archon', 'character', \n",
    "                 'characters', 'lore', 'general']\n",
    "lst_gacha = ['pitty', 'wishes', 'gacha', 'drop rate', 'rate', 'primo', 'pull', 'pulling', 'cash', \n",
    "             'money', 'dollar', 'spent', 'general']"
   ]
  },
  {
   "cell_type": "markdown",
   "id": "fdda02fc",
   "metadata": {},
   "source": [
    "### Using negative and positive list word"
   ]
  },
  {
   "cell_type": "code",
   "execution_count": 19,
   "id": "28222b57",
   "metadata": {},
   "outputs": [],
   "source": [
    "negative_file = open(\"data/sentiment/negative_words.txt\", \"r\")\n",
    "negative_list = negative_file.readlines()\n",
    "for pos_word in range(len(negative_list)):\n",
    "    negative_list[pos_word] = negative_list[pos_word].replace('\\n', '')"
   ]
  },
  {
   "cell_type": "code",
   "execution_count": 20,
   "id": "3920d483",
   "metadata": {},
   "outputs": [],
   "source": [
    "positive_file = open(\"data/sentiment/positive_words.txt\", \"r\")\n",
    "positive_list = positive_file.readlines()\n",
    "for pos_word in range(len(positive_list)):\n",
    "    positive_list[pos_word] = positive_list[pos_word].replace('\\n', '')"
   ]
  },
  {
   "cell_type": "code",
   "execution_count": 21,
   "id": "63ea3eb7",
   "metadata": {},
   "outputs": [],
   "source": [
    "lst_graphics = ['graphic', 'graphics', 'art', 'artwork', 'artworks', 'arts', 'scenery', \n",
    "                'sceneries']\n",
    "lst_music = ['music', 'sound','sounds', 'soundtracks', 'soundtrack']\n",
    "lst_storyline = ['story', 'stories', 'storyline', 'quests', 'quest', 'archon', 'lore']\n",
    "lst_gacha = ['pitty', 'wishes', 'gacha', 'drop', 'drops', 'rate', 'rates', 'rated', 'primo',\n",
    "             'primogem', 'primogems', 'pull', 'pulling', 'cash', 'money', 'dollar', 'spent']"
   ]
  },
  {
   "cell_type": "markdown",
   "id": "44cc09b6",
   "metadata": {},
   "source": [
    "> In this function, I used to classify the attitude of a customer reviews toward each of fields as i mentioned above:\n",
    " * As there are 3 attitudes bad, neutral and good. Using the negative and positive words to determine.\n",
    " * Negative and positive ratio are calculated base on the number of negative and positive words in each of sentence, the formula is :\n",
    "     * <i>negative_ratio = count_negative/(count_negative + count_positive + 1)</i>\n",
    "     * <i>positive_ratio = count_positive/(count_negative + count_positive + 1)</i>\n",
    " * Now, it is clear that the bad and good attitude are easy to classify but what about neutral? So that I used another formula :\n",
    "     * <i>abs((count_negative - count_positive)/(count_negative + count_positive + 1))</i>\n",
    "       * From here, if the number of negative words is so close to the number of positive words then the formula above will give a very small number (less than 0.25 if there are only 1 negative word and two positive words or vice versa). So that, I only use a threshold ( It is 0.25 in the function ) to classify neutral attitude.\n",
    "     "
   ]
  },
  {
   "cell_type": "code",
   "execution_count": 22,
   "id": "bde43957",
   "metadata": {},
   "outputs": [],
   "source": [
    "def process_sentence_prototype(lst_attitude, lst_field):\n",
    "    for passage in data.fixed_Comment:\n",
    "        index_sentence = 0\n",
    "        flag_key_word = False\n",
    "#------------------------------------------\n",
    "        count_positive = 0\n",
    "        count_negative = 0\n",
    "\n",
    "        for sentence in passage.split('.'):\n",
    "            for word in sentence.split(' '):\n",
    "                if word != '':\n",
    "                    if word in lst_field:\n",
    "                        flag_key_word = True\n",
    "                        check_sentence = passage.split('.')[index_sentence]\n",
    "                        for check_word in check_sentence.split(' '):\n",
    "                            if check_word in positive_list:\n",
    "                                count_positive += 1\n",
    "                            if check_word in negative_list:\n",
    "                                count_negative += 1\n",
    "                        break\n",
    "            index_sentence += 1\n",
    "#---------------------process sentiment--------------------------------\n",
    "       \n",
    "        negative_ratio = count_negative/(count_negative + count_positive + 1)\n",
    "        positive_ratio = count_positive/(count_negative + count_positive + 1)\n",
    "\n",
    "        if (abs((count_negative - count_positive)/(count_negative + count_positive + 1)) <= 0.25):\n",
    "                lst_attitude.append('neutral')\n",
    "        else:\n",
    "            if(negative_ratio > positive_ratio):\n",
    "                lst_attitude.append('bad')\n",
    "                \n",
    "            elif (negative_ratio <= positive_ratio):\n",
    "                lst_attitude.append('good')\n"
   ]
  },
  {
   "cell_type": "markdown",
   "id": "b2b63b8c",
   "metadata": {},
   "source": [
    "### Processing sentiment"
   ]
  },
  {
   "cell_type": "code",
   "execution_count": 23,
   "id": "23cdbff6",
   "metadata": {},
   "outputs": [],
   "source": [
    "lst_technical_mention = []\n",
    "lst_technical_attitude = []\n",
    "lst_gameplay_mention = []\n",
    "lst_gameplay_attitude = []\n",
    "lst_graphics_mention = []\n",
    "lst_graphics_attitude = []\n",
    "lst_music_mention = []\n",
    "lst_music_attitude = []\n",
    "lst_storyline_mention = []\n",
    "lst_storyline_attitude = []\n",
    "lst_gacha_mention = []\n",
    "lst_gacha_attitude = []\n",
    "\n",
    "process_sentence_prototype(lst_technical_attitude, lst_technical)\n",
    "process_sentence_prototype(lst_gameplay_attitude, lst_gameplay)\n",
    "process_sentence_prototype(lst_graphics_attitude, lst_graphics)\n",
    "process_sentence_prototype(lst_music_attitude, lst_music)\n",
    "process_sentence_prototype(lst_storyline_attitude, lst_storyline)\n",
    "process_sentence_prototype(lst_gacha_attitude, lst_gacha)"
   ]
  },
  {
   "cell_type": "code",
   "execution_count": 24,
   "id": "01a8b016",
   "metadata": {},
   "outputs": [
    {
     "name": "stderr",
     "output_type": "stream",
     "text": [
      "C:\\Users\\ADMINI~1\\AppData\\Local\\Temp/ipykernel_11868/487282668.py:2: SettingWithCopyWarning: \n",
      "A value is trying to be set on a copy of a slice from a DataFrame.\n",
      "Try using .loc[row_indexer,col_indexer] = value instead\n",
      "\n",
      "See the caveats in the documentation: https://pandas.pydata.org/pandas-docs/stable/user_guide/indexing.html#returning-a-view-versus-a-copy\n",
      "  df['Attitude_technical'] = lst_technical_attitude\n",
      "C:\\Users\\ADMINI~1\\AppData\\Local\\Temp/ipykernel_11868/487282668.py:3: SettingWithCopyWarning: \n",
      "A value is trying to be set on a copy of a slice from a DataFrame.\n",
      "Try using .loc[row_indexer,col_indexer] = value instead\n",
      "\n",
      "See the caveats in the documentation: https://pandas.pydata.org/pandas-docs/stable/user_guide/indexing.html#returning-a-view-versus-a-copy\n",
      "  df['Attitude_gameplay'] = lst_gameplay_attitude\n",
      "C:\\Users\\ADMINI~1\\AppData\\Local\\Temp/ipykernel_11868/487282668.py:4: SettingWithCopyWarning: \n",
      "A value is trying to be set on a copy of a slice from a DataFrame.\n",
      "Try using .loc[row_indexer,col_indexer] = value instead\n",
      "\n",
      "See the caveats in the documentation: https://pandas.pydata.org/pandas-docs/stable/user_guide/indexing.html#returning-a-view-versus-a-copy\n",
      "  df['Attitude_graphics'] = lst_graphics_attitude\n"
     ]
    },
    {
     "data": {
      "text/html": [
       "<div>\n",
       "<style scoped>\n",
       "    .dataframe tbody tr th:only-of-type {\n",
       "        vertical-align: middle;\n",
       "    }\n",
       "\n",
       "    .dataframe tbody tr th {\n",
       "        vertical-align: top;\n",
       "    }\n",
       "\n",
       "    .dataframe thead th {\n",
       "        text-align: right;\n",
       "    }\n",
       "</style>\n",
       "<table border=\"1\" class=\"dataframe\">\n",
       "  <thead>\n",
       "    <tr style=\"text-align: right;\">\n",
       "      <th></th>\n",
       "      <th>fixed_Comment</th>\n",
       "      <th>Attitude_technical</th>\n",
       "      <th>Attitude_gameplay</th>\n",
       "      <th>Attitude_graphics</th>\n",
       "      <th>Attitude_music</th>\n",
       "      <th>Attitude_storyline</th>\n",
       "      <th>Attitude_gacha</th>\n",
       "    </tr>\n",
       "  </thead>\n",
       "  <tbody>\n",
       "    <tr>\n",
       "      <th>0</th>\n",
       "      <td>game general best ive ever play term adventure...</td>\n",
       "      <td>good</td>\n",
       "      <td>good</td>\n",
       "      <td>good</td>\n",
       "      <td>neutral</td>\n",
       "      <td>neutral</td>\n",
       "      <td>neutral</td>\n",
       "    </tr>\n",
       "    <tr>\n",
       "      <th>1</th>\n",
       "      <td>absolutely love adore game . far favorite stor...</td>\n",
       "      <td>neutral</td>\n",
       "      <td>neutral</td>\n",
       "      <td>neutral</td>\n",
       "      <td>neutral</td>\n",
       "      <td>neutral</td>\n",
       "      <td>neutral</td>\n",
       "    </tr>\n",
       "    <tr>\n",
       "      <th>2</th>\n",
       "      <td>amaze play day lag lot might becuse storage ne...</td>\n",
       "      <td>neutral</td>\n",
       "      <td>neutral</td>\n",
       "      <td>neutral</td>\n",
       "      <td>neutral</td>\n",
       "      <td>neutral</td>\n",
       "      <td>neutral</td>\n",
       "    </tr>\n",
       "    <tr>\n",
       "      <th>3</th>\n",
       "      <td>game truly amaze get well day day though many ...</td>\n",
       "      <td>neutral</td>\n",
       "      <td>neutral</td>\n",
       "      <td>neutral</td>\n",
       "      <td>neutral</td>\n",
       "      <td>neutral</td>\n",
       "      <td>neutral</td>\n",
       "    </tr>\n",
       "    <tr>\n",
       "      <th>4</th>\n",
       "      <td>release sumeru give much ive playing year . ge...</td>\n",
       "      <td>neutral</td>\n",
       "      <td>bad</td>\n",
       "      <td>good</td>\n",
       "      <td>neutral</td>\n",
       "      <td>neutral</td>\n",
       "      <td>neutral</td>\n",
       "    </tr>\n",
       "  </tbody>\n",
       "</table>\n",
       "</div>"
      ],
      "text/plain": [
       "                                       fixed_Comment Attitude_technical  \\\n",
       "0  game general best ive ever play term adventure...               good   \n",
       "1  absolutely love adore game . far favorite stor...            neutral   \n",
       "2  amaze play day lag lot might becuse storage ne...            neutral   \n",
       "3  game truly amaze get well day day though many ...            neutral   \n",
       "4  release sumeru give much ive playing year . ge...            neutral   \n",
       "\n",
       "  Attitude_gameplay Attitude_graphics Attitude_music Attitude_storyline  \\\n",
       "0              good              good        neutral            neutral   \n",
       "1           neutral           neutral        neutral            neutral   \n",
       "2           neutral           neutral        neutral            neutral   \n",
       "3           neutral           neutral        neutral            neutral   \n",
       "4               bad              good        neutral            neutral   \n",
       "\n",
       "  Attitude_gacha  \n",
       "0        neutral  \n",
       "1        neutral  \n",
       "2        neutral  \n",
       "3        neutral  \n",
       "4        neutral  "
      ]
     },
     "execution_count": 24,
     "metadata": {},
     "output_type": "execute_result"
    }
   ],
   "source": [
    "df = data[['fixed_Comment']]\n",
    "df['Attitude_technical'] = lst_technical_attitude\n",
    "df['Attitude_gameplay'] = lst_gameplay_attitude\n",
    "df['Attitude_graphics'] = lst_graphics_attitude\n",
    "df['Attitude_music'] = lst_music_attitude\n",
    "df['Attitude_storyline'] = lst_storyline_attitude\n",
    "df['Attitude_gacha'] = lst_gacha_attitude\n",
    "df.head()"
   ]
  },
  {
   "cell_type": "markdown",
   "id": "c6bb754a",
   "metadata": {},
   "source": [
    "### Visualization"
   ]
  },
  {
   "cell_type": "code",
   "execution_count": 25,
   "id": "2b2d7b05",
   "metadata": {},
   "outputs": [
    {
     "data": {
      "image/png": "[encoded data removed]",
      "text/plain": [
       "<Figure size 1440x576 with 6 Axes>"
      ]
     },
     "metadata": {
      "needs_background": "light"
     },
     "output_type": "display_data"
    }
   ],
   "source": [
    "fig, axs = plt.subplots(2, 3, figsize=(20,8))\n",
    "sns.countplot(ax=axs[0, 0], data=df, x='Attitude_technical', hue='Attitude_technical')\n",
    "sns.countplot(ax=axs[0, 1], data=df, x='Attitude_gameplay', hue='Attitude_gameplay')\n",
    "sns.countplot(ax=axs[0, 2], data=df, x='Attitude_graphics', hue='Attitude_graphics')\n",
    "sns.countplot(ax=axs[1, 0], data=df, x='Attitude_music', hue='Attitude_music')\n",
    "sns.countplot(ax=axs[1, 1], data=df, x='Attitude_storyline', hue='Attitude_storyline')\n",
    "sns.countplot(ax=axs[1, 2], data=df, x='Attitude_gacha', hue='Attitude_gacha');"
   ]
  },
  {
   "cell_type": "markdown",
   "id": "5287f855",
   "metadata": {},
   "source": [
    "> The idea to evaluate is base on the portion of bad attitude with good attitude if bad attitude take over a threshold (I used 0.4) then that field has bad attitude from the customers.\n",
    "   \n",
    "   * As from here, I can easy understand that graphics music and storyline are the good ones, because of significant larger portion good attitude than the bad attitude"
   ]
  },
  {
   "cell_type": "code",
   "execution_count": 26,
   "id": "7154f375",
   "metadata": {},
   "outputs": [],
   "source": [
    "df_technical = df.groupby(['Attitude_technical'])['Attitude_technical'].count().to_frame()\n",
    "df_gameplay = df.groupby(['Attitude_gameplay'])['Attitude_gameplay'].count().to_frame()\n",
    "df_graphics = df.groupby(['Attitude_graphics'])['Attitude_graphics'].count().to_frame()\n",
    "df_music = df.groupby(['Attitude_music'])['Attitude_music'].count().to_frame()\n",
    "df_storyline = df.groupby(['Attitude_storyline'])['Attitude_storyline'].count().to_frame()\n",
    "df_gacha = df.groupby(['Attitude_gacha'])['Attitude_gacha'].count().to_frame()"
   ]
  },
  {
   "cell_type": "markdown",
   "id": "d026d79e",
   "metadata": {},
   "source": [
    "* Here is how I perform the evaluation, Threshold ( conf ) : 0.4"
   ]
  },
  {
   "cell_type": "code",
   "execution_count": 27,
   "id": "d5e1fbb1",
   "metadata": {},
   "outputs": [],
   "source": [
    "lst_df = [df_technical, df_gameplay, df_graphics, df_music, df_storyline, df_gacha]\n",
    "lst_df_bad = []\n",
    "lst_df_good = []\n",
    "conf = 0.4\n",
    "for item in lst_df:\n",
    "    item_conf = item.iloc[0] / item.iloc[1]\n",
    "    if (item_conf[0] >= conf):\n",
    "        lst_df_bad.append(item.columns[0])\n",
    "    else:\n",
    "        lst_df_good.append(item.columns[0])"
   ]
  },
  {
   "cell_type": "code",
   "execution_count": 28,
   "id": "9f20385a",
   "metadata": {},
   "outputs": [
    {
     "name": "stdout",
     "output_type": "stream",
     "text": [
      "List of bad attitude fields:  ['Attitude_technical', 'Attitude_gameplay', 'Attitude_gacha']\n",
      "List of good attitude fields:  ['Attitude_graphics', 'Attitude_music', 'Attitude_storyline']\n"
     ]
    }
   ],
   "source": [
    "print('List of bad attitude fields: ', lst_df_bad)\n",
    "print('List of good attitude fields: ', lst_df_good)"
   ]
  },
  {
   "cell_type": "markdown",
   "id": "f1e86fbb",
   "metadata": {},
   "source": [
    "* It is clear that most of people have good attitude with the music, storyline and graphics of the product.\n",
    "* As for technical issues, gacha mechanic and gameplay problems can be seen as the most complained ones"
   ]
  },
  {
   "cell_type": "markdown",
   "id": "5fdbe9f3",
   "metadata": {},
   "source": [
    "### ... May Work more"
   ]
  }
 ],
 "metadata": {
  "kernelspec": {
   "display_name": "Python 3 (ipykernel)",
   "language": "python",
   "name": "python3"
  },
  "language_info": {
   "codemirror_mode": {
    "name": "ipython",
    "version": 3
   },
   "file_extension": ".py",
   "mimetype": "text/x-python",
   "name": "python",
   "nbconvert_exporter": "python",
   "pygments_lexer": "ipython3",
   "version": "3.9.2rc1"
  }
 },
 "nbformat": 4,
 "nbformat_minor": 5
}
