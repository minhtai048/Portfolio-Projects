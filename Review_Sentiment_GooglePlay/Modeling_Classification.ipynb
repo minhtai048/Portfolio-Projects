{
 "cells": [
  {
   "cell_type": "code",
   "execution_count": 1,
   "id": "93859273",
   "metadata": {},
   "outputs": [],
   "source": [
    "import numpy as np\n",
    "import pandas as pd\n",
    "import matplotlib.pyplot as plt\n",
    "import seaborn as sns\n",
    "import re\n",
    "import time\n",
    "from nltk.corpus import stopwords, wordnet\n",
    "from nltk.stem import WordNetLemmatizer\n",
    "from nltk import pos_tag, word_tokenize\n",
    "from imblearn.over_sampling import SMOTE, RandomOverSampler\n",
    "from imblearn.under_sampling import *\n",
    "from sklearn.feature_extraction.text import CountVectorizer, TfidfVectorizer\n",
    "from sklearn.model_selection import train_test_split, cross_val_score\n",
    "from sklearn.decomposition import PCA\n",
    "from sklearn.ensemble import RandomForestClassifier\n",
    "from sklearn.linear_model import LogisticRegression\n",
    "from sklearn.naive_bayes import MultinomialNB, BernoulliNB, GaussianNB\n",
    "from sklearn.neighbors import KNeighborsClassifier\n",
    "from sklearn.tree import DecisionTreeClassifier\n",
    "from sklearn.ensemble import AdaBoostClassifier\n",
    "from xgboost import XGBClassifier\n",
    "from sklearn.svm import SVC\n",
    "from sklearn.metrics import accuracy_score, classification_report"
   ]
  },
  {
   "cell_type": "code",
   "execution_count": 2,
   "id": "76d7f8a2",
   "metadata": {},
   "outputs": [
    {
     "data": {
      "text/html": [
       "<div>\n",
       "<style scoped>\n",
       "    .dataframe tbody tr th:only-of-type {\n",
       "        vertical-align: middle;\n",
       "    }\n",
       "\n",
       "    .dataframe tbody tr th {\n",
       "        vertical-align: top;\n",
       "    }\n",
       "\n",
       "    .dataframe thead th {\n",
       "        text-align: right;\n",
       "    }\n",
       "</style>\n",
       "<table border=\"1\" class=\"dataframe\">\n",
       "  <thead>\n",
       "    <tr style=\"text-align: right;\">\n",
       "      <th></th>\n",
       "      <th>Comment</th>\n",
       "      <th>Vote_useful</th>\n",
       "      <th>Date</th>\n",
       "      <th>Rating</th>\n",
       "    </tr>\n",
       "  </thead>\n",
       "  <tbody>\n",
       "    <tr>\n",
       "      <th>0</th>\n",
       "      <td>The game in general is the best I've ever play...</td>\n",
       "      <td>32</td>\n",
       "      <td>August 23, 2022</td>\n",
       "      <td>5</td>\n",
       "    </tr>\n",
       "    <tr>\n",
       "      <th>1</th>\n",
       "      <td>I absolutely love and adore this game. By far ...</td>\n",
       "      <td>643</td>\n",
       "      <td>August 16, 2022</td>\n",
       "      <td>5</td>\n",
       "    </tr>\n",
       "    <tr>\n",
       "      <th>2</th>\n",
       "      <td>It is amazing, I have only been playing it for...</td>\n",
       "      <td>396</td>\n",
       "      <td>August 21, 2022</td>\n",
       "      <td>4</td>\n",
       "    </tr>\n",
       "    <tr>\n",
       "      <th>3</th>\n",
       "      <td>This game is truly amazing and getting better ...</td>\n",
       "      <td>188</td>\n",
       "      <td>August 19, 2022</td>\n",
       "      <td>4</td>\n",
       "    </tr>\n",
       "    <tr>\n",
       "      <th>4</th>\n",
       "      <td>The release of Sumeru gave so much to do! I've...</td>\n",
       "      <td>91</td>\n",
       "      <td>September 5, 2022</td>\n",
       "      <td>4</td>\n",
       "    </tr>\n",
       "  </tbody>\n",
       "</table>\n",
       "</div>"
      ],
      "text/plain": [
       "                                             Comment Vote_useful  \\\n",
       "0  The game in general is the best I've ever play...          32   \n",
       "1  I absolutely love and adore this game. By far ...         643   \n",
       "2  It is amazing, I have only been playing it for...         396   \n",
       "3  This game is truly amazing and getting better ...         188   \n",
       "4  The release of Sumeru gave so much to do! I've...          91   \n",
       "\n",
       "                Date  Rating  \n",
       "0    August 23, 2022       5  \n",
       "1    August 16, 2022       5  \n",
       "2    August 21, 2022       4  \n",
       "3    August 19, 2022       4  \n",
       "4  September 5, 2022       4  "
      ]
     },
     "execution_count": 2,
     "metadata": {},
     "output_type": "execute_result"
    }
   ],
   "source": [
    "data = pd.read_csv('data/GI_comment.csv')\n",
    "data.head()"
   ]
  },
  {
   "cell_type": "code",
   "execution_count": 3,
   "id": "4e94b99c",
   "metadata": {},
   "outputs": [
    {
     "name": "stdout",
     "output_type": "stream",
     "text": [
      "<class 'pandas.core.frame.DataFrame'>\n",
      "RangeIndex: 2040 entries, 0 to 2039\n",
      "Data columns (total 4 columns):\n",
      " #   Column       Non-Null Count  Dtype \n",
      "---  ------       --------------  ----- \n",
      " 0   Comment      2040 non-null   object\n",
      " 1   Vote_useful  2040 non-null   object\n",
      " 2   Date         2040 non-null   object\n",
      " 3   Rating       2040 non-null   int64 \n",
      "dtypes: int64(1), object(3)\n",
      "memory usage: 63.9+ KB\n"
     ]
    }
   ],
   "source": [
    "data.info()"
   ]
  },
  {
   "cell_type": "markdown",
   "id": "9f4d77d5",
   "metadata": {},
   "source": [
    "# Preprocessing And Cleaning"
   ]
  },
  {
   "cell_type": "code",
   "execution_count": 4,
   "id": "6726282d",
   "metadata": {},
   "outputs": [
    {
     "data": {
      "text/plain": [
       "Comment        0\n",
       "Vote_useful    0\n",
       "Date           0\n",
       "Rating         0\n",
       "dtype: int64"
      ]
     },
     "execution_count": 4,
     "metadata": {},
     "output_type": "execute_result"
    }
   ],
   "source": [
    "data.isnull().sum()"
   ]
  },
  {
   "cell_type": "markdown",
   "id": "be32348a",
   "metadata": {},
   "source": [
    "<font size=\"4\">There are no null values</font>"
   ]
  },
  {
   "cell_type": "code",
   "execution_count": 5,
   "id": "10d67ee8",
   "metadata": {},
   "outputs": [
    {
     "data": {
      "text/html": [
       "<div>\n",
       "<style scoped>\n",
       "    .dataframe tbody tr th:only-of-type {\n",
       "        vertical-align: middle;\n",
       "    }\n",
       "\n",
       "    .dataframe tbody tr th {\n",
       "        vertical-align: top;\n",
       "    }\n",
       "\n",
       "    .dataframe thead th {\n",
       "        text-align: right;\n",
       "    }\n",
       "</style>\n",
       "<table border=\"1\" class=\"dataframe\">\n",
       "  <thead>\n",
       "    <tr style=\"text-align: right;\">\n",
       "      <th></th>\n",
       "      <th>Comment</th>\n",
       "      <th>Vote_useful</th>\n",
       "      <th>Date</th>\n",
       "      <th>Rating</th>\n",
       "    </tr>\n",
       "  </thead>\n",
       "  <tbody>\n",
       "    <tr>\n",
       "      <th>896</th>\n",
       "      <td>This game is really fun to play with, but I'm ...</td>\n",
       "      <td>0</td>\n",
       "      <td>August 14, 2022</td>\n",
       "      <td>4</td>\n",
       "    </tr>\n",
       "  </tbody>\n",
       "</table>\n",
       "</div>"
      ],
      "text/plain": [
       "                                               Comment Vote_useful  \\\n",
       "896  This game is really fun to play with, but I'm ...           0   \n",
       "\n",
       "                Date  Rating  \n",
       "896  August 14, 2022       4  "
      ]
     },
     "execution_count": 5,
     "metadata": {},
     "output_type": "execute_result"
    }
   ],
   "source": [
    "index_dup = data.duplicated()\n",
    "data[index_dup]"
   ]
  },
  {
   "cell_type": "markdown",
   "id": "b39c3553",
   "metadata": {},
   "source": [
    "<font size=\"4\">There are 1 duplicated row</font>"
   ]
  },
  {
   "cell_type": "code",
   "execution_count": 6,
   "id": "990b9882",
   "metadata": {},
   "outputs": [],
   "source": [
    "data = data.drop_duplicates()"
   ]
  },
  {
   "cell_type": "markdown",
   "id": "2584c564",
   "metadata": {},
   "source": [
    "## Process With Date Column"
   ]
  },
  {
   "cell_type": "code",
   "execution_count": 7,
   "id": "123061b4",
   "metadata": {},
   "outputs": [
    {
     "data": {
      "text/html": [
       "<div>\n",
       "<style scoped>\n",
       "    .dataframe tbody tr th:only-of-type {\n",
       "        vertical-align: middle;\n",
       "    }\n",
       "\n",
       "    .dataframe tbody tr th {\n",
       "        vertical-align: top;\n",
       "    }\n",
       "\n",
       "    .dataframe thead th {\n",
       "        text-align: right;\n",
       "    }\n",
       "</style>\n",
       "<table border=\"1\" class=\"dataframe\">\n",
       "  <thead>\n",
       "    <tr style=\"text-align: right;\">\n",
       "      <th></th>\n",
       "      <th>Comment</th>\n",
       "      <th>Vote_useful</th>\n",
       "      <th>Date</th>\n",
       "      <th>Rating</th>\n",
       "      <th>fixed_Date</th>\n",
       "    </tr>\n",
       "  </thead>\n",
       "  <tbody>\n",
       "    <tr>\n",
       "      <th>0</th>\n",
       "      <td>The game in general is the best I've ever play...</td>\n",
       "      <td>32</td>\n",
       "      <td>August 23, 2022</td>\n",
       "      <td>5</td>\n",
       "      <td>2022-08-23</td>\n",
       "    </tr>\n",
       "    <tr>\n",
       "      <th>1</th>\n",
       "      <td>I absolutely love and adore this game. By far ...</td>\n",
       "      <td>643</td>\n",
       "      <td>August 16, 2022</td>\n",
       "      <td>5</td>\n",
       "      <td>2022-08-16</td>\n",
       "    </tr>\n",
       "    <tr>\n",
       "      <th>2</th>\n",
       "      <td>It is amazing, I have only been playing it for...</td>\n",
       "      <td>396</td>\n",
       "      <td>August 21, 2022</td>\n",
       "      <td>4</td>\n",
       "      <td>2022-08-21</td>\n",
       "    </tr>\n",
       "    <tr>\n",
       "      <th>3</th>\n",
       "      <td>This game is truly amazing and getting better ...</td>\n",
       "      <td>188</td>\n",
       "      <td>August 19, 2022</td>\n",
       "      <td>4</td>\n",
       "      <td>2022-08-19</td>\n",
       "    </tr>\n",
       "    <tr>\n",
       "      <th>4</th>\n",
       "      <td>The release of Sumeru gave so much to do! I've...</td>\n",
       "      <td>91</td>\n",
       "      <td>September 5, 2022</td>\n",
       "      <td>4</td>\n",
       "      <td>2022-09-05</td>\n",
       "    </tr>\n",
       "  </tbody>\n",
       "</table>\n",
       "</div>"
      ],
      "text/plain": [
       "                                             Comment Vote_useful  \\\n",
       "0  The game in general is the best I've ever play...          32   \n",
       "1  I absolutely love and adore this game. By far ...         643   \n",
       "2  It is amazing, I have only been playing it for...         396   \n",
       "3  This game is truly amazing and getting better ...         188   \n",
       "4  The release of Sumeru gave so much to do! I've...          91   \n",
       "\n",
       "                Date  Rating fixed_Date  \n",
       "0    August 23, 2022       5 2022-08-23  \n",
       "1    August 16, 2022       5 2022-08-16  \n",
       "2    August 21, 2022       4 2022-08-21  \n",
       "3    August 19, 2022       4 2022-08-19  \n",
       "4  September 5, 2022       4 2022-09-05  "
      ]
     },
     "execution_count": 7,
     "metadata": {},
     "output_type": "execute_result"
    }
   ],
   "source": [
    "data['fixed_Date'] = pd.to_datetime(data['Date'])\n",
    "data.head()"
   ]
  },
  {
   "cell_type": "code",
   "execution_count": 8,
   "id": "b9bd7ed7",
   "metadata": {},
   "outputs": [
    {
     "data": {
      "text/html": [
       "<div>\n",
       "<style scoped>\n",
       "    .dataframe tbody tr th:only-of-type {\n",
       "        vertical-align: middle;\n",
       "    }\n",
       "\n",
       "    .dataframe tbody tr th {\n",
       "        vertical-align: top;\n",
       "    }\n",
       "\n",
       "    .dataframe thead th {\n",
       "        text-align: right;\n",
       "    }\n",
       "</style>\n",
       "<table border=\"1\" class=\"dataframe\">\n",
       "  <thead>\n",
       "    <tr style=\"text-align: right;\">\n",
       "      <th></th>\n",
       "      <th>Comment</th>\n",
       "      <th>Vote_useful</th>\n",
       "      <th>Rating</th>\n",
       "      <th>fixed_Date</th>\n",
       "    </tr>\n",
       "  </thead>\n",
       "  <tbody>\n",
       "    <tr>\n",
       "      <th>0</th>\n",
       "      <td>The game in general is the best I've ever play...</td>\n",
       "      <td>32</td>\n",
       "      <td>5</td>\n",
       "      <td>2022-08-23</td>\n",
       "    </tr>\n",
       "    <tr>\n",
       "      <th>1</th>\n",
       "      <td>I absolutely love and adore this game. By far ...</td>\n",
       "      <td>643</td>\n",
       "      <td>5</td>\n",
       "      <td>2022-08-16</td>\n",
       "    </tr>\n",
       "    <tr>\n",
       "      <th>2</th>\n",
       "      <td>It is amazing, I have only been playing it for...</td>\n",
       "      <td>396</td>\n",
       "      <td>4</td>\n",
       "      <td>2022-08-21</td>\n",
       "    </tr>\n",
       "    <tr>\n",
       "      <th>3</th>\n",
       "      <td>This game is truly amazing and getting better ...</td>\n",
       "      <td>188</td>\n",
       "      <td>4</td>\n",
       "      <td>2022-08-19</td>\n",
       "    </tr>\n",
       "    <tr>\n",
       "      <th>4</th>\n",
       "      <td>The release of Sumeru gave so much to do! I've...</td>\n",
       "      <td>91</td>\n",
       "      <td>4</td>\n",
       "      <td>2022-09-05</td>\n",
       "    </tr>\n",
       "  </tbody>\n",
       "</table>\n",
       "</div>"
      ],
      "text/plain": [
       "                                             Comment Vote_useful  Rating  \\\n",
       "0  The game in general is the best I've ever play...          32       5   \n",
       "1  I absolutely love and adore this game. By far ...         643       5   \n",
       "2  It is amazing, I have only been playing it for...         396       4   \n",
       "3  This game is truly amazing and getting better ...         188       4   \n",
       "4  The release of Sumeru gave so much to do! I've...          91       4   \n",
       "\n",
       "  fixed_Date  \n",
       "0 2022-08-23  \n",
       "1 2022-08-16  \n",
       "2 2022-08-21  \n",
       "3 2022-08-19  \n",
       "4 2022-09-05  "
      ]
     },
     "execution_count": 8,
     "metadata": {},
     "output_type": "execute_result"
    }
   ],
   "source": [
    "data = data.drop(columns=['Date'])\n",
    "data.head()"
   ]
  },
  {
   "cell_type": "code",
   "execution_count": 9,
   "id": "e6a147cc",
   "metadata": {},
   "outputs": [
    {
     "name": "stdout",
     "output_type": "stream",
     "text": [
      "<class 'pandas.core.frame.DataFrame'>\n",
      "Int64Index: 2039 entries, 0 to 2039\n",
      "Data columns (total 4 columns):\n",
      " #   Column       Non-Null Count  Dtype         \n",
      "---  ------       --------------  -----         \n",
      " 0   Comment      2039 non-null   object        \n",
      " 1   Vote_useful  2039 non-null   object        \n",
      " 2   Rating       2039 non-null   int64         \n",
      " 3   fixed_Date   2039 non-null   datetime64[ns]\n",
      "dtypes: datetime64[ns](1), int64(1), object(2)\n",
      "memory usage: 79.6+ KB\n"
     ]
    }
   ],
   "source": [
    "data.info()"
   ]
  },
  {
   "cell_type": "markdown",
   "id": "60fdfddb",
   "metadata": {},
   "source": [
    "## Process With Vote_useful Column"
   ]
  },
  {
   "cell_type": "code",
   "execution_count": 10,
   "id": "479a75cc",
   "metadata": {},
   "outputs": [
    {
     "name": "stderr",
     "output_type": "stream",
     "text": [
      "c:\\users\\administrator\\appdata\\local\\programs\\python\\python39\\lib\\site-packages\\pandas\\core\\indexing.py:1732: SettingWithCopyWarning: \n",
      "A value is trying to be set on a copy of a slice from a DataFrame\n",
      "\n",
      "See the caveats in the documentation: https://pandas.pydata.org/pandas-docs/stable/user_guide/indexing.html#returning-a-view-versus-a-copy\n",
      "  self._setitem_single_block(indexer, value, name)\n"
     ]
    }
   ],
   "source": [
    "for i in range(len(data.Vote_useful)):\n",
    "    data.Vote_useful.iloc[i] = data.Vote_useful.iloc[i].replace(',', '')"
   ]
  },
  {
   "cell_type": "code",
   "execution_count": 11,
   "id": "55e5f204",
   "metadata": {},
   "outputs": [
    {
     "name": "stdout",
     "output_type": "stream",
     "text": [
      "<class 'pandas.core.frame.DataFrame'>\n",
      "Int64Index: 2039 entries, 0 to 2039\n",
      "Data columns (total 4 columns):\n",
      " #   Column       Non-Null Count  Dtype         \n",
      "---  ------       --------------  -----         \n",
      " 0   Comment      2039 non-null   object        \n",
      " 1   Vote_useful  2039 non-null   int32         \n",
      " 2   Rating       2039 non-null   int64         \n",
      " 3   fixed_Date   2039 non-null   datetime64[ns]\n",
      "dtypes: datetime64[ns](1), int32(1), int64(1), object(1)\n",
      "memory usage: 71.7+ KB\n"
     ]
    }
   ],
   "source": [
    "data.Vote_useful = data.Vote_useful.astype('int')\n",
    "data.info()"
   ]
  },
  {
   "cell_type": "markdown",
   "id": "91b671af",
   "metadata": {},
   "source": [
    "## Process With Comment Column"
   ]
  },
  {
   "cell_type": "markdown",
   "id": "10e8bce4",
   "metadata": {},
   "source": [
    "### Remove  \" ' \" From Comment"
   ]
  },
  {
   "cell_type": "code",
   "execution_count": 12,
   "id": "91a9ddec",
   "metadata": {},
   "outputs": [],
   "source": [
    "for i in range(len(data.Comment)):\n",
    "    data.Comment.iloc[i] = data.Comment.iloc[i].replace(\"'\", \"\")\n",
    "    data.Comment.iloc[i] = data.Comment.iloc[i].lower()"
   ]
  },
  {
   "cell_type": "code",
   "execution_count": 13,
   "id": "fd4ecc86",
   "metadata": {},
   "outputs": [
    {
     "data": {
      "text/plain": [
       "'i absolutely love and adore this game. by far my favorite story roleplaying game out there. the quests, lore, plots, mysteries, grind, pulls, all of it. im a newer player, but i havent been bored yet of this game. i dont think i ever will. id say its biggest issues is lagging, and setting its quality different on its own. as well as occasional bugs on my laptop. if the frame per second(fps) could be a bit quicker that would be great. but other than that, the game is beautiful. will update.'"
      ]
     },
     "execution_count": 13,
     "metadata": {},
     "output_type": "execute_result"
    }
   ],
   "source": [
    "data.Comment.iloc[1]"
   ]
  },
  {
   "cell_type": "markdown",
   "id": "1bba02c6",
   "metadata": {},
   "source": [
    "### Remove None Character From Comment"
   ]
  },
  {
   "cell_type": "code",
   "execution_count": 14,
   "id": "ec3562c0",
   "metadata": {},
   "outputs": [],
   "source": [
    "lst_ = []\n",
    "for i in data.Comment:\n",
    "    clean_sample = re.sub(r\"[^a-zA-Z0-9.]+\", ' ', i)\n",
    "    lst_.append(clean_sample)\n",
    "data['fixed_Comment'] = lst_"
   ]
  },
  {
   "cell_type": "markdown",
   "id": "97fcae4b",
   "metadata": {},
   "source": [
    "### Remove Stopwords"
   ]
  },
  {
   "cell_type": "code",
   "execution_count": 168,
   "id": "93a52c52",
   "metadata": {},
   "outputs": [],
   "source": [
    "def remove_stopwords(text):\n",
    "    stop = set(stopwords.words('english'))\n",
    "    text_split = text.split()\n",
    "    text = [word for word in text_split if word not in stop]\n",
    "    return ' '.join(text)\n",
    "\n",
    "data['fixed_Comment'] = data['fixed_Comment'].apply(remove_stopwords)"
   ]
  },
  {
   "cell_type": "markdown",
   "id": "9ffc488e",
   "metadata": {},
   "source": [
    "### Lemmatization"
   ]
  },
  {
   "cell_type": "code",
   "execution_count": 169,
   "id": "67a9a900",
   "metadata": {},
   "outputs": [],
   "source": [
    "lemmatizer = WordNetLemmatizer()\n",
    "def get_wordnet_pos(treebank_tag):\n",
    "        \"\"\"\n",
    "        return WORDNET POS compliance to WORDENT lemmatization (a,n,r,v)\n",
    "        \"\"\"\n",
    "        if treebank_tag.startswith('J'):\n",
    "            return wordnet.ADJ\n",
    "        elif treebank_tag.startswith('V'):\n",
    "            return wordnet.VERB\n",
    "        elif treebank_tag.startswith('N'):\n",
    "            return wordnet.NOUN\n",
    "        elif treebank_tag.startswith('R'):\n",
    "            return wordnet.ADV\n",
    "        else:\n",
    "            # As default pos in lemmatization is Noun\n",
    "            return wordnet.NOUN\n",
    "\n",
    "\n",
    "def lemmatize_text(text):\n",
    "    lemmatized = []\n",
    "    post_tag_list = pos_tag(word_tokenize(text))\n",
    "    for word, post_tag_val in post_tag_list:\n",
    "        lemmatized.append(lemmatizer.lemmatize(word, get_wordnet_pos(post_tag_val)))\n",
    "    text = ' '.join(x for x in lemmatized)\n",
    "    return text\n",
    "data['fixed_Comment'] = data['fixed_Comment'].apply(lemmatize_text)"
   ]
  },
  {
   "cell_type": "markdown",
   "id": "34f1eace",
   "metadata": {},
   "source": [
    "### Using list of negative and positive words"
   ]
  },
  {
   "cell_type": "code",
   "execution_count": 170,
   "id": "28222b57",
   "metadata": {},
   "outputs": [],
   "source": [
    "negative_file = open(\"data/sentiment/negative_words.txt\", \"r\")\n",
    "negative_list = negative_file.readlines()\n",
    "for pos_word in range(len(negative_list)):\n",
    "    negative_list[pos_word] = negative_list[pos_word].replace('\\n', '')"
   ]
  },
  {
   "cell_type": "code",
   "execution_count": 171,
   "id": "3920d483",
   "metadata": {},
   "outputs": [],
   "source": [
    "positive_file = open(\"data/sentiment/positive_words.txt\", \"r\")\n",
    "positive_list = positive_file.readlines()\n",
    "for pos_word in range(len(positive_list)):\n",
    "    positive_list[pos_word] = positive_list[pos_word].replace('\\n', '')"
   ]
  },
  {
   "cell_type": "markdown",
   "id": "36089934",
   "metadata": {},
   "source": [
    "### Processing sentiment in comment"
   ]
  },
  {
   "cell_type": "markdown",
   "id": "f16e264c",
   "metadata": {},
   "source": [
    "* The idea is to replace the words in negative list with 'bad' and positive list with 'good' all over the comments then compute the negative and positive ratio base on the negative and positive words appear in each comments"
   ]
  },
  {
   "cell_type": "code",
   "execution_count": 172,
   "id": "84795d0b",
   "metadata": {},
   "outputs": [],
   "source": [
    "def process_sentence_sentiment(lst_positive_ratio, lst_negative_ratio):\n",
    "    for passage in data.fixed_Comment:\n",
    "        index_sentence = 0\n",
    "        flag_key_word = False\n",
    "#------------------------------------------\n",
    "        count_positive = 0\n",
    "        count_negative = 0\n",
    "\n",
    "        for sentence in passage.split('.'):\n",
    "            for idx_word in range(len(sentence.split(' '))):\n",
    "                if sentence.split(' ')[idx_word] != '':\n",
    "                        if sentence.split(' ')[idx_word] in positive_list:\n",
    "                            data.fixed_Comment = data.fixed_Comment.replace(sentence.split(' ')[idx_word],\n",
    "                                                                            'good', regex=True)\n",
    "                            count_positive += 1\n",
    "                        if sentence.split(' ')[idx_word] in negative_list:\n",
    "                            data.fixed_Comment = data.fixed_Comment.replace(sentence.split(' ')[idx_word],\n",
    "                                                                            'bad', regex=True)\n",
    "                            count_negative += 1\n",
    "#---------------------process sentiment--------------------------------\n",
    "        negative_ratio = count_negative/(count_negative + count_positive + 1)\n",
    "        positive_ratio = count_positive/(count_negative + count_positive + 1)\n",
    "        lst_negative_ratio.append(negative_ratio)\n",
    "        lst_positive_ratio.append(positive_ratio)"
   ]
  },
  {
   "cell_type": "code",
   "execution_count": 173,
   "id": "f59d77ef",
   "metadata": {},
   "outputs": [],
   "source": [
    "lst_negative = []\n",
    "lst_positive = []\n",
    "process_sentence_sentiment(lst_positive, lst_negative)"
   ]
  },
  {
   "cell_type": "code",
   "execution_count": 174,
   "id": "57985ac8",
   "metadata": {},
   "outputs": [
    {
     "name": "stderr",
     "output_type": "stream",
     "text": [
      "C:\\Users\\ADMINI~1\\AppData\\Local\\Temp/ipykernel_16572/1614466589.py:2: SettingWithCopyWarning: \n",
      "A value is trying to be set on a copy of a slice from a DataFrame.\n",
      "Try using .loc[row_indexer,col_indexer] = value instead\n",
      "\n",
      "See the caveats in the documentation: https://pandas.pydata.org/pandas-docs/stable/user_guide/indexing.html#returning-a-view-versus-a-copy\n",
      "  df_s['negative_ratio'] = lst_negative\n",
      "C:\\Users\\ADMINI~1\\AppData\\Local\\Temp/ipykernel_16572/1614466589.py:3: SettingWithCopyWarning: \n",
      "A value is trying to be set on a copy of a slice from a DataFrame.\n",
      "Try using .loc[row_indexer,col_indexer] = value instead\n",
      "\n",
      "See the caveats in the documentation: https://pandas.pydata.org/pandas-docs/stable/user_guide/indexing.html#returning-a-view-versus-a-copy\n",
      "  df_s['positive_ratio'] = lst_positive\n"
     ]
    },
    {
     "data": {
      "text/html": [
       "<div>\n",
       "<style scoped>\n",
       "    .dataframe tbody tr th:only-of-type {\n",
       "        vertical-align: middle;\n",
       "    }\n",
       "\n",
       "    .dataframe tbody tr th {\n",
       "        vertical-align: top;\n",
       "    }\n",
       "\n",
       "    .dataframe thead th {\n",
       "        text-align: right;\n",
       "    }\n",
       "</style>\n",
       "<table border=\"1\" class=\"dataframe\">\n",
       "  <thead>\n",
       "    <tr style=\"text-align: right;\">\n",
       "      <th></th>\n",
       "      <th>fixed_Comment</th>\n",
       "      <th>negative_ratio</th>\n",
       "      <th>positive_ratio</th>\n",
       "    </tr>\n",
       "  </thead>\n",
       "  <tbody>\n",
       "    <tr>\n",
       "      <th>0</th>\n",
       "      <td>game general good ive ever play term adventure...</td>\n",
       "      <td>0.166667</td>\n",
       "      <td>0.666667</td>\n",
       "    </tr>\n",
       "    <tr>\n",
       "      <th>1</th>\n",
       "      <td>abadolutely good good game . far good story ro...</td>\n",
       "      <td>0.428571</td>\n",
       "      <td>0.500000</td>\n",
       "    </tr>\n",
       "    <tr>\n",
       "      <th>2</th>\n",
       "      <td>good play day bad lot might becuse stobad need...</td>\n",
       "      <td>0.333333</td>\n",
       "      <td>0.555556</td>\n",
       "    </tr>\n",
       "    <tr>\n",
       "      <th>3</th>\n",
       "      <td>game truly good get good day day thobad many b...</td>\n",
       "      <td>0.400000</td>\n",
       "      <td>0.500000</td>\n",
       "    </tr>\n",
       "    <tr>\n",
       "      <th>4</th>\n",
       "      <td>relgood sumeru give much ive playing year . ge...</td>\n",
       "      <td>0.166667</td>\n",
       "      <td>0.666667</td>\n",
       "    </tr>\n",
       "  </tbody>\n",
       "</table>\n",
       "</div>"
      ],
      "text/plain": [
       "                                       fixed_Comment  negative_ratio  \\\n",
       "0  game general good ive ever play term adventure...        0.166667   \n",
       "1  abadolutely good good game . far good story ro...        0.428571   \n",
       "2  good play day bad lot might becuse stobad need...        0.333333   \n",
       "3  game truly good get good day day thobad many b...        0.400000   \n",
       "4  relgood sumeru give much ive playing year . ge...        0.166667   \n",
       "\n",
       "   positive_ratio  \n",
       "0        0.666667  \n",
       "1        0.500000  \n",
       "2        0.555556  \n",
       "3        0.500000  \n",
       "4        0.666667  "
      ]
     },
     "execution_count": 174,
     "metadata": {},
     "output_type": "execute_result"
    }
   ],
   "source": [
    "df_s = data[['fixed_Comment']]\n",
    "df_s['negative_ratio'] = lst_negative\n",
    "df_s['positive_ratio'] = lst_positive\n",
    "df_s.head()"
   ]
  },
  {
   "cell_type": "markdown",
   "id": "403f62c5",
   "metadata": {},
   "source": [
    "#### An example of how the process transform the comments"
   ]
  },
  {
   "cell_type": "markdown",
   "id": "28f1f4e2",
   "metadata": {},
   "source": [
    "* Using the regrex expression the process may transform incorrectly (such as display tp displgood) but wont affect the output"
   ]
  },
  {
   "cell_type": "code",
   "execution_count": 175,
   "id": "96f18b97",
   "metadata": {},
   "outputs": [
    {
     "data": {
      "text/plain": [
       "'game good music visuals bad late updates new character kit rush archon quest bad anniversary bad really displgood hope team learn badake dont anything good anymore future'"
      ]
     },
     "execution_count": 175,
     "metadata": {},
     "output_type": "execute_result"
    }
   ],
   "source": [
    "df_s.fixed_Comment[2037]"
   ]
  },
  {
   "cell_type": "markdown",
   "id": "add2c3fb",
   "metadata": {},
   "source": [
    "## Feature Engineering"
   ]
  },
  {
   "cell_type": "markdown",
   "id": "9b253a97",
   "metadata": {},
   "source": [
    "### TIDF Processing"
   ]
  },
  {
   "cell_type": "markdown",
   "id": "9bd1d1af",
   "metadata": {},
   "source": [
    "* Base on the rating column of the original dataset, transform to a new format consist of \"good\" and \"bad\" where:\n",
    " * Good is for rating score > 3\n",
    " * Bad is for rating score <= 3"
   ]
  },
  {
   "cell_type": "code",
   "execution_count": 176,
   "id": "7ae40509",
   "metadata": {},
   "outputs": [
    {
     "name": "stdout",
     "output_type": "stream",
     "text": [
      "[[0.         0.         0.         ... 0.         0.         0.        ]\n",
      " [0.         0.18645483 0.         ... 0.         0.22022076 0.        ]\n",
      " [0.38875808 0.         0.         ... 0.         0.         0.        ]\n",
      " ...\n",
      " [0.         0.         0.         ... 0.         0.         0.        ]\n",
      " [0.         0.         0.         ... 0.         0.         0.        ]\n",
      " [0.         0.         0.         ... 0.         0.         0.        ]]\n"
     ]
    }
   ],
   "source": [
    "vectorizer = TfidfVectorizer(min_df = 0.02)\n",
    "vectorizer.fit(df_s['fixed_Comment'])\n",
    "X = vectorizer.transform(df_s['fixed_Comment'])\n",
    "X = X.toarray()\n",
    "print(X)\n",
    "\n",
    "sample_output = data['Rating']\n",
    "lst_attitude = []\n",
    "for i in sample_output:\n",
    "    if i > 3:\n",
    "        lst_attitude.append(1) #indicate for good\n",
    "    elif i <= 3:\n",
    "        lst_attitude.append(0) #indicate for bad\n",
    "y = pd.DataFrame(lst_attitude)\n",
    "y = y.to_numpy()"
   ]
  },
  {
   "cell_type": "markdown",
   "id": "9f318bde",
   "metadata": {},
   "source": [
    "#### Attach negative score and positive score back to the dataset for model"
   ]
  },
  {
   "cell_type": "code",
   "execution_count": 177,
   "id": "5f4d4f4b",
   "metadata": {},
   "outputs": [
    {
     "data": {
      "text/html": [
       "<div>\n",
       "<style scoped>\n",
       "    .dataframe tbody tr th:only-of-type {\n",
       "        vertical-align: middle;\n",
       "    }\n",
       "\n",
       "    .dataframe tbody tr th {\n",
       "        vertical-align: top;\n",
       "    }\n",
       "\n",
       "    .dataframe thead th {\n",
       "        text-align: right;\n",
       "    }\n",
       "</style>\n",
       "<table border=\"1\" class=\"dataframe\">\n",
       "  <thead>\n",
       "    <tr style=\"text-align: right;\">\n",
       "      <th></th>\n",
       "      <th>0</th>\n",
       "      <th>1</th>\n",
       "      <th>2</th>\n",
       "      <th>3</th>\n",
       "      <th>4</th>\n",
       "      <th>5</th>\n",
       "      <th>6</th>\n",
       "      <th>7</th>\n",
       "      <th>8</th>\n",
       "      <th>9</th>\n",
       "      <th>...</th>\n",
       "      <th>255</th>\n",
       "      <th>256</th>\n",
       "      <th>257</th>\n",
       "      <th>258</th>\n",
       "      <th>259</th>\n",
       "      <th>260</th>\n",
       "      <th>261</th>\n",
       "      <th>262</th>\n",
       "      <th>263</th>\n",
       "      <th>264</th>\n",
       "    </tr>\n",
       "  </thead>\n",
       "  <tbody>\n",
       "    <tr>\n",
       "      <th>0</th>\n",
       "      <td>0.000000</td>\n",
       "      <td>0.000000</td>\n",
       "      <td>0.0</td>\n",
       "      <td>0.0</td>\n",
       "      <td>0.0</td>\n",
       "      <td>0.0</td>\n",
       "      <td>0.222977</td>\n",
       "      <td>0.0</td>\n",
       "      <td>0.0</td>\n",
       "      <td>0.0</td>\n",
       "      <td>...</td>\n",
       "      <td>0.0</td>\n",
       "      <td>0.0</td>\n",
       "      <td>0.00000</td>\n",
       "      <td>0.0</td>\n",
       "      <td>0.000000</td>\n",
       "      <td>0.000000</td>\n",
       "      <td>0.000000</td>\n",
       "      <td>0.0</td>\n",
       "      <td>0.166667</td>\n",
       "      <td>0.666667</td>\n",
       "    </tr>\n",
       "    <tr>\n",
       "      <th>1</th>\n",
       "      <td>0.000000</td>\n",
       "      <td>0.186455</td>\n",
       "      <td>0.0</td>\n",
       "      <td>0.0</td>\n",
       "      <td>0.0</td>\n",
       "      <td>0.0</td>\n",
       "      <td>0.000000</td>\n",
       "      <td>0.0</td>\n",
       "      <td>0.0</td>\n",
       "      <td>0.0</td>\n",
       "      <td>...</td>\n",
       "      <td>0.0</td>\n",
       "      <td>0.0</td>\n",
       "      <td>0.00000</td>\n",
       "      <td>0.0</td>\n",
       "      <td>0.137372</td>\n",
       "      <td>0.000000</td>\n",
       "      <td>0.220221</td>\n",
       "      <td>0.0</td>\n",
       "      <td>0.428571</td>\n",
       "      <td>0.500000</td>\n",
       "    </tr>\n",
       "    <tr>\n",
       "      <th>2</th>\n",
       "      <td>0.388758</td>\n",
       "      <td>0.000000</td>\n",
       "      <td>0.0</td>\n",
       "      <td>0.0</td>\n",
       "      <td>0.0</td>\n",
       "      <td>0.0</td>\n",
       "      <td>0.000000</td>\n",
       "      <td>0.0</td>\n",
       "      <td>0.0</td>\n",
       "      <td>0.0</td>\n",
       "      <td>...</td>\n",
       "      <td>0.0</td>\n",
       "      <td>0.0</td>\n",
       "      <td>0.00000</td>\n",
       "      <td>0.0</td>\n",
       "      <td>0.000000</td>\n",
       "      <td>0.000000</td>\n",
       "      <td>0.000000</td>\n",
       "      <td>0.0</td>\n",
       "      <td>0.333333</td>\n",
       "      <td>0.555556</td>\n",
       "    </tr>\n",
       "    <tr>\n",
       "      <th>3</th>\n",
       "      <td>0.000000</td>\n",
       "      <td>0.000000</td>\n",
       "      <td>0.0</td>\n",
       "      <td>0.0</td>\n",
       "      <td>0.0</td>\n",
       "      <td>0.0</td>\n",
       "      <td>0.000000</td>\n",
       "      <td>0.0</td>\n",
       "      <td>0.0</td>\n",
       "      <td>0.0</td>\n",
       "      <td>...</td>\n",
       "      <td>0.0</td>\n",
       "      <td>0.0</td>\n",
       "      <td>0.00000</td>\n",
       "      <td>0.0</td>\n",
       "      <td>0.000000</td>\n",
       "      <td>0.000000</td>\n",
       "      <td>0.000000</td>\n",
       "      <td>0.0</td>\n",
       "      <td>0.400000</td>\n",
       "      <td>0.500000</td>\n",
       "    </tr>\n",
       "    <tr>\n",
       "      <th>4</th>\n",
       "      <td>0.000000</td>\n",
       "      <td>0.000000</td>\n",
       "      <td>0.0</td>\n",
       "      <td>0.0</td>\n",
       "      <td>0.0</td>\n",
       "      <td>0.0</td>\n",
       "      <td>0.000000</td>\n",
       "      <td>0.0</td>\n",
       "      <td>0.0</td>\n",
       "      <td>0.0</td>\n",
       "      <td>...</td>\n",
       "      <td>0.0</td>\n",
       "      <td>0.0</td>\n",
       "      <td>0.19155</td>\n",
       "      <td>0.0</td>\n",
       "      <td>0.000000</td>\n",
       "      <td>0.314973</td>\n",
       "      <td>0.000000</td>\n",
       "      <td>0.0</td>\n",
       "      <td>0.166667</td>\n",
       "      <td>0.666667</td>\n",
       "    </tr>\n",
       "  </tbody>\n",
       "</table>\n",
       "<p>5 rows × 265 columns</p>\n",
       "</div>"
      ],
      "text/plain": [
       "        0         1    2    3    4    5         6    7    8    9    ...  255  \\\n",
       "0  0.000000  0.000000  0.0  0.0  0.0  0.0  0.222977  0.0  0.0  0.0  ...  0.0   \n",
       "1  0.000000  0.186455  0.0  0.0  0.0  0.0  0.000000  0.0  0.0  0.0  ...  0.0   \n",
       "2  0.388758  0.000000  0.0  0.0  0.0  0.0  0.000000  0.0  0.0  0.0  ...  0.0   \n",
       "3  0.000000  0.000000  0.0  0.0  0.0  0.0  0.000000  0.0  0.0  0.0  ...  0.0   \n",
       "4  0.000000  0.000000  0.0  0.0  0.0  0.0  0.000000  0.0  0.0  0.0  ...  0.0   \n",
       "\n",
       "   256      257  258       259       260       261  262       263       264  \n",
       "0  0.0  0.00000  0.0  0.000000  0.000000  0.000000  0.0  0.166667  0.666667  \n",
       "1  0.0  0.00000  0.0  0.137372  0.000000  0.220221  0.0  0.428571  0.500000  \n",
       "2  0.0  0.00000  0.0  0.000000  0.000000  0.000000  0.0  0.333333  0.555556  \n",
       "3  0.0  0.00000  0.0  0.000000  0.000000  0.000000  0.0  0.400000  0.500000  \n",
       "4  0.0  0.19155  0.0  0.000000  0.314973  0.000000  0.0  0.166667  0.666667  \n",
       "\n",
       "[5 rows x 265 columns]"
      ]
     },
     "execution_count": 177,
     "metadata": {},
     "output_type": "execute_result"
    }
   ],
   "source": [
    "X = pd.DataFrame(X)\n",
    "X[263] = df_s['negative_ratio'].to_numpy()\n",
    "X[264] = df_s['positive_ratio'].to_numpy()\n",
    "X.head()"
   ]
  },
  {
   "cell_type": "markdown",
   "id": "55134658",
   "metadata": {},
   "source": [
    "### Due to imbalance dataset, SMOTE technique is applied for generating more data of lesser class"
   ]
  },
  {
   "cell_type": "code",
   "execution_count": 178,
   "id": "f7a88808",
   "metadata": {},
   "outputs": [],
   "source": [
    "X_train, X_test, y_train, y_test = train_test_split(X, y, test_size=0.2)\n",
    "\n",
    "sm = SMOTE(sampling_strategy='auto', k_neighbors = 11, n_jobs=-1)\n",
    "X_train, y_train = sm.fit_resample(X_train, y_train)"
   ]
  },
  {
   "cell_type": "code",
   "execution_count": 179,
   "id": "77563767",
   "metadata": {},
   "outputs": [
    {
     "name": "stdout",
     "output_type": "stream",
     "text": [
      "LogisticRegression\n",
      "              precision    recall  f1-score   support\n",
      "\n",
      "           0       0.59      0.69      0.64       134\n",
      "           1       0.84      0.77      0.80       274\n",
      "\n",
      "    accuracy                           0.74       408\n",
      "   macro avg       0.71      0.73      0.72       408\n",
      "weighted avg       0.76      0.74      0.75       408\n",
      " \n",
      "\n"
     ]
    }
   ],
   "source": [
    "model = LogisticRegression(solver='lbfgs', multi_class='multinomial')\n",
    "model.fit(X_train, y_train)\n",
    "y_pred = model.predict(X_test)\n",
    "accuracy_score(y_test, y_pred)\n",
    "cm = classification_report(y_test, y_pred)\n",
    "print(model.__class__.__name__)\n",
    "print(cm, '\\n')"
   ]
  },
  {
   "cell_type": "code",
   "execution_count": 180,
   "id": "b209097e",
   "metadata": {},
   "outputs": [],
   "source": [
    "models= [LogisticRegression(solver='lbfgs', multi_class='multinomial'), \n",
    "         BernoulliNB(), KNeighborsClassifier(n_neighbors=11), \n",
    "         RandomForestClassifier(), DecisionTreeClassifier(), AdaBoostClassifier(), \n",
    "         XGBClassifier()]\n",
    "scores= []\n",
    "test_score = []\n",
    "train_times = []\n",
    "names= []"
   ]
  },
  {
   "cell_type": "code",
   "execution_count": 181,
   "id": "bbf01764",
   "metadata": {},
   "outputs": [
    {
     "data": {
      "text/html": [
       "<div>\n",
       "<style scoped>\n",
       "    .dataframe tbody tr th:only-of-type {\n",
       "        vertical-align: middle;\n",
       "    }\n",
       "\n",
       "    .dataframe tbody tr th {\n",
       "        vertical-align: top;\n",
       "    }\n",
       "\n",
       "    .dataframe thead th {\n",
       "        text-align: right;\n",
       "    }\n",
       "</style>\n",
       "<table border=\"1\" class=\"dataframe\">\n",
       "  <thead>\n",
       "    <tr style=\"text-align: right;\">\n",
       "      <th></th>\n",
       "      <th>Model</th>\n",
       "      <th>Score</th>\n",
       "      <th>Time</th>\n",
       "    </tr>\n",
       "  </thead>\n",
       "  <tbody>\n",
       "    <tr>\n",
       "      <th>0</th>\n",
       "      <td>LogisticRegression</td>\n",
       "      <td>0.780408</td>\n",
       "      <td>0.401930</td>\n",
       "    </tr>\n",
       "    <tr>\n",
       "      <th>1</th>\n",
       "      <td>BernoulliNB</td>\n",
       "      <td>0.755171</td>\n",
       "      <td>0.108817</td>\n",
       "    </tr>\n",
       "    <tr>\n",
       "      <th>2</th>\n",
       "      <td>KNeighborsClassifier</td>\n",
       "      <td>0.606815</td>\n",
       "      <td>0.224375</td>\n",
       "    </tr>\n",
       "    <tr>\n",
       "      <th>3</th>\n",
       "      <td>RandomForestClassifier</td>\n",
       "      <td>0.831533</td>\n",
       "      <td>30.066457</td>\n",
       "    </tr>\n",
       "    <tr>\n",
       "      <th>4</th>\n",
       "      <td>DecisionTreeClassifier</td>\n",
       "      <td>0.727502</td>\n",
       "      <td>8.624193</td>\n",
       "    </tr>\n",
       "    <tr>\n",
       "      <th>5</th>\n",
       "      <td>AdaBoostClassifier</td>\n",
       "      <td>0.755124</td>\n",
       "      <td>101.987617</td>\n",
       "    </tr>\n",
       "    <tr>\n",
       "      <th>6</th>\n",
       "      <td>XGBClassifier</td>\n",
       "      <td>0.809026</td>\n",
       "      <td>2.954808</td>\n",
       "    </tr>\n",
       "  </tbody>\n",
       "</table>\n",
       "</div>"
      ],
      "text/plain": [
       "                    Model     Score        Time\n",
       "0      LogisticRegression  0.780408    0.401930\n",
       "1             BernoulliNB  0.755171    0.108817\n",
       "2    KNeighborsClassifier  0.606815    0.224375\n",
       "3  RandomForestClassifier  0.831533   30.066457\n",
       "4  DecisionTreeClassifier  0.727502    8.624193\n",
       "5      AdaBoostClassifier  0.755124  101.987617\n",
       "6           XGBClassifier  0.809026    2.954808"
      ]
     },
     "execution_count": 181,
     "metadata": {},
     "output_type": "execute_result"
    }
   ],
   "source": [
    "for model in models:\n",
    "    start= time.time()\n",
    "    scores.append(cross_val_score(model, X_train, y_train, scoring= 'accuracy', cv= 10).mean())\n",
    "    end = time.time()\n",
    "    train_times.append(end-start)\n",
    "    names.append(model.__class__.__name__)\n",
    "\n",
    "df= pd.DataFrame(scores, columns=['Score'], index= range(len(models)))\n",
    "df.insert(1, 'Time', pd.Series(train_times))\n",
    "df.insert(0, 'Model', pd.Series(names))\n",
    "df"
   ]
  },
  {
   "cell_type": "code",
   "execution_count": 182,
   "id": "c506df93",
   "metadata": {},
   "outputs": [
    {
     "name": "stdout",
     "output_type": "stream",
     "text": [
      "LogisticRegression\n",
      "              precision    recall  f1-score   support\n",
      "\n",
      "           0       0.59      0.69      0.64       134\n",
      "           1       0.84      0.77      0.80       274\n",
      "\n",
      "    accuracy                           0.74       408\n",
      "   macro avg       0.71      0.73      0.72       408\n",
      "weighted avg       0.76      0.74      0.75       408\n",
      " \n",
      "\n",
      "BernoulliNB\n",
      "              precision    recall  f1-score   support\n",
      "\n",
      "           0       0.53      0.49      0.51       134\n",
      "           1       0.76      0.79      0.77       274\n",
      "\n",
      "    accuracy                           0.69       408\n",
      "   macro avg       0.64      0.64      0.64       408\n",
      "weighted avg       0.68      0.69      0.69       408\n",
      " \n",
      "\n",
      "KNeighborsClassifier\n",
      "              precision    recall  f1-score   support\n",
      "\n",
      "           0       0.38      0.98      0.54       134\n",
      "           1       0.95      0.21      0.35       274\n",
      "\n",
      "    accuracy                           0.46       408\n",
      "   macro avg       0.66      0.59      0.45       408\n",
      "weighted avg       0.76      0.46      0.41       408\n",
      " \n",
      "\n",
      "RandomForestClassifier\n",
      "              precision    recall  f1-score   support\n",
      "\n",
      "           0       0.62      0.59      0.61       134\n",
      "           1       0.80      0.82      0.81       274\n",
      "\n",
      "    accuracy                           0.75       408\n",
      "   macro avg       0.71      0.71      0.71       408\n",
      "weighted avg       0.74      0.75      0.75       408\n",
      " \n",
      "\n",
      "DecisionTreeClassifier\n",
      "              precision    recall  f1-score   support\n",
      "\n",
      "           0       0.47      0.51      0.49       134\n",
      "           1       0.75      0.72      0.73       274\n",
      "\n",
      "    accuracy                           0.65       408\n",
      "   macro avg       0.61      0.61      0.61       408\n",
      "weighted avg       0.66      0.65      0.65       408\n",
      " \n",
      "\n",
      "AdaBoostClassifier\n",
      "              precision    recall  f1-score   support\n",
      "\n",
      "           0       0.51      0.57      0.54       134\n",
      "           1       0.78      0.73      0.75       274\n",
      "\n",
      "    accuracy                           0.68       408\n",
      "   macro avg       0.64      0.65      0.65       408\n",
      "weighted avg       0.69      0.68      0.68       408\n",
      " \n",
      "\n",
      "XGBClassifier\n",
      "              precision    recall  f1-score   support\n",
      "\n",
      "           0       0.58      0.53      0.55       134\n",
      "           1       0.78      0.81      0.80       274\n",
      "\n",
      "    accuracy                           0.72       408\n",
      "   macro avg       0.68      0.67      0.68       408\n",
      "weighted avg       0.71      0.72      0.72       408\n",
      " \n",
      "\n"
     ]
    },
    {
     "data": {
      "text/html": [
       "<div>\n",
       "<style scoped>\n",
       "    .dataframe tbody tr th:only-of-type {\n",
       "        vertical-align: middle;\n",
       "    }\n",
       "\n",
       "    .dataframe tbody tr th {\n",
       "        vertical-align: top;\n",
       "    }\n",
       "\n",
       "    .dataframe thead th {\n",
       "        text-align: right;\n",
       "    }\n",
       "</style>\n",
       "<table border=\"1\" class=\"dataframe\">\n",
       "  <thead>\n",
       "    <tr style=\"text-align: right;\">\n",
       "      <th></th>\n",
       "      <th>Model</th>\n",
       "      <th>Score</th>\n",
       "      <th>Time</th>\n",
       "      <th>Test_Score</th>\n",
       "    </tr>\n",
       "  </thead>\n",
       "  <tbody>\n",
       "    <tr>\n",
       "      <th>0</th>\n",
       "      <td>LogisticRegression</td>\n",
       "      <td>0.780408</td>\n",
       "      <td>0.401930</td>\n",
       "      <td>0.742647</td>\n",
       "    </tr>\n",
       "    <tr>\n",
       "      <th>1</th>\n",
       "      <td>BernoulliNB</td>\n",
       "      <td>0.755171</td>\n",
       "      <td>0.108817</td>\n",
       "      <td>0.688725</td>\n",
       "    </tr>\n",
       "    <tr>\n",
       "      <th>2</th>\n",
       "      <td>KNeighborsClassifier</td>\n",
       "      <td>0.606815</td>\n",
       "      <td>0.224375</td>\n",
       "      <td>0.463235</td>\n",
       "    </tr>\n",
       "    <tr>\n",
       "      <th>3</th>\n",
       "      <td>RandomForestClassifier</td>\n",
       "      <td>0.831533</td>\n",
       "      <td>30.066457</td>\n",
       "      <td>0.747549</td>\n",
       "    </tr>\n",
       "    <tr>\n",
       "      <th>4</th>\n",
       "      <td>DecisionTreeClassifier</td>\n",
       "      <td>0.727502</td>\n",
       "      <td>8.624193</td>\n",
       "      <td>0.649510</td>\n",
       "    </tr>\n",
       "    <tr>\n",
       "      <th>5</th>\n",
       "      <td>AdaBoostClassifier</td>\n",
       "      <td>0.755124</td>\n",
       "      <td>101.987617</td>\n",
       "      <td>0.678922</td>\n",
       "    </tr>\n",
       "    <tr>\n",
       "      <th>6</th>\n",
       "      <td>XGBClassifier</td>\n",
       "      <td>0.809026</td>\n",
       "      <td>2.954808</td>\n",
       "      <td>0.720588</td>\n",
       "    </tr>\n",
       "  </tbody>\n",
       "</table>\n",
       "</div>"
      ],
      "text/plain": [
       "                    Model     Score        Time  Test_Score\n",
       "0      LogisticRegression  0.780408    0.401930    0.742647\n",
       "1             BernoulliNB  0.755171    0.108817    0.688725\n",
       "2    KNeighborsClassifier  0.606815    0.224375    0.463235\n",
       "3  RandomForestClassifier  0.831533   30.066457    0.747549\n",
       "4  DecisionTreeClassifier  0.727502    8.624193    0.649510\n",
       "5      AdaBoostClassifier  0.755124  101.987617    0.678922\n",
       "6           XGBClassifier  0.809026    2.954808    0.720588"
      ]
     },
     "execution_count": 182,
     "metadata": {},
     "output_type": "execute_result"
    }
   ],
   "source": [
    "for model in models:\n",
    "    model.fit(X_train, y_train)\n",
    "    y_pred = model.predict(X_test)\n",
    "    score = accuracy_score(y_test, y_pred)\n",
    "    test_score.append(score)    \n",
    "    cm = classification_report(y_test, y_pred)\n",
    "    print(model.__class__.__name__)\n",
    "    print(cm, '\\n')\n",
    "df['Test_Score'] = test_score\n",
    "df"
   ]
  },
  {
   "cell_type": "code",
   "execution_count": 183,
   "id": "38672347",
   "metadata": {},
   "outputs": [
    {
     "data": {
      "text/plain": [
       "Text(0.5, 15.0, 'Predicted Values')"
      ]
     },
     "execution_count": 183,
     "metadata": {},
     "output_type": "execute_result"
    },
    {
     "data": {
      "image/png": "[encoded data removed]",
      "text/plain": [
       "<Figure size 360x288 with 2 Axes>"
      ]
     },
     "metadata": {
      "needs_background": "light"
     },
     "output_type": "display_data"
    }
   ],
   "source": [
    "from sklearn.metrics import confusion_matrix\n",
    "cm = confusion_matrix(y_test, model.predict(X_test))\n",
    "cm_df = pd.DataFrame(cm)\n",
    "plt.figure(figsize=(5,4))\n",
    "sns.heatmap(cm_df, annot = True, fmt = 'g', cmap= 'Blues')\n",
    "#plt.title('Accuracy:{0:.3f}'.format(score))\n",
    "plt.ylabel('True Values')\n",
    "plt.xlabel('Predicted Values')"
   ]
  }
 ],
 "metadata": {
  "kernelspec": {
   "display_name": "Python 3 (ipykernel)",
   "language": "python",
   "name": "python3"
  },
  "language_info": {
   "codemirror_mode": {
    "name": "ipython",
    "version": 3
   },
   "file_extension": ".py",
   "mimetype": "text/x-python",
   "name": "python",
   "nbconvert_exporter": "python",
   "pygments_lexer": "ipython3",
   "version": "3.9.2rc1"
  }
 },
 "nbformat": 4,
 "nbformat_minor": 5
}
