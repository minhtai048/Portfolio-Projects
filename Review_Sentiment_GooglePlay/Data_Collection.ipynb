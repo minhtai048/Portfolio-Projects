{
 "cells": [
  {
   "cell_type": "markdown",
   "id": "1177fa5a",
   "metadata": {},
   "source": [
    "# This Data Collection was conducted and completed on September 14th, 2022"
   ]
  },
  {
   "cell_type": "code",
   "execution_count": 1,
   "id": "fc144986",
   "metadata": {},
   "outputs": [],
   "source": [
    "from selenium import webdriver\n",
    "from selenium.webdriver.common.by import By\n",
    "from selenium.webdriver.common.keys import Keys\n",
    "import time\n",
    "import requests\n",
    "import pandas as pd"
   ]
  },
  {
   "cell_type": "code",
   "execution_count": 2,
   "id": "d9c3ed09",
   "metadata": {},
   "outputs": [],
   "source": [
    "driver = webdriver.Chrome()"
   ]
  },
  {
   "cell_type": "code",
   "execution_count": 3,
   "id": "7beb9ed7",
   "metadata": {},
   "outputs": [],
   "source": [
    "driver.get(\"https://play.google.com/store/apps/details?id=com.miHoYo.GenshinImpact&hl=en_US&gl=US\")"
   ]
  },
  {
   "cell_type": "code",
   "execution_count": 4,
   "id": "0176cbef",
   "metadata": {},
   "outputs": [
    {
     "name": "stdout",
     "output_type": "stream",
     "text": [
      "1\n"
     ]
    }
   ],
   "source": [
    "info = driver.find_elements(by = By.CSS_SELECTOR, value = \"div.odk6He\")\n",
    "print(len(info))"
   ]
  },
  {
   "cell_type": "code",
   "execution_count": 66,
   "id": "47a0efa4",
   "metadata": {},
   "outputs": [],
   "source": [
    "number_of_sample = 0\n",
    "while number_of_sample <= 2000:\n",
    "    Target_Div = driver.find_element(by = By.XPATH, value= '//div[contains(@jsname,\"bN97Pc\")]')\n",
    "    driver.execute_script(\"arguments[0].scrollBy(0,500)\", Target_Div)\n",
    "    for item in info: #this to get the sample\n",
    "        number_of_sample = len(item.find_elements(by = By.CSS_SELECTOR, value = 'div.RHo1pe'))\n",
    "        break;\n",
    "    time.sleep(0.08)"
   ]
  },
  {
   "cell_type": "code",
   "execution_count": 304,
   "id": "56b14022",
   "metadata": {},
   "outputs": [
    {
     "name": "stdout",
     "output_type": "stream",
     "text": [
      "2040\n"
     ]
    }
   ],
   "source": [
    "for item in info:\n",
    "    print(len(item.find_elements(by = By.CSS_SELECTOR, value = 'div.RHo1pe')))"
   ]
  },
  {
   "cell_type": "code",
   "execution_count": 67,
   "id": "48deb220",
   "metadata": {},
   "outputs": [],
   "source": [
    "lst_comment = []\n",
    "lst_vote = []\n",
    "lst_date = []\n",
    "lst_rating = []\n",
    "for item in info:\n",
    "    detail_comment = item.find_elements(by = By.CSS_SELECTOR, value = 'div.RHo1pe')\n",
    "    for data in detail_comment:\n",
    "        comment = data.find_elements(by = By.CSS_SELECTOR, value = 'div.h3YV2d')\n",
    "        vote = data.find_elements(by = By.CSS_SELECTOR, value = 'div.AJTPZc')\n",
    "        date = data.find_elements(by = By.CSS_SELECTOR, value = 'div.Jx4nYe>span')\n",
    "        rating = data.find_elements(by = By.CSS_SELECTOR, value = 'div.iXRFPc>span')\n",
    "\n",
    "        #----------------------------comment--------------------------------------\n",
    "        lst_comment.append(comment[0].get_attribute('textContent'))\n",
    "\n",
    "        #------------------------------vote---------------------------------------\n",
    "        if (len(vote) != 0): #votes something are null\n",
    "            for detail in vote:\n",
    "                    lst_vote.append(detail.get_attribute('textContent').split(' ')[0])\n",
    "        else:\n",
    "            lst_vote.append('0')\n",
    "\n",
    "        #-----------------------------date----------------------------------------\n",
    "        lst_date.append(date[0].get_attribute('textContent'))\n",
    "\n",
    "        #----------------------------rating---------------------------------------\n",
    "        count = 0\n",
    "        for detail in rating:\n",
    "            score = len(detail.find_elements(by = By.CSS_SELECTOR, value = 'span.Z1Dz7b'))\n",
    "            if(score == 1):\n",
    "                count += 1 # increase the score rating\n",
    "        lst_rating.append(count)"
   ]
  },
  {
   "cell_type": "code",
   "execution_count": 65,
   "id": "5e0d946b",
   "metadata": {},
   "outputs": [
    {
     "data": {
      "text/plain": [
       "[5,\n",
       " 5,\n",
       " 4,\n",
       " 4,\n",
       " 4,\n",
       " 4,\n",
       " 5,\n",
       " 3,\n",
       " 4,\n",
       " 5,\n",
       " 5,\n",
       " 2,\n",
       " 4,\n",
       " 3,\n",
       " 3,\n",
       " 4,\n",
       " 5,\n",
       " 3,\n",
       " 5,\n",
       " 5,\n",
       " 4,\n",
       " 5,\n",
       " 4,\n",
       " 5,\n",
       " 4,\n",
       " 5,\n",
       " 4,\n",
       " 1,\n",
       " 3,\n",
       " 5,\n",
       " 4,\n",
       " 4,\n",
       " 3,\n",
       " 4,\n",
       " 4,\n",
       " 3,\n",
       " 4,\n",
       " 4,\n",
       " 4,\n",
       " 3]"
      ]
     },
     "execution_count": 65,
     "metadata": {},
     "output_type": "execute_result"
    }
   ],
   "source": [
    "lst_rating"
   ]
  },
  {
   "cell_type": "code",
   "execution_count": 320,
   "id": "94f4292b",
   "metadata": {},
   "outputs": [
    {
     "data": {
      "text/plain": [
       "[\"The game in general is the best I've ever played in terms of adventure, fighting, scenery, events, etc. The only thing I'd like to be changed is the space it takes to run. If we are unable to replay story quests and scenes, it should be reasonable to have an option to delete those extra unused files to have more space. Other than that, best game out there.\",\n",
       " \"I absolutely love and adore this game. By far my favorite story roleplaying game out there. The quests, lore, plots, mysteries, grind, pulls, all of it. I'm a newer player, but I haven't been bored yet of this game. I don't think I ever will. I'd say it's biggest issues is lagging, and setting it's quality different on its own. As well as occasional bugs on my laptop. If the frame per second(fps) could be a bit quicker that would be great. But other than that, the game is beautiful. Will update.\",\n",
       " \"It is amazing, I have only been playing it for a few day, it been lagging a lot, might be becuse of my storage 😅, but all I need to say is, it's amazing! The art style is amazing too, 9/10, when you change to another app for even a second or keep it open in the background, it just puts you back on the menu screen, for a person who dose like, 5 other things on their phone at the same time, it's a problem, nothing truly bad to say. 9/10, Love it\",\n",
       " \"This game is truly amazing and getting better day by day, though it has many bugs and features that could be fixed for a better game experience. 1- My major issue is the storage this game is taking. Im not sure if there's a fix for it, but it's getting out of hand and many (mobile) players are being forced to fully quit. 2- On mobile, most times the chat will not open or glitch in coop, which is annoying but it usually comes back after a few seconds. Though, its overall a great game, I love it.\",\n",
       " \"The release of Sumeru gave so much to do! I've been playing for over a year. It's got amazing graphics and tons of different characters to choose from. The story has got us anticipating more. Although it is captivating, it isn't really new player friendly. The new characters and weapons require items that new players can't have access to. It can cause them to rush through the story. Other than that however, the game has been treating us nicely. I hope the second year anniversary won't fail us.\"]"
      ]
     },
     "execution_count": 320,
     "metadata": {},
     "output_type": "execute_result"
    }
   ],
   "source": [
    "lst_comment[:5]"
   ]
  },
  {
   "cell_type": "code",
   "execution_count": 321,
   "id": "145c39c9",
   "metadata": {},
   "outputs": [
    {
     "data": {
      "text/plain": [
       "['29', '631', '381', '186', '91']"
      ]
     },
     "execution_count": 321,
     "metadata": {},
     "output_type": "execute_result"
    }
   ],
   "source": [
    "lst_vote[:5]"
   ]
  },
  {
   "cell_type": "code",
   "execution_count": 322,
   "id": "73f448dd",
   "metadata": {},
   "outputs": [
    {
     "data": {
      "text/plain": [
       "['August 23, 2022',\n",
       " 'August 16, 2022',\n",
       " 'August 21, 2022',\n",
       " 'August 19, 2022',\n",
       " 'September 5, 2022']"
      ]
     },
     "execution_count": 322,
     "metadata": {},
     "output_type": "execute_result"
    }
   ],
   "source": [
    "lst_date[:5]"
   ]
  },
  {
   "cell_type": "code",
   "execution_count": 341,
   "id": "57f5532a",
   "metadata": {},
   "outputs": [
    {
     "data": {
      "text/plain": [
       "2040"
      ]
     },
     "execution_count": 341,
     "metadata": {},
     "output_type": "execute_result"
    }
   ],
   "source": [
    "len(lst_date)"
   ]
  },
  {
   "cell_type": "code",
   "execution_count": 340,
   "id": "4bcc81c6",
   "metadata": {},
   "outputs": [
    {
     "data": {
      "text/plain": [
       "2040"
      ]
     },
     "execution_count": 340,
     "metadata": {},
     "output_type": "execute_result"
    }
   ],
   "source": [
    "len(lst_vote)"
   ]
  },
  {
   "cell_type": "code",
   "execution_count": 342,
   "id": "086e5908",
   "metadata": {},
   "outputs": [],
   "source": [
    "#append all list to dataframe\n",
    "df = pd.DataFrame({'Comment': lst_comment,\n",
    "                  'Vote_useful': lst_vote,\n",
    "                  'Date': lst_date,\n",
    "                  'rating': lst_rating})"
   ]
  },
  {
   "cell_type": "code",
   "execution_count": 343,
   "id": "fe0cc064",
   "metadata": {},
   "outputs": [],
   "source": [
    "df.to_csv('data/GI_comment.csv', index=False)"
   ]
  }
 ],
 "metadata": {
  "kernelspec": {
   "display_name": "Python 3 (ipykernel)",
   "language": "python",
   "name": "python3"
  },
  "language_info": {
   "codemirror_mode": {
    "name": "ipython",
    "version": 3
   },
   "file_extension": ".py",
   "mimetype": "text/x-python",
   "name": "python",
   "nbconvert_exporter": "python",
   "pygments_lexer": "ipython3",
   "version": "3.9.2rc1"
  }
 },
 "nbformat": 4,
 "nbformat_minor": 5
}
