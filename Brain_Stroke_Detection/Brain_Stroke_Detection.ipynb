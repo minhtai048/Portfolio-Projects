{
 "cells": [
  {
   "cell_type": "code",
   "execution_count": 188,
   "id": "e73fc00c",
   "metadata": {},
   "outputs": [],
   "source": [
    "import numpy as np\n",
    "import pandas as pd\n",
    "import matplotlib.pyplot as plt\n",
    "import seaborn as sns\n",
    "from scipy.stats import ttest_ind, chi2_contingency, chi2\n",
    "from sklearn.model_selection import train_test_split, cross_val_score\n",
    "from sklearn.preprocessing import OrdinalEncoder, MinMaxScaler, LabelEncoder\n",
    "import time\n",
    "from imblearn.over_sampling import SMOTE, RandomOverSampler\n",
    "from imblearn.under_sampling import RandomUnderSampler, TomekLinks, OneSidedSelection\n",
    "from sklearn.naive_bayes import GaussianNB\n",
    "from sklearn.linear_model import LogisticRegression\n",
    "from sklearn.neighbors import KNeighborsClassifier\n",
    "from sklearn.ensemble import RandomForestClassifier, AdaBoostClassifier, StackingClassifier\n",
    "from sklearn.tree import DecisionTreeClassifier\n",
    "from xgboost import XGBClassifier\n",
    "from sklearn.svm import SVC\n",
    "from sklearn.metrics import accuracy_score, recall_score, precision_score, classification_report"
   ]
  },
  {
   "cell_type": "code",
   "execution_count": 189,
   "id": "7b8072a1",
   "metadata": {},
   "outputs": [
    {
     "data": {
      "text/html": [
       "<div>\n",
       "<style scoped>\n",
       "    .dataframe tbody tr th:only-of-type {\n",
       "        vertical-align: middle;\n",
       "    }\n",
       "\n",
       "    .dataframe tbody tr th {\n",
       "        vertical-align: top;\n",
       "    }\n",
       "\n",
       "    .dataframe thead th {\n",
       "        text-align: right;\n",
       "    }\n",
       "</style>\n",
       "<table border=\"1\" class=\"dataframe\">\n",
       "  <thead>\n",
       "    <tr style=\"text-align: right;\">\n",
       "      <th></th>\n",
       "      <th>gender</th>\n",
       "      <th>age</th>\n",
       "      <th>hypertension</th>\n",
       "      <th>heart_disease</th>\n",
       "      <th>ever_married</th>\n",
       "      <th>work_type</th>\n",
       "      <th>Residence_type</th>\n",
       "      <th>avg_glucose_level</th>\n",
       "      <th>bmi</th>\n",
       "      <th>smoking_status</th>\n",
       "      <th>stroke</th>\n",
       "    </tr>\n",
       "  </thead>\n",
       "  <tbody>\n",
       "    <tr>\n",
       "      <th>0</th>\n",
       "      <td>Male</td>\n",
       "      <td>67.0</td>\n",
       "      <td>0</td>\n",
       "      <td>1</td>\n",
       "      <td>Yes</td>\n",
       "      <td>Private</td>\n",
       "      <td>Urban</td>\n",
       "      <td>228.69</td>\n",
       "      <td>36.6</td>\n",
       "      <td>formerly smoked</td>\n",
       "      <td>1</td>\n",
       "    </tr>\n",
       "    <tr>\n",
       "      <th>1</th>\n",
       "      <td>Male</td>\n",
       "      <td>80.0</td>\n",
       "      <td>0</td>\n",
       "      <td>1</td>\n",
       "      <td>Yes</td>\n",
       "      <td>Private</td>\n",
       "      <td>Rural</td>\n",
       "      <td>105.92</td>\n",
       "      <td>32.5</td>\n",
       "      <td>never smoked</td>\n",
       "      <td>1</td>\n",
       "    </tr>\n",
       "    <tr>\n",
       "      <th>2</th>\n",
       "      <td>Female</td>\n",
       "      <td>49.0</td>\n",
       "      <td>0</td>\n",
       "      <td>0</td>\n",
       "      <td>Yes</td>\n",
       "      <td>Private</td>\n",
       "      <td>Urban</td>\n",
       "      <td>171.23</td>\n",
       "      <td>34.4</td>\n",
       "      <td>smokes</td>\n",
       "      <td>1</td>\n",
       "    </tr>\n",
       "    <tr>\n",
       "      <th>3</th>\n",
       "      <td>Female</td>\n",
       "      <td>79.0</td>\n",
       "      <td>1</td>\n",
       "      <td>0</td>\n",
       "      <td>Yes</td>\n",
       "      <td>Self-employed</td>\n",
       "      <td>Rural</td>\n",
       "      <td>174.12</td>\n",
       "      <td>24.0</td>\n",
       "      <td>never smoked</td>\n",
       "      <td>1</td>\n",
       "    </tr>\n",
       "    <tr>\n",
       "      <th>4</th>\n",
       "      <td>Male</td>\n",
       "      <td>81.0</td>\n",
       "      <td>0</td>\n",
       "      <td>0</td>\n",
       "      <td>Yes</td>\n",
       "      <td>Private</td>\n",
       "      <td>Urban</td>\n",
       "      <td>186.21</td>\n",
       "      <td>29.0</td>\n",
       "      <td>formerly smoked</td>\n",
       "      <td>1</td>\n",
       "    </tr>\n",
       "  </tbody>\n",
       "</table>\n",
       "</div>"
      ],
      "text/plain": [
       "   gender   age  hypertension  heart_disease ever_married      work_type  \\\n",
       "0    Male  67.0             0              1          Yes        Private   \n",
       "1    Male  80.0             0              1          Yes        Private   \n",
       "2  Female  49.0             0              0          Yes        Private   \n",
       "3  Female  79.0             1              0          Yes  Self-employed   \n",
       "4    Male  81.0             0              0          Yes        Private   \n",
       "\n",
       "  Residence_type  avg_glucose_level   bmi   smoking_status  stroke  \n",
       "0          Urban             228.69  36.6  formerly smoked       1  \n",
       "1          Rural             105.92  32.5     never smoked       1  \n",
       "2          Urban             171.23  34.4           smokes       1  \n",
       "3          Rural             174.12  24.0     never smoked       1  \n",
       "4          Urban             186.21  29.0  formerly smoked       1  "
      ]
     },
     "execution_count": 189,
     "metadata": {},
     "output_type": "execute_result"
    }
   ],
   "source": [
    "data = pd.read_csv('data/brain_stroke.csv')\n",
    "data.head()"
   ]
  },
  {
   "cell_type": "code",
   "execution_count": 190,
   "id": "08a1e016",
   "metadata": {},
   "outputs": [
    {
     "name": "stdout",
     "output_type": "stream",
     "text": [
      "<class 'pandas.core.frame.DataFrame'>\n",
      "RangeIndex: 4981 entries, 0 to 4980\n",
      "Data columns (total 11 columns):\n",
      " #   Column             Non-Null Count  Dtype  \n",
      "---  ------             --------------  -----  \n",
      " 0   gender             4981 non-null   object \n",
      " 1   age                4981 non-null   float64\n",
      " 2   hypertension       4981 non-null   int64  \n",
      " 3   heart_disease      4981 non-null   int64  \n",
      " 4   ever_married       4981 non-null   object \n",
      " 5   work_type          4981 non-null   object \n",
      " 6   Residence_type     4981 non-null   object \n",
      " 7   avg_glucose_level  4981 non-null   float64\n",
      " 8   bmi                4981 non-null   float64\n",
      " 9   smoking_status     4981 non-null   object \n",
      " 10  stroke             4981 non-null   int64  \n",
      "dtypes: float64(3), int64(3), object(5)\n",
      "memory usage: 428.2+ KB\n"
     ]
    }
   ],
   "source": [
    "data.info()"
   ]
  },
  {
   "cell_type": "code",
   "execution_count": 191,
   "id": "5c208676",
   "metadata": {},
   "outputs": [
    {
     "data": {
      "text/plain": [
       "gender               0\n",
       "age                  0\n",
       "hypertension         0\n",
       "heart_disease        0\n",
       "ever_married         0\n",
       "work_type            0\n",
       "Residence_type       0\n",
       "avg_glucose_level    0\n",
       "bmi                  0\n",
       "smoking_status       0\n",
       "stroke               0\n",
       "dtype: int64"
      ]
     },
     "execution_count": 191,
     "metadata": {},
     "output_type": "execute_result"
    }
   ],
   "source": [
    "data.isnull().sum()"
   ]
  },
  {
   "cell_type": "markdown",
   "id": "b53d7b1c",
   "metadata": {},
   "source": [
    "<font size=\"4\">There are no null values</font>"
   ]
  },
  {
   "cell_type": "code",
   "execution_count": 192,
   "id": "7dce1898",
   "metadata": {},
   "outputs": [
    {
     "name": "stdout",
     "output_type": "stream",
     "text": [
      "data shape before drop duplicated values: (4981, 11)\n",
      "data shape after drop duplicated values: (4981, 11)\n"
     ]
    }
   ],
   "source": [
    "print('data shape before drop duplicated values:', data.shape)\n",
    "data = data.drop_duplicates()\n",
    "print('data shape after drop duplicated values:', data.shape)"
   ]
  },
  {
   "cell_type": "markdown",
   "id": "babca968",
   "metadata": {},
   "source": [
    "<font size=\"4\">There are no duplicated values</font>"
   ]
  },
  {
   "cell_type": "markdown",
   "id": "32de1451",
   "metadata": {},
   "source": [
    "# EDA"
   ]
  },
  {
   "cell_type": "code",
   "execution_count": 193,
   "id": "12a21d19",
   "metadata": {},
   "outputs": [],
   "source": [
    "lst_num = []\n",
    "lst_cate = ['hypertension', 'heart_disease']\n",
    "#These are the categorical variables but types are continuous variables"
   ]
  },
  {
   "cell_type": "code",
   "execution_count": 194,
   "id": "e1720e8e",
   "metadata": {},
   "outputs": [
    {
     "name": "stdout",
     "output_type": "stream",
     "text": [
      "stroke\n",
      "0    4733\n",
      "1     248\n",
      "Name: stroke, dtype: int64\n"
     ]
    },
    {
     "data": {
      "image/png": "[encoded data removed]",
      "text/plain": [
       "<Figure size 576x576 with 1 Axes>"
      ]
     },
     "metadata": {},
     "output_type": "display_data"
    }
   ],
   "source": [
    "print(data.groupby('stroke')['stroke'].count())\n",
    "plt.figure(figsize=(8,8))\n",
    "data.groupby('stroke')['stroke'].count().plot(kind='pie');"
   ]
  },
  {
   "cell_type": "markdown",
   "id": "587ae8c9",
   "metadata": {},
   "source": [
    "<font size=\"4\">Dataset is imbalanced</font>"
   ]
  },
  {
   "cell_type": "markdown",
   "id": "fe458685",
   "metadata": {},
   "source": [
    "## Continuous Variables Analysis"
   ]
  },
  {
   "cell_type": "code",
   "execution_count": 195,
   "id": "9a17c1c7",
   "metadata": {},
   "outputs": [
    {
     "data": {
      "image/png": "[encoded data removed]",
      "text/plain": [
       "<Figure size 720x576 with 2 Axes>"
      ]
     },
     "metadata": {
      "needs_background": "light"
     },
     "output_type": "display_data"
    }
   ],
   "source": [
    "plt.figure(figsize=(10,8))\n",
    "sns.heatmap(data=data.drop(columns=['hypertension', 'heart_disease']).corr(), annot=True)\n",
    "plt.show();"
   ]
  },
  {
   "cell_type": "markdown",
   "id": "90776ae6",
   "metadata": {},
   "source": [
    "<font size=\"4\">As the chart illustrates,</font>\n",
    "<font size=\"4\">there are no features that have high correlation</font>"
   ]
  },
  {
   "cell_type": "code",
   "execution_count": 196,
   "id": "154ca060",
   "metadata": {},
   "outputs": [],
   "source": [
    "lst_num = []\n",
    "for i in data.columns:\n",
    "    if(i != 'stroke' and data[i].dtypes != 'O' and i not in lst_cate):\n",
    "        lst_num.append(i)"
   ]
  },
  {
   "cell_type": "code",
   "execution_count": 197,
   "id": "f1483ced",
   "metadata": {},
   "outputs": [
    {
     "data": {
      "image/png": "[encoded data removed]",
      "text/plain": [
       "<Figure size 1728x576 with 3 Axes>"
      ]
     },
     "metadata": {
      "needs_background": "light"
     },
     "output_type": "display_data"
    }
   ],
   "source": [
    "idx = 0\n",
    "fig, axs = plt.subplots(1, 3, figsize=(24,8))\n",
    "for i in range(3):\n",
    "    sns.histplot(ax=axs[i], data=data, x=lst_num[idx], hue='stroke', kde=True)\n",
    "    axs[i].set_title('The distribution of stroke with different kind of ' + lst_num[idx])\n",
    "    idx += 1"
   ]
  },
  {
   "cell_type": "markdown",
   "id": "419cde2b",
   "metadata": {},
   "source": [
    "<font size=\"4\">Most of people who have stroke usually have bmi around 27-32</font>\n",
    "\n",
    "<font size=\"4\">Most of features are overlapped so it is hard to come to a conclusion</font>\n",
    "\n",
    "<font size=\"4\">But at bmi graph I can infer that people who have stroke usually have bmi around 27-32</font>"
   ]
  },
  {
   "cell_type": "markdown",
   "id": "c687b62f",
   "metadata": {},
   "source": [
    "* #------------------------------------------Welch's t-test-------------------------------------------------------#\n",
    "\n",
    "- H0: There are differences between lst_0 and lst_1 aka mean(lst_0) == mean(lst_1)\n",
    "- Ha: There are NO differences between lst0 and lst_1 aka mean(lst_0) != mean(lst_1)\n",
    "\n",
    "* #-------------------------------------------------------------------------------------------------------------------#"
   ]
  },
  {
   "cell_type": "code",
   "execution_count": 198,
   "id": "7f0acc84",
   "metadata": {},
   "outputs": [
    {
     "name": "stdout",
     "output_type": "stream",
     "text": [
      "p-value = 0.00, alpha = 0.05\n",
      "p < alpha => reject H0 => there are differences between age and estroke\n",
      "\n",
      "\n",
      "p-value = 0.00, alpha = 0.05\n",
      "p < alpha => reject H0 => there are differences between avg_glucose_level and estroke\n",
      "\n",
      "\n",
      "p-value = 0.00, alpha = 0.05\n",
      "p < alpha => reject H0 => there are differences between bmi and estroke\n",
      "\n",
      "\n"
     ]
    }
   ],
   "source": [
    "alpha = .05\n",
    "for i in lst_num:\n",
    "    lst_0 = data[i].loc[data['stroke'] == 0]\n",
    "    lst_1 = data[i].loc[data['stroke'] == 1]\n",
    "    t, p = ttest_ind(lst_0, lst_1, equal_var = False)\n",
    "#--------------------------------------------------------------------------------\n",
    "    print(f'p-value = {p:.2f}, alpha = {alpha:.2f}')\n",
    "    if (p < alpha):\n",
    "        print('p < alpha => reject H0 => there are differences between', i, 'and estroke')\n",
    "    else:\n",
    "        print('p > alpha => FAILED to reject H0 => there are NO differences between', i, 'and stroke')\n",
    "    print('\\n')"
   ]
  },
  {
   "cell_type": "markdown",
   "id": "71f62eac",
   "metadata": {},
   "source": [
    "<font size=\"4\">All features are reject H0, so all the features affect to the stroke condition</font>"
   ]
  },
  {
   "cell_type": "markdown",
   "id": "72f56196",
   "metadata": {},
   "source": [
    "## Categorical Variables Analysis"
   ]
  },
  {
   "cell_type": "code",
   "execution_count": 199,
   "id": "c6bf7cda",
   "metadata": {},
   "outputs": [],
   "source": [
    "for i in data.columns:\n",
    "    if(i != 'stroke' and data[i].dtypes == 'O'):\n",
    "        lst_cate.append(i)"
   ]
  },
  {
   "cell_type": "code",
   "execution_count": 200,
   "id": "0eb3a436",
   "metadata": {},
   "outputs": [
    {
     "data": {
      "image/png": "[encoded data removed]",
      "text/plain": [
       "<Figure size 1440x720 with 6 Axes>"
      ]
     },
     "metadata": {
      "needs_background": "light"
     },
     "output_type": "display_data"
    }
   ],
   "source": [
    "rows = 2\n",
    "columns = 3\n",
    "idx = 0\n",
    "fig, axs = plt.subplots(rows, columns, figsize=(20,10))\n",
    "for i in range(rows):\n",
    "    for j in range(columns):\n",
    "        sns.countplot(ax=axs[i, j], data=data, x='stroke', hue=lst_cate[idx], palette='mako')\n",
    "        axs[i, j].set_title('The number of stroke with different kind of ' + lst_cate[idx])\n",
    "        idx += 1"
   ]
  },
  {
   "cell_type": "code",
   "execution_count": 201,
   "id": "deeb984a",
   "metadata": {},
   "outputs": [
    {
     "data": {
      "image/png": "[encoded data removed]",
      "text/plain": [
       "<Figure size 432x432 with 1 Axes>"
      ]
     },
     "metadata": {
      "needs_background": "light"
     },
     "output_type": "display_data"
    }
   ],
   "source": [
    "plt.figure(figsize=(6,6))\n",
    "sns.countplot( data=data, x='stroke', hue=lst_cate[-1], palette='mako')\n",
    "plt.title('The number of stroke with different kind of ' + lst_cate[-1])\n",
    "plt.show();"
   ]
  },
  {
   "cell_type": "markdown",
   "id": "ee33b98b",
   "metadata": {},
   "source": [
    "<font size=\"4\">Allow me to do inferential analytics so the conclusion of important features can be made</font>"
   ]
  },
  {
   "cell_type": "markdown",
   "id": "8bd118ed",
   "metadata": {},
   "source": [
    "* #------------------------------------------Chi Square Test-------------------------------------------------------#\n",
    "\n",
    "- H0: lst_0 and lst_1 are DEPENDENT\n",
    "- Ha: lst0 and lst_1 are INDEPENDENT\n",
    "\n",
    "* #-------------------------------------------------------------------------------------------------------------------#"
   ]
  },
  {
   "cell_type": "code",
   "execution_count": 202,
   "id": "8178166c",
   "metadata": {},
   "outputs": [
    {
     "name": "stdout",
     "output_type": "stream",
     "text": [
      "p-value = 0.00, alpha = 0.05\n",
      "p < alpha => reject H0 =>  hypertension and stroke are DEPENDENT\n",
      "\n",
      "\n",
      "p-value = 0.00, alpha = 0.05\n",
      "p < alpha => reject H0 =>  heart_disease and stroke are DEPENDENT\n",
      "\n",
      "\n",
      "p-value = 0.58, alpha = 0.05\n",
      "p > alpha => FAILED to reject H0 => gender and stroke are INDEPENDENT\n",
      "\n",
      "\n",
      "p-value = 0.00, alpha = 0.05\n",
      "p < alpha => reject H0 =>  ever_married and stroke are DEPENDENT\n",
      "\n",
      "\n",
      "p-value = 0.00, alpha = 0.05\n",
      "p < alpha => reject H0 =>  work_type and stroke are DEPENDENT\n",
      "\n",
      "\n",
      "p-value = 0.27, alpha = 0.05\n",
      "p > alpha => FAILED to reject H0 => Residence_type and stroke are INDEPENDENT\n",
      "\n",
      "\n",
      "p-value = 0.00, alpha = 0.05\n",
      "p < alpha => reject H0 =>  smoking_status and stroke are DEPENDENT\n",
      "\n",
      "\n"
     ]
    }
   ],
   "source": [
    "alpha = .05\n",
    "for i in lst_cate:\n",
    "    table = pd.crosstab(data[i], data['stroke'])\n",
    "    stat, p, dof, expected = chi2_contingency(table)\n",
    "#--------------------------------------------------------------------------------\n",
    "    print(f'p-value = {p:.2f}, alpha = {alpha:.2f}')\n",
    "    if (p < alpha):\n",
    "        print('p < alpha => reject H0 => ', i, 'and stroke are DEPENDENT')\n",
    "    else:\n",
    "        print('p > alpha => FAILED to reject H0 =>', i, 'and stroke are INDEPENDENT')\n",
    "    print('\\n')"
   ]
  },
  {
   "cell_type": "markdown",
   "id": "d5da2a7b",
   "metadata": {},
   "source": [
    "<font size=\"4\">Most of features are reject H0 meaning they affected to the stroke condition</font>\n",
    "\n",
    "<font size=\"4\">Except for residence_type and gender failed to reject H0 meaning they have no affection to stroke condition</font>\n",
    "\n",
    "<font size=\"4\">I remove them from the dataset</font>"
   ]
  },
  {
   "cell_type": "code",
   "execution_count": 203,
   "id": "bf03b1d2",
   "metadata": {},
   "outputs": [],
   "source": [
    "final_data = data.drop(columns=['Residence_type', 'gender'])"
   ]
  },
  {
   "cell_type": "markdown",
   "id": "5271dd42",
   "metadata": {},
   "source": [
    "# Features Transformation"
   ]
  },
  {
   "cell_type": "code",
   "execution_count": 204,
   "id": "ac4872b3",
   "metadata": {},
   "outputs": [],
   "source": [
    "label_encoder = LabelEncoder()\n",
    "final_data['ever_married'] = label_encoder.fit_transform(final_data['ever_married'])"
   ]
  },
  {
   "cell_type": "code",
   "execution_count": 205,
   "id": "42a940d0",
   "metadata": {},
   "outputs": [
    {
     "data": {
      "text/html": [
       "<div>\n",
       "<style scoped>\n",
       "    .dataframe tbody tr th:only-of-type {\n",
       "        vertical-align: middle;\n",
       "    }\n",
       "\n",
       "    .dataframe tbody tr th {\n",
       "        vertical-align: top;\n",
       "    }\n",
       "\n",
       "    .dataframe thead th {\n",
       "        text-align: right;\n",
       "    }\n",
       "</style>\n",
       "<table border=\"1\" class=\"dataframe\">\n",
       "  <thead>\n",
       "    <tr style=\"text-align: right;\">\n",
       "      <th></th>\n",
       "      <th>age</th>\n",
       "      <th>hypertension</th>\n",
       "      <th>heart_disease</th>\n",
       "      <th>ever_married</th>\n",
       "      <th>avg_glucose_level</th>\n",
       "      <th>bmi</th>\n",
       "      <th>stroke</th>\n",
       "      <th>work_type_Private</th>\n",
       "      <th>work_type_Self-employed</th>\n",
       "      <th>work_type_children</th>\n",
       "      <th>smoking_status_formerly smoked</th>\n",
       "      <th>smoking_status_never smoked</th>\n",
       "      <th>smoking_status_smokes</th>\n",
       "    </tr>\n",
       "  </thead>\n",
       "  <tbody>\n",
       "    <tr>\n",
       "      <th>0</th>\n",
       "      <td>67.0</td>\n",
       "      <td>0</td>\n",
       "      <td>1</td>\n",
       "      <td>1</td>\n",
       "      <td>228.69</td>\n",
       "      <td>36.6</td>\n",
       "      <td>1</td>\n",
       "      <td>1</td>\n",
       "      <td>0</td>\n",
       "      <td>0</td>\n",
       "      <td>1</td>\n",
       "      <td>0</td>\n",
       "      <td>0</td>\n",
       "    </tr>\n",
       "    <tr>\n",
       "      <th>1</th>\n",
       "      <td>80.0</td>\n",
       "      <td>0</td>\n",
       "      <td>1</td>\n",
       "      <td>1</td>\n",
       "      <td>105.92</td>\n",
       "      <td>32.5</td>\n",
       "      <td>1</td>\n",
       "      <td>1</td>\n",
       "      <td>0</td>\n",
       "      <td>0</td>\n",
       "      <td>0</td>\n",
       "      <td>1</td>\n",
       "      <td>0</td>\n",
       "    </tr>\n",
       "    <tr>\n",
       "      <th>2</th>\n",
       "      <td>49.0</td>\n",
       "      <td>0</td>\n",
       "      <td>0</td>\n",
       "      <td>1</td>\n",
       "      <td>171.23</td>\n",
       "      <td>34.4</td>\n",
       "      <td>1</td>\n",
       "      <td>1</td>\n",
       "      <td>0</td>\n",
       "      <td>0</td>\n",
       "      <td>0</td>\n",
       "      <td>0</td>\n",
       "      <td>1</td>\n",
       "    </tr>\n",
       "    <tr>\n",
       "      <th>3</th>\n",
       "      <td>79.0</td>\n",
       "      <td>1</td>\n",
       "      <td>0</td>\n",
       "      <td>1</td>\n",
       "      <td>174.12</td>\n",
       "      <td>24.0</td>\n",
       "      <td>1</td>\n",
       "      <td>0</td>\n",
       "      <td>1</td>\n",
       "      <td>0</td>\n",
       "      <td>0</td>\n",
       "      <td>1</td>\n",
       "      <td>0</td>\n",
       "    </tr>\n",
       "    <tr>\n",
       "      <th>4</th>\n",
       "      <td>81.0</td>\n",
       "      <td>0</td>\n",
       "      <td>0</td>\n",
       "      <td>1</td>\n",
       "      <td>186.21</td>\n",
       "      <td>29.0</td>\n",
       "      <td>1</td>\n",
       "      <td>1</td>\n",
       "      <td>0</td>\n",
       "      <td>0</td>\n",
       "      <td>1</td>\n",
       "      <td>0</td>\n",
       "      <td>0</td>\n",
       "    </tr>\n",
       "  </tbody>\n",
       "</table>\n",
       "</div>"
      ],
      "text/plain": [
       "    age  hypertension  heart_disease  ever_married  avg_glucose_level   bmi  \\\n",
       "0  67.0             0              1             1             228.69  36.6   \n",
       "1  80.0             0              1             1             105.92  32.5   \n",
       "2  49.0             0              0             1             171.23  34.4   \n",
       "3  79.0             1              0             1             174.12  24.0   \n",
       "4  81.0             0              0             1             186.21  29.0   \n",
       "\n",
       "   stroke  work_type_Private  work_type_Self-employed  work_type_children  \\\n",
       "0       1                  1                        0                   0   \n",
       "1       1                  1                        0                   0   \n",
       "2       1                  1                        0                   0   \n",
       "3       1                  0                        1                   0   \n",
       "4       1                  1                        0                   0   \n",
       "\n",
       "   smoking_status_formerly smoked  smoking_status_never smoked  \\\n",
       "0                               1                            0   \n",
       "1                               0                            1   \n",
       "2                               0                            0   \n",
       "3                               0                            1   \n",
       "4                               1                            0   \n",
       "\n",
       "   smoking_status_smokes  \n",
       "0                      0  \n",
       "1                      0  \n",
       "2                      1  \n",
       "3                      0  \n",
       "4                      0  "
      ]
     },
     "execution_count": 205,
     "metadata": {},
     "output_type": "execute_result"
    }
   ],
   "source": [
    "final_data = pd.get_dummies(final_data, drop_first=True)\n",
    "final_data.head()"
   ]
  },
  {
   "cell_type": "markdown",
   "id": "6e793845",
   "metadata": {},
   "source": [
    "# Model - Detection"
   ]
  },
  {
   "cell_type": "code",
   "execution_count": 206,
   "id": "bcaad273",
   "metadata": {},
   "outputs": [],
   "source": [
    "X = final_data.drop(columns=['stroke'])\n",
    "y = data['stroke']"
   ]
  },
  {
   "cell_type": "code",
   "execution_count": 207,
   "id": "d57be982",
   "metadata": {},
   "outputs": [],
   "source": [
    "X_train, X_test, y_train, y_test = train_test_split(X, y, test_size=0.3)"
   ]
  },
  {
   "cell_type": "code",
   "execution_count": 208,
   "id": "d739fe6e",
   "metadata": {},
   "outputs": [
    {
     "name": "stdout",
     "output_type": "stream",
     "text": [
      "label yes before: 173\n",
      "label no before: 3313\n"
     ]
    }
   ],
   "source": [
    "label_yes_before = y_train.where(y_train == 1).count()\n",
    "label_no_before = y_train.where(y_train == 0).count()\n",
    "print('label yes before:', label_yes_before)\n",
    "print('label no before:', label_no_before)"
   ]
  },
  {
   "cell_type": "code",
   "execution_count": 209,
   "id": "e0f7c1bf",
   "metadata": {},
   "outputs": [],
   "source": [
    "ros = RandomOverSampler()\n",
    "X_train, y_train = ros.fit_resample(X_train, y_train)"
   ]
  },
  {
   "cell_type": "code",
   "execution_count": 210,
   "id": "5b42b31d",
   "metadata": {},
   "outputs": [
    {
     "name": "stdout",
     "output_type": "stream",
     "text": [
      "label yes after: 3313\n",
      "label no after: 3313\n"
     ]
    }
   ],
   "source": [
    "label_yes_after = y_train.where(y_train == 1).count()\n",
    "label_no_after = y_train.where(y_train == 0).count()\n",
    "print('label yes after:', label_yes_after)\n",
    "print('label no after:', label_no_after)"
   ]
  },
  {
   "cell_type": "code",
   "execution_count": 211,
   "id": "72c8c5f3",
   "metadata": {},
   "outputs": [],
   "source": [
    "mm_scaler = MinMaxScaler()\n",
    "X_train = mm_scaler.fit_transform(X_train)\n",
    "X_test = mm_scaler.transform(X_test)"
   ]
  },
  {
   "cell_type": "code",
   "execution_count": 212,
   "id": "c07dfc72",
   "metadata": {},
   "outputs": [],
   "source": [
    "models= [LogisticRegression(), GaussianNB(), KNeighborsClassifier(n_neighbors=11), \n",
    "         RandomForestClassifier(), DecisionTreeClassifier(), XGBClassifier(), SVC()]\n",
    "scores= []\n",
    "test_score_accuracy = []\n",
    "test_score_recall = []\n",
    "test_score_precision = []\n",
    "train_times = []\n",
    "names= []"
   ]
  },
  {
   "cell_type": "code",
   "execution_count": 213,
   "id": "948d0229",
   "metadata": {},
   "outputs": [
    {
     "data": {
      "text/html": [
       "<div>\n",
       "<style scoped>\n",
       "    .dataframe tbody tr th:only-of-type {\n",
       "        vertical-align: middle;\n",
       "    }\n",
       "\n",
       "    .dataframe tbody tr th {\n",
       "        vertical-align: top;\n",
       "    }\n",
       "\n",
       "    .dataframe thead th {\n",
       "        text-align: right;\n",
       "    }\n",
       "</style>\n",
       "<table border=\"1\" class=\"dataframe\">\n",
       "  <thead>\n",
       "    <tr style=\"text-align: right;\">\n",
       "      <th></th>\n",
       "      <th>Model</th>\n",
       "      <th>Score_Test</th>\n",
       "      <th>Time_Train</th>\n",
       "    </tr>\n",
       "  </thead>\n",
       "  <tbody>\n",
       "    <tr>\n",
       "      <th>0</th>\n",
       "      <td>LogisticRegression</td>\n",
       "      <td>0.787504</td>\n",
       "      <td>0.121675</td>\n",
       "    </tr>\n",
       "    <tr>\n",
       "      <th>1</th>\n",
       "      <td>GaussianNB</td>\n",
       "      <td>0.745697</td>\n",
       "      <td>0.019017</td>\n",
       "    </tr>\n",
       "    <tr>\n",
       "      <th>2</th>\n",
       "      <td>KNeighborsClassifier</td>\n",
       "      <td>0.887561</td>\n",
       "      <td>0.299286</td>\n",
       "    </tr>\n",
       "    <tr>\n",
       "      <th>3</th>\n",
       "      <td>RandomForestClassifier</td>\n",
       "      <td>0.989585</td>\n",
       "      <td>13.935482</td>\n",
       "    </tr>\n",
       "    <tr>\n",
       "      <th>4</th>\n",
       "      <td>DecisionTreeClassifier</td>\n",
       "      <td>0.977056</td>\n",
       "      <td>0.963697</td>\n",
       "    </tr>\n",
       "    <tr>\n",
       "      <th>5</th>\n",
       "      <td>XGBClassifier</td>\n",
       "      <td>0.977363</td>\n",
       "      <td>1.166839</td>\n",
       "    </tr>\n",
       "    <tr>\n",
       "      <th>6</th>\n",
       "      <td>SVC</td>\n",
       "      <td>0.806523</td>\n",
       "      <td>5.872557</td>\n",
       "    </tr>\n",
       "  </tbody>\n",
       "</table>\n",
       "</div>"
      ],
      "text/plain": [
       "                    Model  Score_Test  Time_Train\n",
       "0      LogisticRegression    0.787504    0.121675\n",
       "1              GaussianNB    0.745697    0.019017\n",
       "2    KNeighborsClassifier    0.887561    0.299286\n",
       "3  RandomForestClassifier    0.989585   13.935482\n",
       "4  DecisionTreeClassifier    0.977056    0.963697\n",
       "5           XGBClassifier    0.977363    1.166839\n",
       "6                     SVC    0.806523    5.872557"
      ]
     },
     "execution_count": 213,
     "metadata": {},
     "output_type": "execute_result"
    }
   ],
   "source": [
    "for model in models:\n",
    "    start= time.time()\n",
    "    scores.append(cross_val_score(model, X_train, y_train, scoring= 'accuracy', cv= 10).mean())\n",
    "    end = time.time()\n",
    "    train_times.append(end-start)\n",
    "    names.append(model.__class__.__name__)\n",
    "\n",
    "df= pd.DataFrame(scores, columns=['Score_Test'], index= range(len(models)))\n",
    "df.insert(1, 'Time_Train', pd.Series(train_times))\n",
    "df.insert(0, 'Model', pd.Series(names))\n",
    "df"
   ]
  },
  {
   "cell_type": "code",
   "execution_count": 214,
   "id": "5fef8579",
   "metadata": {},
   "outputs": [
    {
     "name": "stdout",
     "output_type": "stream",
     "text": [
      "LogisticRegression\n",
      "              precision    recall  f1-score   support\n",
      "\n",
      "           0       0.98      0.73      0.84      1420\n",
      "           1       0.13      0.76      0.22        75\n",
      "\n",
      "    accuracy                           0.73      1495\n",
      "   macro avg       0.56      0.75      0.53      1495\n",
      "weighted avg       0.94      0.73      0.81      1495\n",
      " \n",
      "\n",
      "GaussianNB\n",
      "              precision    recall  f1-score   support\n",
      "\n",
      "           0       0.99      0.59      0.74      1420\n",
      "           1       0.10      0.87      0.18        75\n",
      "\n",
      "    accuracy                           0.60      1495\n",
      "   macro avg       0.54      0.73      0.46      1495\n",
      "weighted avg       0.94      0.60      0.71      1495\n",
      " \n",
      "\n",
      "KNeighborsClassifier\n",
      "              precision    recall  f1-score   support\n",
      "\n",
      "           0       0.97      0.80      0.88      1420\n",
      "           1       0.12      0.52      0.20        75\n",
      "\n",
      "    accuracy                           0.79      1495\n",
      "   macro avg       0.55      0.66      0.54      1495\n",
      "weighted avg       0.93      0.79      0.85      1495\n",
      " \n",
      "\n",
      "RandomForestClassifier\n",
      "              precision    recall  f1-score   support\n",
      "\n",
      "           0       0.95      0.99      0.97      1420\n",
      "           1       0.11      0.03      0.04        75\n",
      "\n",
      "    accuracy                           0.94      1495\n",
      "   macro avg       0.53      0.51      0.51      1495\n",
      "weighted avg       0.91      0.94      0.92      1495\n",
      " \n",
      "\n",
      "DecisionTreeClassifier\n",
      "              precision    recall  f1-score   support\n",
      "\n",
      "           0       0.96      0.96      0.96      1420\n",
      "           1       0.18      0.15      0.16        75\n",
      "\n",
      "    accuracy                           0.92      1495\n",
      "   macro avg       0.57      0.56      0.56      1495\n",
      "weighted avg       0.92      0.92      0.92      1495\n",
      " \n",
      "\n",
      "XGBClassifier\n",
      "              precision    recall  f1-score   support\n",
      "\n",
      "           0       0.96      0.95      0.96      1420\n",
      "           1       0.21      0.23      0.22        75\n",
      "\n",
      "    accuracy                           0.92      1495\n",
      "   macro avg       0.58      0.59      0.59      1495\n",
      "weighted avg       0.92      0.92      0.92      1495\n",
      " \n",
      "\n",
      "SVC\n",
      "              precision    recall  f1-score   support\n",
      "\n",
      "           0       0.97      0.75      0.85      1420\n",
      "           1       0.12      0.63      0.20        75\n",
      "\n",
      "    accuracy                           0.75      1495\n",
      "   macro avg       0.55      0.69      0.52      1495\n",
      "weighted avg       0.93      0.75      0.82      1495\n",
      " \n",
      "\n"
     ]
    },
    {
     "data": {
      "text/html": [
       "<div>\n",
       "<style scoped>\n",
       "    .dataframe tbody tr th:only-of-type {\n",
       "        vertical-align: middle;\n",
       "    }\n",
       "\n",
       "    .dataframe tbody tr th {\n",
       "        vertical-align: top;\n",
       "    }\n",
       "\n",
       "    .dataframe thead th {\n",
       "        text-align: right;\n",
       "    }\n",
       "</style>\n",
       "<table border=\"1\" class=\"dataframe\">\n",
       "  <thead>\n",
       "    <tr style=\"text-align: right;\">\n",
       "      <th></th>\n",
       "      <th>Model</th>\n",
       "      <th>Score_Test</th>\n",
       "      <th>Time_Train</th>\n",
       "      <th>Test_Score_Accuracy</th>\n",
       "      <th>Test_Score_Recall</th>\n",
       "      <th>Test_Score_Precision</th>\n",
       "    </tr>\n",
       "  </thead>\n",
       "  <tbody>\n",
       "    <tr>\n",
       "      <th>0</th>\n",
       "      <td>LogisticRegression</td>\n",
       "      <td>0.787504</td>\n",
       "      <td>0.121675</td>\n",
       "      <td>0.734448</td>\n",
       "      <td>0.760000</td>\n",
       "      <td>0.130734</td>\n",
       "    </tr>\n",
       "    <tr>\n",
       "      <th>1</th>\n",
       "      <td>GaussianNB</td>\n",
       "      <td>0.745697</td>\n",
       "      <td>0.019017</td>\n",
       "      <td>0.604682</td>\n",
       "      <td>0.866667</td>\n",
       "      <td>0.100619</td>\n",
       "    </tr>\n",
       "    <tr>\n",
       "      <th>2</th>\n",
       "      <td>KNeighborsClassifier</td>\n",
       "      <td>0.887561</td>\n",
       "      <td>0.299286</td>\n",
       "      <td>0.790635</td>\n",
       "      <td>0.520000</td>\n",
       "      <td>0.123418</td>\n",
       "    </tr>\n",
       "    <tr>\n",
       "      <th>3</th>\n",
       "      <td>RandomForestClassifier</td>\n",
       "      <td>0.989585</td>\n",
       "      <td>13.935482</td>\n",
       "      <td>0.940468</td>\n",
       "      <td>0.026667</td>\n",
       "      <td>0.111111</td>\n",
       "    </tr>\n",
       "    <tr>\n",
       "      <th>4</th>\n",
       "      <td>DecisionTreeClassifier</td>\n",
       "      <td>0.977056</td>\n",
       "      <td>0.963697</td>\n",
       "      <td>0.923077</td>\n",
       "      <td>0.146667</td>\n",
       "      <td>0.177419</td>\n",
       "    </tr>\n",
       "    <tr>\n",
       "      <th>5</th>\n",
       "      <td>XGBClassifier</td>\n",
       "      <td>0.977363</td>\n",
       "      <td>1.166839</td>\n",
       "      <td>0.917726</td>\n",
       "      <td>0.226667</td>\n",
       "      <td>0.207317</td>\n",
       "    </tr>\n",
       "    <tr>\n",
       "      <th>6</th>\n",
       "      <td>SVC</td>\n",
       "      <td>0.806523</td>\n",
       "      <td>5.872557</td>\n",
       "      <td>0.745151</td>\n",
       "      <td>0.626667</td>\n",
       "      <td>0.117500</td>\n",
       "    </tr>\n",
       "  </tbody>\n",
       "</table>\n",
       "</div>"
      ],
      "text/plain": [
       "                    Model  Score_Test  Time_Train  Test_Score_Accuracy  \\\n",
       "0      LogisticRegression    0.787504    0.121675             0.734448   \n",
       "1              GaussianNB    0.745697    0.019017             0.604682   \n",
       "2    KNeighborsClassifier    0.887561    0.299286             0.790635   \n",
       "3  RandomForestClassifier    0.989585   13.935482             0.940468   \n",
       "4  DecisionTreeClassifier    0.977056    0.963697             0.923077   \n",
       "5           XGBClassifier    0.977363    1.166839             0.917726   \n",
       "6                     SVC    0.806523    5.872557             0.745151   \n",
       "\n",
       "   Test_Score_Recall  Test_Score_Precision  \n",
       "0           0.760000              0.130734  \n",
       "1           0.866667              0.100619  \n",
       "2           0.520000              0.123418  \n",
       "3           0.026667              0.111111  \n",
       "4           0.146667              0.177419  \n",
       "5           0.226667              0.207317  \n",
       "6           0.626667              0.117500  "
      ]
     },
     "execution_count": 214,
     "metadata": {},
     "output_type": "execute_result"
    }
   ],
   "source": [
    "for model in models:\n",
    "    model.fit(X_train, y_train)\n",
    "    y_pred = model.predict(X_test)\n",
    "    score_acc = accuracy_score(y_test, y_pred)\n",
    "    score_recall = recall_score(y_test, y_pred)\n",
    "    score_precision = precision_score(y_test, y_pred)\n",
    "    #------------------------------------------------\n",
    "    test_score_accuracy.append(score_acc)\n",
    "    test_score_recall.append(score_recall)\n",
    "    test_score_precision.append(score_precision)\n",
    "    cm = classification_report(y_test, y_pred)\n",
    "    print(model.__class__.__name__)\n",
    "    print(cm, '\\n')\n",
    "df['Test_Score_Accuracy'] = test_score_accuracy\n",
    "df['Test_Score_Recall'] = test_score_recall\n",
    "df['Test_Score_Precision'] = test_score_precision\n",
    "df"
   ]
  },
  {
   "cell_type": "markdown",
   "id": "12b550ca",
   "metadata": {},
   "source": [
    "<font size=\"4\">The model should focus on the error type II (the person who really have stroke but the model failed to detect stroke). So I will choose model has high score in recall for class 1(stroke)</font>"
   ]
  },
  {
   "cell_type": "code",
   "execution_count": 229,
   "id": "f0b25faa",
   "metadata": {},
   "outputs": [
    {
     "data": {
      "image/png": "[encoded data removed]",
      "text/plain": [
       "<Figure size 576x576 with 1 Axes>"
      ]
     },
     "metadata": {
      "needs_background": "light"
     },
     "output_type": "display_data"
    }
   ],
   "source": [
    "plt.figure(figsize=(8,8))\n",
    "data=df.groupby(['Model'])['Test_Score_Recall'].mean().sort_values().plot(kind='bar')\n",
    "plt.title('Recall score of each models')\n",
    "plt.show()"
   ]
  },
  {
   "cell_type": "markdown",
   "id": "b188be88",
   "metadata": {},
   "source": [
    "<font size=\"4\">GaussianNB is the suitable model for the stroke detection from here</font>"
   ]
  },
  {
   "cell_type": "markdown",
   "id": "44db89fe",
   "metadata": {},
   "source": [
    "# Conclusion"
   ]
  },
  {
   "cell_type": "markdown",
   "id": "bd80ebe9",
   "metadata": {},
   "source": [
    "<font size=\"4\">Because of imbalanced dataset, the model may bias the larger classes. However the model is used for prediction or classification in health issues, it should only act as the support for the expert to reduce the workloads, not safe and accuracy enough to use automatically without human intervention.</font>"
   ]
  }
 ],
 "metadata": {
  "kernelspec": {
   "display_name": "Python 3 (ipykernel)",
   "language": "python",
   "name": "python3"
  },
  "language_info": {
   "codemirror_mode": {
    "name": "ipython",
    "version": 3
   },
   "file_extension": ".py",
   "mimetype": "text/x-python",
   "name": "python",
   "nbconvert_exporter": "python",
   "pygments_lexer": "ipython3",
   "version": "3.9.2rc1"
  }
 },
 "nbformat": 4,
 "nbformat_minor": 5
}
